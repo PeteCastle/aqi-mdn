{
 "cells": [
  {
   "cell_type": "code",
   "execution_count": 1,
   "id": "ce4ab5b2",
   "metadata": {},
   "outputs": [],
   "source": [
    "import glob\n",
    "import os\n",
    "import time\n",
    "import math\n",
    "import hashlib\n",
    "import numpy as np\n",
    "import pandas as pd\n",
    "from pathlib import Path\n",
    "from tqdm import tqdm\n",
    "import torch\n",
    "import torch.nn as nn\n",
    "import torch.nn.functional as F\n",
    "from torch.utils.data import Dataset, DataLoader, ConcatDataset\n",
    "import optuna\n",
    "import matplotlib.pyplot as plt\n",
    "import numpy as np\n",
    "import pickle\n",
    "from scipy.stats import norm\n",
    "import matplotlib.pyplot as plt\n",
    "import numpy as np\n",
    "import math\n",
    "import imageio\n",
    "from PIL import Image"
   ]
  },
  {
   "cell_type": "code",
   "execution_count": 2,
   "id": "02a72a28",
   "metadata": {},
   "outputs": [],
   "source": [
    "# For Jojie\n",
    "DATASET_DIR = Path('/mnt/processed/private/msds2025/cpt3/ml3/finalproject/datasets')\n",
    "CACHE_DIR = Path('/mnt/processed/private/msds2025/cpt3/ml3/finalproject/cache')\n",
    "WEIGHTS_DIR = Path('/mnt/processed/private/msds2025/cpt3/ml3/finalproject/weights')\n",
    "OUTPUT_DIR = Path('/mnt/processed/private/msds2025/cpt3/ml3/finalproject/output')\n",
    "\n",
    "# For Local Development\n",
    "# DATASET_DIR = Path(\"datasets/\")\n",
    "# CACHE_DIR = Path(\"cache/\")\n",
    "# WEIGHTS_DIR = Path(\"weights/\")\n",
    "# OUTPUT_DIR = Path(\"output/\")\n",
    "\n",
    "DATASET_DIR.mkdir(parents=True, exist_ok=True)\n",
    "CACHE_DIR.mkdir(parents=True, exist_ok=True)\n",
    "OUTPUT_DIR.mkdir(parents=True, exist_ok=True)\n",
    "WEIGHTS_DIR.mkdir(parents=True, exist_ok=True)\n",
    "\n",
    "CITY_NAMES = [\n",
    "    \"Caloocan City\",\n",
    "    \"Las Piñas\",\n",
    "    \"Makati City\",\n",
    "    \"Malabon\",\n",
    "    \"Mandaluyong City\",\n",
    "    \"Manila\",\n",
    "    \"Marikina\", # Data not Available\n",
    "    \"Muntinlupa\", # Data not Available\n",
    "    \"Navotas\",\n",
    "    \"Paranaque City\",\n",
    "    \"Pasay\", # Data not Available\n",
    "    \"Pasig\",\n",
    "    \"Pateros\", # Data not Available\n",
    "    \"Quezon City\",\n",
    "    \"San Juan\",\n",
    "    \"Taguig\",\n",
    "    \"Valenzuela\",\n",
    "]\n",
    "\n",
    "POLLUTANT_COLUMNS = [\n",
    "    \"components.co\", \"components.no\", \"components.no2\", \"components.o3\",\n",
    "    \"components.so2\", \"components.pm2_5\", \"components.pm10\"\n",
    "]"
   ]
  },
  {
   "cell_type": "code",
   "execution_count": 3,
   "id": "f19df8fe",
   "metadata": {},
   "outputs": [
    {
     "name": "stdout",
     "output_type": "stream",
     "text": [
      "Reading /mnt/processed/private/msds2025/cpt3/ml3/finalproject/datasets/aqi/2025/202502_CombinedData.csv\n",
      "Reading /mnt/processed/private/msds2025/cpt3/ml3/finalproject/datasets/aqi/2025/202503_CombinedData.csv\n",
      "Reading /mnt/processed/private/msds2025/cpt3/ml3/finalproject/datasets/aqi/2025/202501_CombinedData.csv\n",
      "Reading /mnt/processed/private/msds2025/cpt3/ml3/finalproject/datasets/aqi/2024/202405_CombinedData.csv\n",
      "Reading /mnt/processed/private/msds2025/cpt3/ml3/finalproject/datasets/aqi/2024/202411_CombinedData.csv\n",
      "Reading /mnt/processed/private/msds2025/cpt3/ml3/finalproject/datasets/aqi/2024/202401_CombinedData.csv\n",
      "Reading /mnt/processed/private/msds2025/cpt3/ml3/finalproject/datasets/aqi/2024/202404_CombinedData.csv\n",
      "Reading /mnt/processed/private/msds2025/cpt3/ml3/finalproject/datasets/aqi/2024/202410_CombinedData.csv\n",
      "Reading /mnt/processed/private/msds2025/cpt3/ml3/finalproject/datasets/aqi/2024/202407_CombinedData.csv\n",
      "Reading /mnt/processed/private/msds2025/cpt3/ml3/finalproject/datasets/aqi/2024/202403_CombinedData.csv\n",
      "Reading /mnt/processed/private/msds2025/cpt3/ml3/finalproject/datasets/aqi/2024/202408_CombinedData.csv\n",
      "Reading /mnt/processed/private/msds2025/cpt3/ml3/finalproject/datasets/aqi/2024/202412_CombinedData.csv\n",
      "Reading /mnt/processed/private/msds2025/cpt3/ml3/finalproject/datasets/aqi/2024/202406_CombinedData.csv\n",
      "Reading /mnt/processed/private/msds2025/cpt3/ml3/finalproject/datasets/aqi/2024/202402_CombinedData.csv\n",
      "Reading /mnt/processed/private/msds2025/cpt3/ml3/finalproject/datasets/aqi/2024/202409_CombinedData.csv\n",
      "Reading /mnt/processed/private/msds2025/cpt3/ml3/finalproject/datasets/aqi/2023/202312_CombinedData.csv\n",
      "Reading /mnt/processed/private/msds2025/cpt3/ml3/finalproject/datasets/aqi/2023/202311_CombinedData.csv\n"
     ]
    }
   ],
   "source": [
    "dfs = []\n",
    "for file in glob.glob(str(DATASET_DIR / \"aqi\" / \"*\" / \"*.csv\")):\n",
    "    print(f\"Reading {file}\")\n",
    "    df = pd.read_csv(file)\n",
    "    dfs.append(df)\n",
    "df = pd.concat(dfs, ignore_index=True)"
   ]
  },
  {
   "cell_type": "code",
   "execution_count": 4,
   "id": "2bfbec32",
   "metadata": {},
   "outputs": [],
   "source": [
    "df = df[df['city_name'].isin(CITY_NAMES)]\n",
    "df = df[[\"datetime\",\"components.co\",\"components.no\",\"components.no2\",\"components.o3\",\"components.so2\",\"components.pm2_5\",\"components.pm10\",\"components.nh3\",\"city_name\"]]\n",
    "df.sort_values(by=['city_name', 'datetime'], inplace=True)\n",
    "df['datetime'] = pd.to_datetime(df['datetime'], utc=True).dt.round('h')\n",
    "# df.set_index('datetime', inplace=True)\n",
    "# df['datetime'] = df['datetime'].round('h')"
   ]
  },
  {
   "cell_type": "code",
   "execution_count": 5,
   "id": "9e4132fe",
   "metadata": {},
   "outputs": [
    {
     "name": "stderr",
     "output_type": "stream",
     "text": [
      "100%|██████████| 13/13 [00:00<00:00, 68.31it/s]\n"
     ]
    }
   ],
   "source": [
    "filled_dfs = []\n",
    "for city, group in tqdm(df.groupby('city_name')):\n",
    "    group = group.set_index('datetime')\n",
    "    full_index = pd.date_range(start=group.index.min(), end=group.index.max(), freq='h')\n",
    "    group = group.groupby(level=0).mean(numeric_only=True)\n",
    "    group = group.reindex(full_index)\n",
    "    \n",
    "    group.interpolate(method='linear', inplace=True)\n",
    "    group['city_name'] = city  # Re-add city name after reindex\n",
    "    filled_dfs.append(group)\n",
    "\n",
    "filled_dfs = pd.concat(filled_dfs)"
   ]
  },
  {
   "cell_type": "code",
   "execution_count": 6,
   "id": "48017383",
   "metadata": {},
   "outputs": [],
   "source": [
    "city_column = filled_dfs['city_name'].copy()\n",
    "dataset_df = pd.get_dummies(filled_dfs, prefix='city',dtype=np.int8)\n",
    "dataset_df[\"city_name\"] = city_column"
   ]
  },
  {
   "cell_type": "markdown",
   "id": "4c0c74d5",
   "metadata": {},
   "source": [
    "## Calcualting Baseline for the Dataset\n",
    "\n",
    "As a baseline, we compute the negative log-likelihood (NLL) under a single Gaussian distribution fitted to the entire training dataset. This Gaussian has a fixed mean and standard deviation equal to the empirical mean and standard deviation of the target variable. The baseline NLL represents the performance of a model that ignores all input features and simply assumes that the target values follow a constant distribution."
   ]
  },
  {
   "cell_type": "code",
   "execution_count": 7,
   "id": "4a108ebd",
   "metadata": {},
   "outputs": [
    {
     "name": "stdout",
     "output_type": "stream",
     "text": [
      "Average Negative Log Likelihood for all cities: 15.7298\n"
     ]
    }
   ],
   "source": [
    "nlls = []\n",
    "for city_name, group in dataset_df.groupby('city_name'):\n",
    "    group = group.copy()\n",
    "    y = group.drop(columns=['city_name'])[POLLUTANT_COLUMNS]\n",
    "    y = torch.tensor(y.values, dtype=torch.float32)\n",
    "    mu = y.mean()\n",
    "    sigma = y.std()\n",
    "\n",
    "    eps = 1e-6\n",
    "    sigma = torch.clamp(sigma, min=eps)\n",
    "    z = (y - mu) / sigma\n",
    "\n",
    "    log_prob = -0.5 * 7 * math.log(2 * math.pi) - torch.sum(torch.log(sigma)) - 0.5 * torch.sum(z ** 2, dim=1)\n",
    "    nll = -log_prob.mean()\n",
    "\n",
    "    nlls.append(nll.item())\n",
    "\n",
    "print(f\"Average Negative Log Likelihood for all cities: {np.average(nlls):.4f}\", )"
   ]
  },
  {
   "cell_type": "markdown",
   "id": "75152d25",
   "metadata": {},
   "source": [
    "## Model Training"
   ]
  },
  {
   "cell_type": "code",
   "execution_count": 8,
   "id": "8cca505f",
   "metadata": {},
   "outputs": [],
   "source": [
    "class AQIDataset(Dataset):\n",
    "    def __init__(self, data, lookback, delay, min_index, max_index, step, mean, std):\n",
    "        self.data = data\n",
    "        self.lookback = lookback\n",
    "        self.delay = delay\n",
    "        self.min_index = min_index\n",
    "        self.max_index = min(max_index if max_index is not None else len(data) - delay - 1,\n",
    "                             len(data) - delay - 1)\n",
    "        self.step = step\n",
    "        self.mean = mean\n",
    "        self.std = std\n",
    "\n",
    "        param_str = f\"{self._data_hash()}_lb{lookback}_d{delay}_min{min_index}_max{self.max_index}_s{step}\"\n",
    "        samples_path = os.path.join(CACHE_DIR, f\"{param_str}_samples.pt\")\n",
    "        targets_path = os.path.join(CACHE_DIR, f\"{param_str}_targets.pt\")\n",
    "        metadata_path = os.path.join(CACHE_DIR, f\"{param_str}_metadata.pkl\")\n",
    "\n",
    "        if all(os.path.exists(p) for p in [samples_path, targets_path, metadata_path]):\n",
    "            self.samples = torch.load(samples_path)\n",
    "            self.targets = torch.load(targets_path)\n",
    "\n",
    "            with open(metadata_path, \"rb\") as f:\n",
    "                metadata = pickle.load(f)\n",
    "            self._timestamps = metadata[\"timestamps\"]\n",
    "            self.mean = metadata[\"mean\"]\n",
    "            self.std = metadata[\"std\"]\n",
    "        else:\n",
    "            samples, targets, timestamps = [], [], []\n",
    "\n",
    "            for idx in tqdm(range(self.__len__())):\n",
    "                i = self.min_index + idx + self.lookback\n",
    "                indices = range(i - self.lookback, i, self.step)\n",
    "\n",
    "                sample = self.data.iloc[indices].values  # shape: (lookback, num_features)\n",
    "                target_row = self.data.iloc[i + self.delay]\n",
    "\n",
    "                target = target_row[POLLUTANT_COLUMNS].values.astype(np.float32)\n",
    "                samples.append(sample)\n",
    "                targets.append(target)\n",
    "                timestamps.append(pd.to_datetime(target_row.name))\n",
    "\n",
    "            self.samples = torch.tensor(np.array(samples), dtype=torch.float32)\n",
    "            self.targets = torch.tensor(np.array(targets), dtype=torch.float32)\n",
    "            self._timestamps = timestamps\n",
    "\n",
    "            torch.save(self.samples, samples_path)\n",
    "            torch.save(self.targets, targets_path)\n",
    "            with open(metadata_path, \"wb\") as f:\n",
    "                pickle.dump({\n",
    "                    \"timestamps\": self._timestamps,\n",
    "                    \"mean\": self.mean,\n",
    "                    \"std\": self.std\n",
    "                }, f)\n",
    "\n",
    "    def _data_hash(self) -> str:\n",
    "        content_hash = pd.util.hash_pandas_object(self.data, index=True).values\n",
    "        combined = content_hash.tobytes()\n",
    "        return hashlib.md5(combined).hexdigest()\n",
    "\n",
    "    def __len__(self):\n",
    "        return self.max_index - self.min_index - self.lookback + 1\n",
    "\n",
    "    def __getitem__(self, index):\n",
    "        return self.samples[index], self.targets[index]\n",
    "\n",
    "    def get_metadata(self, index: int):\n",
    "        normalized_target = self.targets[index].numpy()\n",
    "        original_target = normalized_target * self.std + self.mean\n",
    "        return {\n",
    "            \"timestamp\": self._timestamps[index],\n",
    "            \"original_target\": original_target,\n",
    "            \"mean\": self.mean,\n",
    "            \"std\": self.std,\n",
    "        }\n",
    "    \n",
    "from torch.utils.data import ConcatDataset\n",
    "\n",
    "class ConcatDatasetWithMetadata(ConcatDataset):\n",
    "    def __init__(self, datasets):\n",
    "        super().__init__(datasets)\n",
    "        self._offsets = self._compute_offsets()\n",
    "\n",
    "    def _compute_offsets(self):\n",
    "        offsets = []\n",
    "        offset = 0\n",
    "        for d in self.datasets:\n",
    "            offsets.append(offset)\n",
    "            offset += len(d)\n",
    "        return offsets\n",
    "\n",
    "    def get_metadata(self, index: int):\n",
    "        for i in range(len(self.datasets)):\n",
    "            if index < self._offsets[i] + len(self.datasets[i]):\n",
    "                local_index = index - self._offsets[i]\n",
    "                return self.datasets[i].get_metadata(local_index)\n",
    "        raise IndexError(\"Index out of range for get_metadata in ConcatDatasetWithMetadata.\")"
   ]
  },
  {
   "cell_type": "code",
   "execution_count": 9,
   "id": "3944d52e",
   "metadata": {},
   "outputs": [],
   "source": [
    "def generate_datasets(dataset_df : pd.DataFrame, lookback=96, delay=24, step=1):\n",
    "    training_datasets = []\n",
    "    validation_datasets = []\n",
    "    for city, group in dataset_df.groupby(\"city_name\"):\n",
    "        group.sort_index(ascending=True, inplace=True)\n",
    "\n",
    "        last_index = group.index[-1]\n",
    "        one_year_ago = last_index - pd.DateOffset(months=6)\n",
    "        min_index = group.index.get_loc(one_year_ago)\n",
    "\n",
    "        group.drop(columns=[\"city_name\"], inplace=True)\n",
    "        training_df = group.iloc[:min_index].copy()\n",
    "        validation_df = group.iloc[min_index:].copy()\n",
    "\n",
    "        training_mean = training_df[POLLUTANT_COLUMNS].mean()\n",
    "        training_std = training_df[POLLUTANT_COLUMNS].std()\n",
    "\n",
    "        training_df[POLLUTANT_COLUMNS] = (training_df[POLLUTANT_COLUMNS] - training_mean) / training_std\n",
    "        validation_df[POLLUTANT_COLUMNS] = (validation_df[POLLUTANT_COLUMNS] - training_mean) / training_std\n",
    "\n",
    "        training_dataset = AQIDataset(\n",
    "            training_df,\n",
    "            lookback=lookback,\n",
    "            delay=delay,\n",
    "            min_index=0,\n",
    "            max_index=None,\n",
    "            step=step,\n",
    "            mean=training_mean,\n",
    "            std=training_std,\n",
    "        )\n",
    "\n",
    "        validation_dataset = AQIDataset(\n",
    "            validation_df,\n",
    "            lookback=lookback,\n",
    "            delay=delay,\n",
    "            min_index=0,\n",
    "            max_index=None,\n",
    "            step=step,\n",
    "            mean=training_mean,\n",
    "            std=training_std,\n",
    "        )\n",
    "\n",
    "        training_datasets.append(training_dataset)\n",
    "        validation_datasets.append(validation_dataset)\n",
    "\n",
    "    training_dataset = ConcatDatasetWithMetadata(training_datasets)\n",
    "    validation_dataset = ConcatDatasetWithMetadata(validation_datasets)\n",
    "\n",
    "    return training_dataset, validation_dataset\n",
    "    return training_datasets[0], validation_dataset[0]"
   ]
  },
  {
   "cell_type": "markdown",
   "id": "7a8ede8e",
   "metadata": {},
   "source": [
    "### Models\n",
    "\n",
    "we are going to compare multiple bla lba bla"
   ]
  },
  {
   "cell_type": "code",
   "execution_count": 10,
   "id": "77de69cf",
   "metadata": {},
   "outputs": [],
   "source": [
    "class MDNLayer(nn.Module):\n",
    "    def __init__(self, in_dim, out_dim, num_mixtures, dropout=0.0):\n",
    "        super(MDNLayer, self).__init__()\n",
    "        self.out_dim = out_dim\n",
    "        self.num_mixtures = num_mixtures\n",
    "\n",
    "        self.dropout = nn.Dropout(dropout)\n",
    "\n",
    "        self.fc_mu = nn.Linear(in_dim, num_mixtures * out_dim)\n",
    "        self.fc_sigma = nn.Linear(in_dim, num_mixtures * out_dim)\n",
    "        self.fc_alpha = nn.Linear(in_dim, num_mixtures)\n",
    "\n",
    "    def forward(self, x):\n",
    "        x = self.dropout(x)\n",
    "        mu = self.fc_mu(x)\n",
    "        sigma = torch.exp(self.fc_sigma(x)).clamp(min=1e-6)  # ensures strictly positive\n",
    "        alpha = F.softmax(self.fc_alpha(x), dim=1)\n",
    "        return mu, sigma, alpha\n",
    "    \n",
    "    \n",
    "class LSTM_MDN(nn.Module):\n",
    "    def __init__(self, input_dim, hidden_dim, num_layers, num_mixtures, output_dim, dropout=0.3):\n",
    "        super(LSTM_MDN, self).__init__()\n",
    "        self.num_mixtures = num_mixtures\n",
    "        self.hidden_dim = hidden_dim\n",
    "\n",
    "        self.lstm = nn.LSTM(\n",
    "            input_dim,\n",
    "            hidden_dim,\n",
    "            num_layers,\n",
    "            batch_first=True,\n",
    "            dropout=dropout if num_layers > 1 else 0.0\n",
    "        )\n",
    "\n",
    "        self.fc = nn.Linear(hidden_dim, hidden_dim)\n",
    "        self.batch_norm = nn.BatchNorm1d(hidden_dim)\n",
    "        self.dropout = nn.Dropout(dropout)\n",
    "\n",
    "        self.mdn = MDNLayer(hidden_dim, output_dim, num_mixtures)\n",
    "\n",
    "    def forward(self, x):\n",
    "        lstm_out, _ = self.lstm(x)\n",
    "        last_output = lstm_out[:, -1, :]  # last timestep\n",
    "\n",
    "        h = self.fc(last_output)\n",
    "        h = self.batch_norm(h)\n",
    "        h = F.relu(h)\n",
    "        h = self.dropout(h)\n",
    "\n",
    "        mu, sigma, alpha = self.mdn(h)\n",
    "        return mu, sigma, alpha"
   ]
  },
  {
   "cell_type": "markdown",
   "id": "fa9b17be",
   "metadata": {},
   "source": [
    "### Negative Log-Likelihood (NLL) Loss Function\n",
    "\n",
    "Let:\n",
    "- $ \\mathbf{y} \\in \\mathbb{R}^D $ — target vector\n",
    "- $ \\boldsymbol{\\mu}_k \\in \\mathbb{R}^D $ — mean vector of the $k$-th Gaussian\n",
    "- $ \\boldsymbol{\\sigma}_k \\in \\mathbb{R}^D $ — standard deviation (scale) of the $k$-th Gaussian\n",
    "- $ \\alpha_k \\in (0, 1) $ — mixture weight (prior probability) of the $k$-th Gaussian, where $ \\sum_{k=1}^K \\alpha_k = 1 $\n",
    "- $ K $ — number of mixtures\n",
    "- $ N $ — batch size\n",
    "\n",
    "The mixture density network loss is the negative log-likelihood over a mixture of Gaussians:\n",
    "\n",
    "$$ L_MDN = - (1 / N) * Σ_{i=1}^N log( Σ_{k=1}^K α_k^{(i)} * N(y^{(i)} | μ_k^{(i)}, σ_k^{(i)}) ) $$\n",
    "\n",
    "Each Gaussian component with diagonal covariance is computed as:\n",
    "\n",
    "$$ N(y | μ_k, σ_k) = Π_{d=1}^D [ 1 / sqrt(2πσ_{k,d}²) ] * exp( - (y_d - μ_{k,d})² / (2σ_{k,d}²) ) $$\n",
    "\n",
    "Taking the logarithm of the Gaussian:\n",
    "\n",
    "$$ log N(y | μ_k, σ_k) = - Σ_{d=1}^D [ (1/2) * log(2πσ_{k,d}²) + (y_d - μ_{k,d})² / (2σ_{k,d}²) ] $$ \n",
    "\n",
    "The final loss with log-sum-exp trick becomes:\n",
    "\n",
    "$$ L_MDN = - (1 / N) * Σ_{i=1}^N log( Σ_{k=1}^K exp( log α_k^{(i)} + log N(y^{(i)} | μ_k^{(i)}, σ_k^{(i)}) ) ) $$ "
   ]
  },
  {
   "cell_type": "code",
   "execution_count": 13,
   "id": "bc2f4d3a",
   "metadata": {},
   "outputs": [],
   "source": [
    "def mdn_loss(y, mu, sigma, alpha, num_mixtures):\n",
    "    batch_size = y.size(0)\n",
    "    output_dim = mu.size(1) // num_mixtures\n",
    "\n",
    "    mu = mu.view(batch_size, num_mixtures, output_dim)\n",
    "    sigma = sigma.view(batch_size, num_mixtures, output_dim)\n",
    "    alpha = alpha.view(batch_size, num_mixtures)\n",
    "\n",
    "    y = y.unsqueeze(1).expand(-1, num_mixtures, -1)\n",
    "    # print(f\"y shape: {y.shape}, mu shape: {mu.shape}, sigma shape: {sigma.shape}, alpha shape: {alpha.shape}\")\n",
    "    # print(\"First pollutant over time (mu[:, 0, 0]):\", mu[:, 0, 0])\n",
    "    # print(\"All mixtures for time step 0 and pollutant 0 (mux[0, :, 0]):\", mu[0, :, 0])\n",
    "    # print(\"All pollutants at t=0, mixture=0 (mu[0, 0, :]):\", mu[0, 0, :])\n",
    "\n",
    "    # Gaussian log-likelihood per mixture\n",
    "    normal = torch.distributions.Normal(loc=mu, scale=sigma)\n",
    "    log_probs = normal.log_prob(y)  # [batch, num_mixtures, output_dim]\n",
    "    log_probs = torch.sum(log_probs, dim=2)  # sum over output_dim\n",
    "\n",
    "    # Weighted log likelihood\n",
    "    weighted_log_probs = log_probs + torch.log(alpha + 1e-8)\n",
    "    log_sum_exp = torch.logsumexp(weighted_log_probs, dim=1)\n",
    "    return -torch.mean(log_sum_exp)"
   ]
  },
  {
   "cell_type": "code",
   "execution_count": 14,
   "id": "f4294445",
   "metadata": {},
   "outputs": [],
   "source": [
    "class Trainer:\n",
    "    def __init__(self,\n",
    "                 model: torch.nn.Module,\n",
    "                 criterion,\n",
    "                 optimizer,\n",
    "                 train_dataset,\n",
    "                 val_dataset=None,\n",
    "                 model_pth: str = \"model_checkpoint.pth\",\n",
    "                 batch_size: int = 256):\n",
    "        \n",
    "        if torch.backends.mps.is_available():\n",
    "            self.device = torch.device(\"mps\")\n",
    "        elif torch.cuda.is_available():\n",
    "            self.device = torch.device(\"cuda\")\n",
    "        else:\n",
    "            self.device = torch.device(\"cpu\")\n",
    "\n",
    "        self.model = model.to(self.device)\n",
    "        self.criterion = criterion\n",
    "        self.optimizer = optimizer\n",
    "        self.model_pth = WEIGHTS_DIR / model_pth\n",
    "\n",
    "        self.train_dataset = train_dataset\n",
    "        self.val_dataset = val_dataset\n",
    "\n",
    "\n",
    "        self.train_loader = DataLoader(train_dataset, batch_size=batch_size, shuffle=True)\n",
    "        self.val_loader = DataLoader(val_dataset, batch_size=batch_size, shuffle=False) if val_dataset else None\n",
    "\n",
    "        self.history = {\n",
    "            'train_loss': [],\n",
    "            'val_loss': [],\n",
    "            'training_time': []\n",
    "        }\n",
    "\n",
    "        self.start_epoch = self.load(self.model_pth) if os.path.exists(self.model_pth) else 0\n",
    "\n",
    "    def train(self, num_epochs=30):\n",
    "        try:\n",
    "            for epoch in range(self.start_epoch, num_epochs):\n",
    "                start_time = time.time()\n",
    "                self.model.train()\n",
    "                train_loss = 0.0\n",
    "\n",
    "                for inputs, targets  in tqdm(self.train_loader, desc=f\"Epoch {epoch+1}\", unit=\"batch\"):\n",
    "                    inputs = inputs.to(self.device)\n",
    "                    targets = targets.to(self.device)\n",
    "    \n",
    "                    self.optimizer.zero_grad()\n",
    "                    mu, sigma, alpha = self.model(inputs)\n",
    "               \n",
    "                    # print(\"Mu shape:\", mu.shape)\n",
    "                    # print(mu[:, 1])\n",
    "                    loss = self.criterion(targets, mu, sigma, alpha, self.model.num_mixtures)\n",
    "                    loss.backward()\n",
    "                    self.optimizer.step()\n",
    "                    train_loss += loss.detach().item()\n",
    "\n",
    "                avg_train_loss = train_loss / len(self.train_loader)\n",
    "                self.history['train_loss'].append(avg_train_loss)\n",
    "\n",
    "                if self.val_loader:\n",
    "                    self.model.eval()\n",
    "                    val_loss = 0.0\n",
    "                    with torch.no_grad():\n",
    "                        for inputs, targets in tqdm(self.val_loader, desc=\"Validation\", unit=\"batch\"):\n",
    "                            inputs = inputs.to(self.device)\n",
    "                            targets = targets.to(self.device)\n",
    "\n",
    "                            mu, sigma, alpha = self.model(inputs)\n",
    "                            loss = self.criterion(targets, mu, sigma, alpha, self.model.num_mixtures)\n",
    "                            \n",
    "                            val_loss += loss.item()\n",
    "\n",
    "                    avg_val_loss = val_loss / len(self.val_loader)\n",
    "                    self.history['val_loss'].append(avg_val_loss)\n",
    "\n",
    "                    print(f\"Epoch {epoch+1}/{num_epochs} - Train Loss: {avg_train_loss:.6f} - Val Loss: {avg_val_loss:.6f}\")\n",
    "                else:\n",
    "                    print(f\"Epoch {epoch+1}/{num_epochs} - Train Loss: {avg_train_loss:.6f}\")\n",
    "\n",
    "                self.history['training_time'].append(time.time() - start_time)\n",
    "\n",
    "        except KeyboardInterrupt as e:\n",
    "            print(\"\\n🛑 Training interrupted by user. Saving checkpoint...\")\n",
    "            self.save(epoch + 1)\n",
    "            raise KeyboardInterrupt from e\n",
    "\n",
    "    def predict_from_val(self, indices: list[int]):\n",
    "        if self.val_loader is None:\n",
    "            raise ValueError(\"Validation dataset not provided.\")\n",
    "\n",
    "        self.model.eval()\n",
    "        filtered_data = [self.val_dataset[i] for i in indices]\n",
    "        data_loader = DataLoader(filtered_data, batch_size=1, shuffle=False)\n",
    "\n",
    "        predictions = []\n",
    "        ground_truths = []\n",
    "        mus, sigmas, alphas = [], [], []\n",
    "        timestamps = []\n",
    "        original_targets = []\n",
    "        means = []\n",
    "        stds = []\n",
    "\n",
    "        with torch.no_grad():\n",
    "            for i, (inputs, targets) in zip(indices, data_loader):\n",
    "                inputs = inputs.to(self.device)\n",
    "                targets = targets.to(self.device)\n",
    "\n",
    "                mu, sigma, alpha = self.model(inputs)\n",
    "\n",
    "                batch_size = inputs.shape[0]\n",
    "                num_mixtures = self.model.num_mixtures\n",
    "                output_dim = mu.shape[1] // num_mixtures\n",
    "\n",
    "                mu = mu.view(batch_size, num_mixtures, output_dim)\n",
    "                sigma = sigma.view(batch_size, num_mixtures, output_dim)\n",
    "                alpha = alpha.view(batch_size, num_mixtures)\n",
    "\n",
    "                pred = torch.sum(mu * alpha.unsqueeze(-1), dim=1)\n",
    "\n",
    "                predictions.append(pred.squeeze(0).cpu().numpy())\n",
    "                ground_truths.append(targets.squeeze(0).cpu().numpy())\n",
    "                mus.append(mu.squeeze(0).cpu().numpy())\n",
    "                sigmas.append(sigma.squeeze(0).cpu().numpy())\n",
    "                alphas.append(alpha.squeeze(0).cpu().numpy())\n",
    "\n",
    "                # Retrieve metadata using index\n",
    "                meta = self.val_dataset.get_metadata(i)\n",
    "                timestamps.append(meta[\"timestamp\"])\n",
    "                original_targets.append(meta[\"original_target\"])\n",
    "                means.append(meta[\"mean\"])\n",
    "                stds.append(meta[\"std\"])\n",
    "\n",
    "        return {\n",
    "            \"predictions\": np.array(predictions),\n",
    "            \"ground_truths\": np.array(ground_truths),\n",
    "            \"mus\": np.array(mus),\n",
    "            \"sigmas\": np.array(sigmas),\n",
    "            \"alphas\": np.array(alphas),\n",
    "            \"timestamps\": np.array(timestamps),\n",
    "            \"unnormalized_targets\": np.array(original_targets),\n",
    "            \"means\": np.array(means),\n",
    "            \"stds\": np.array(stds),\n",
    "            \n",
    "        }\n",
    "\n",
    "    def save(self, epoch=None):\n",
    "        if epoch is None:\n",
    "            epoch = len(self.history['train_loss'])\n",
    "\n",
    "        torch.save({\n",
    "            'model_state_dict': self.model.state_dict(),\n",
    "            'optimizer_state_dict': self.optimizer.state_dict(),\n",
    "            'history': self.history,\n",
    "            'epoch': epoch,\n",
    "        }, self.model_pth)\n",
    "        print(f\"✅ Saved model to {self.model_pth} at epoch {epoch}\")\n",
    "\n",
    "    def load(self, path):\n",
    "        checkpoint = torch.load(path, map_location=self.device)\n",
    "        self.model.load_state_dict(checkpoint['model_state_dict'])\n",
    "        self.optimizer.load_state_dict(checkpoint['optimizer_state_dict'])\n",
    "        self.history = checkpoint.get('history', self.history)\n",
    "        print(f\"✅ Loaded checkpoint from '{path}' (epoch {checkpoint.get('epoch', 0)})\")\n",
    "        return checkpoint.get('epoch', 0)"
   ]
  },
  {
   "cell_type": "code",
   "execution_count": 15,
   "id": "e59bd054",
   "metadata": {},
   "outputs": [
    {
     "name": "stderr",
     "output_type": "stream",
     "text": [
      "100%|██████████| 7413/7413 [00:05<00:00, 1470.78it/s]\n",
      "100%|██████████| 4225/4225 [00:02<00:00, 1477.84it/s]\n",
      "100%|██████████| 7413/7413 [00:04<00:00, 1525.58it/s]\n",
      "100%|██████████| 4225/4225 [00:02<00:00, 1506.83it/s]\n",
      "100%|██████████| 7413/7413 [00:04<00:00, 1504.29it/s]\n",
      "100%|██████████| 4225/4225 [00:02<00:00, 1526.36it/s]\n",
      "100%|██████████| 7413/7413 [00:04<00:00, 1507.35it/s]\n",
      "100%|██████████| 4225/4225 [00:02<00:00, 1430.09it/s]\n",
      "100%|██████████| 7413/7413 [00:04<00:00, 1503.12it/s]\n",
      "100%|██████████| 4225/4225 [00:02<00:00, 1493.06it/s]\n",
      "100%|██████████| 7413/7413 [00:04<00:00, 1516.59it/s]\n",
      "100%|██████████| 4225/4225 [00:02<00:00, 1496.02it/s]\n",
      "100%|██████████| 7413/7413 [00:04<00:00, 1528.03it/s]\n",
      "100%|██████████| 4225/4225 [00:02<00:00, 1473.99it/s]\n",
      "100%|██████████| 7413/7413 [00:04<00:00, 1517.06it/s]\n",
      "100%|██████████| 4225/4225 [00:02<00:00, 1506.15it/s]\n",
      "100%|██████████| 7413/7413 [00:04<00:00, 1494.83it/s]\n",
      "100%|██████████| 4225/4225 [00:02<00:00, 1468.52it/s]\n",
      "100%|██████████| 7413/7413 [00:04<00:00, 1501.36it/s]\n",
      "100%|██████████| 4225/4225 [00:02<00:00, 1470.31it/s]\n",
      "100%|██████████| 7413/7413 [00:04<00:00, 1512.67it/s]\n",
      "100%|██████████| 4225/4225 [00:02<00:00, 1479.62it/s]\n",
      "100%|██████████| 7413/7413 [00:05<00:00, 1431.85it/s]\n",
      "100%|██████████| 4225/4225 [00:02<00:00, 1469.09it/s]\n",
      "100%|██████████| 7413/7413 [00:05<00:00, 1480.98it/s]\n",
      "100%|██████████| 4225/4225 [00:02<00:00, 1508.83it/s]\n",
      "Epoch 1: 100%|██████████| 377/377 [00:12<00:00, 30.27batch/s]\n",
      "Validation: 100%|██████████| 215/215 [00:01<00:00, 140.43batch/s]\n"
     ]
    },
    {
     "name": "stdout",
     "output_type": "stream",
     "text": [
      "Epoch 1/35 - Train Loss: 1.441907 - Val Loss: -2.625339\n"
     ]
    },
    {
     "name": "stderr",
     "output_type": "stream",
     "text": [
      "Epoch 2: 100%|██████████| 377/377 [00:07<00:00, 48.60batch/s]\n",
      "Validation: 100%|██████████| 215/215 [00:01<00:00, 139.21batch/s]\n"
     ]
    },
    {
     "name": "stdout",
     "output_type": "stream",
     "text": [
      "Epoch 2/35 - Train Loss: -2.120407 - Val Loss: -3.548071\n"
     ]
    },
    {
     "name": "stderr",
     "output_type": "stream",
     "text": [
      "Epoch 3: 100%|██████████| 377/377 [00:07<00:00, 48.02batch/s]\n",
      "Validation: 100%|██████████| 215/215 [00:01<00:00, 126.58batch/s]\n"
     ]
    },
    {
     "name": "stdout",
     "output_type": "stream",
     "text": [
      "Epoch 3/35 - Train Loss: -2.757213 - Val Loss: -3.723783\n"
     ]
    },
    {
     "name": "stderr",
     "output_type": "stream",
     "text": [
      "Epoch 4: 100%|██████████| 377/377 [00:07<00:00, 50.28batch/s]\n",
      "Validation: 100%|██████████| 215/215 [00:01<00:00, 160.36batch/s]\n"
     ]
    },
    {
     "name": "stdout",
     "output_type": "stream",
     "text": [
      "Epoch 4/35 - Train Loss: -3.262858 - Val Loss: -4.219649\n"
     ]
    },
    {
     "name": "stderr",
     "output_type": "stream",
     "text": [
      "Epoch 5: 100%|██████████| 377/377 [00:08<00:00, 46.20batch/s]\n",
      "Validation: 100%|██████████| 215/215 [00:01<00:00, 149.65batch/s]\n"
     ]
    },
    {
     "name": "stdout",
     "output_type": "stream",
     "text": [
      "Epoch 5/35 - Train Loss: -3.647840 - Val Loss: -4.211535\n"
     ]
    },
    {
     "name": "stderr",
     "output_type": "stream",
     "text": [
      "Epoch 6: 100%|██████████| 377/377 [00:07<00:00, 47.99batch/s]\n",
      "Validation: 100%|██████████| 215/215 [00:01<00:00, 144.40batch/s]\n"
     ]
    },
    {
     "name": "stdout",
     "output_type": "stream",
     "text": [
      "Epoch 6/35 - Train Loss: -3.804104 - Val Loss: -4.492116\n"
     ]
    },
    {
     "name": "stderr",
     "output_type": "stream",
     "text": [
      "Epoch 7: 100%|██████████| 377/377 [00:07<00:00, 48.38batch/s]\n",
      "Validation: 100%|██████████| 215/215 [00:01<00:00, 141.65batch/s]\n"
     ]
    },
    {
     "name": "stdout",
     "output_type": "stream",
     "text": [
      "Epoch 7/35 - Train Loss: -4.074877 - Val Loss: -4.487100\n"
     ]
    },
    {
     "name": "stderr",
     "output_type": "stream",
     "text": [
      "Epoch 8: 100%|██████████| 377/377 [00:08<00:00, 43.43batch/s]\n",
      "Validation: 100%|██████████| 215/215 [00:01<00:00, 142.11batch/s]\n"
     ]
    },
    {
     "name": "stdout",
     "output_type": "stream",
     "text": [
      "Epoch 8/35 - Train Loss: -4.144249 - Val Loss: -4.484454\n"
     ]
    },
    {
     "name": "stderr",
     "output_type": "stream",
     "text": [
      "Epoch 9: 100%|██████████| 377/377 [00:08<00:00, 44.99batch/s]\n",
      "Validation: 100%|██████████| 215/215 [00:01<00:00, 144.06batch/s]\n"
     ]
    },
    {
     "name": "stdout",
     "output_type": "stream",
     "text": [
      "Epoch 9/35 - Train Loss: -4.399606 - Val Loss: -4.529894\n"
     ]
    },
    {
     "name": "stderr",
     "output_type": "stream",
     "text": [
      "Epoch 10: 100%|██████████| 377/377 [00:07<00:00, 48.94batch/s]\n",
      "Validation: 100%|██████████| 215/215 [00:01<00:00, 143.85batch/s]\n"
     ]
    },
    {
     "name": "stdout",
     "output_type": "stream",
     "text": [
      "Epoch 10/35 - Train Loss: -4.562164 - Val Loss: -4.532413\n"
     ]
    },
    {
     "name": "stderr",
     "output_type": "stream",
     "text": [
      "Epoch 11: 100%|██████████| 377/377 [00:07<00:00, 49.01batch/s]\n",
      "Validation: 100%|██████████| 215/215 [00:01<00:00, 126.23batch/s]\n"
     ]
    },
    {
     "name": "stdout",
     "output_type": "stream",
     "text": [
      "Epoch 11/35 - Train Loss: -4.685896 - Val Loss: -4.515067\n"
     ]
    },
    {
     "name": "stderr",
     "output_type": "stream",
     "text": [
      "Epoch 12: 100%|██████████| 377/377 [00:07<00:00, 48.34batch/s]\n",
      "Validation: 100%|██████████| 215/215 [00:01<00:00, 126.89batch/s]\n"
     ]
    },
    {
     "name": "stdout",
     "output_type": "stream",
     "text": [
      "Epoch 12/35 - Train Loss: -4.860018 - Val Loss: -4.492061\n"
     ]
    },
    {
     "name": "stderr",
     "output_type": "stream",
     "text": [
      "Epoch 13: 100%|██████████| 377/377 [00:07<00:00, 48.43batch/s]\n",
      "Validation: 100%|██████████| 215/215 [00:01<00:00, 141.72batch/s]\n"
     ]
    },
    {
     "name": "stdout",
     "output_type": "stream",
     "text": [
      "Epoch 13/35 - Train Loss: -4.940169 - Val Loss: -4.570476\n"
     ]
    },
    {
     "name": "stderr",
     "output_type": "stream",
     "text": [
      "Epoch 14: 100%|██████████| 377/377 [00:07<00:00, 47.26batch/s]\n",
      "Validation: 100%|██████████| 215/215 [00:01<00:00, 135.61batch/s]\n"
     ]
    },
    {
     "name": "stdout",
     "output_type": "stream",
     "text": [
      "Epoch 14/35 - Train Loss: -5.048751 - Val Loss: -4.661427\n"
     ]
    },
    {
     "name": "stderr",
     "output_type": "stream",
     "text": [
      "Epoch 15: 100%|██████████| 377/377 [00:07<00:00, 49.82batch/s]\n",
      "Validation: 100%|██████████| 215/215 [00:01<00:00, 124.10batch/s]\n"
     ]
    },
    {
     "name": "stdout",
     "output_type": "stream",
     "text": [
      "Epoch 15/35 - Train Loss: -5.216134 - Val Loss: -4.474517\n"
     ]
    },
    {
     "name": "stderr",
     "output_type": "stream",
     "text": [
      "Epoch 16: 100%|██████████| 377/377 [00:07<00:00, 47.89batch/s]\n",
      "Validation: 100%|██████████| 215/215 [00:01<00:00, 142.70batch/s]\n"
     ]
    },
    {
     "name": "stdout",
     "output_type": "stream",
     "text": [
      "Epoch 16/35 - Train Loss: -5.343437 - Val Loss: -4.456410\n"
     ]
    },
    {
     "name": "stderr",
     "output_type": "stream",
     "text": [
      "Epoch 17: 100%|██████████| 377/377 [00:08<00:00, 46.07batch/s]\n",
      "Validation: 100%|██████████| 215/215 [00:01<00:00, 147.95batch/s]\n"
     ]
    },
    {
     "name": "stdout",
     "output_type": "stream",
     "text": [
      "Epoch 17/35 - Train Loss: -5.451152 - Val Loss: -4.337177\n"
     ]
    },
    {
     "name": "stderr",
     "output_type": "stream",
     "text": [
      "Epoch 18: 100%|██████████| 377/377 [00:08<00:00, 46.94batch/s]\n",
      "Validation: 100%|██████████| 215/215 [00:01<00:00, 122.65batch/s]\n"
     ]
    },
    {
     "name": "stdout",
     "output_type": "stream",
     "text": [
      "Epoch 18/35 - Train Loss: -5.604995 - Val Loss: -4.306757\n"
     ]
    },
    {
     "name": "stderr",
     "output_type": "stream",
     "text": [
      "Epoch 19: 100%|██████████| 377/377 [00:07<00:00, 48.11batch/s]\n",
      "Validation: 100%|██████████| 215/215 [00:01<00:00, 110.36batch/s]\n"
     ]
    },
    {
     "name": "stdout",
     "output_type": "stream",
     "text": [
      "Epoch 19/35 - Train Loss: -5.740681 - Val Loss: -4.102855\n"
     ]
    },
    {
     "name": "stderr",
     "output_type": "stream",
     "text": [
      "Epoch 20: 100%|██████████| 377/377 [00:07<00:00, 48.07batch/s]\n",
      "Validation: 100%|██████████| 215/215 [00:01<00:00, 122.74batch/s]\n"
     ]
    },
    {
     "name": "stdout",
     "output_type": "stream",
     "text": [
      "Epoch 20/35 - Train Loss: -5.874042 - Val Loss: -3.934288\n"
     ]
    },
    {
     "name": "stderr",
     "output_type": "stream",
     "text": [
      "Epoch 21: 100%|██████████| 377/377 [00:07<00:00, 48.54batch/s]\n",
      "Validation: 100%|██████████| 215/215 [00:01<00:00, 129.39batch/s]\n"
     ]
    },
    {
     "name": "stdout",
     "output_type": "stream",
     "text": [
      "Epoch 21/35 - Train Loss: -5.621120 - Val Loss: -4.002729\n"
     ]
    },
    {
     "name": "stderr",
     "output_type": "stream",
     "text": [
      "Epoch 22: 100%|██████████| 377/377 [00:07<00:00, 47.55batch/s]\n",
      "Validation: 100%|██████████| 215/215 [00:01<00:00, 123.23batch/s]\n"
     ]
    },
    {
     "name": "stdout",
     "output_type": "stream",
     "text": [
      "Epoch 22/35 - Train Loss: -6.072745 - Val Loss: -3.651677\n"
     ]
    },
    {
     "name": "stderr",
     "output_type": "stream",
     "text": [
      "Epoch 23: 100%|██████████| 377/377 [00:07<00:00, 48.57batch/s]\n",
      "Validation: 100%|██████████| 215/215 [00:01<00:00, 145.12batch/s]\n"
     ]
    },
    {
     "name": "stdout",
     "output_type": "stream",
     "text": [
      "Epoch 23/35 - Train Loss: -6.234612 - Val Loss: -3.257573\n"
     ]
    },
    {
     "name": "stderr",
     "output_type": "stream",
     "text": [
      "Epoch 24: 100%|██████████| 377/377 [00:08<00:00, 46.47batch/s]\n",
      "Validation: 100%|██████████| 215/215 [00:01<00:00, 144.93batch/s]\n"
     ]
    },
    {
     "name": "stdout",
     "output_type": "stream",
     "text": [
      "Epoch 24/35 - Train Loss: -6.378908 - Val Loss: -3.417456\n"
     ]
    },
    {
     "name": "stderr",
     "output_type": "stream",
     "text": [
      "Epoch 25: 100%|██████████| 377/377 [00:07<00:00, 48.35batch/s]\n",
      "Validation: 100%|██████████| 215/215 [00:01<00:00, 143.35batch/s]\n"
     ]
    },
    {
     "name": "stdout",
     "output_type": "stream",
     "text": [
      "Epoch 25/35 - Train Loss: -6.482432 - Val Loss: -3.259411\n"
     ]
    },
    {
     "name": "stderr",
     "output_type": "stream",
     "text": [
      "Epoch 26: 100%|██████████| 377/377 [00:07<00:00, 48.98batch/s]\n",
      "Validation: 100%|██████████| 215/215 [00:01<00:00, 143.45batch/s]\n"
     ]
    },
    {
     "name": "stdout",
     "output_type": "stream",
     "text": [
      "Epoch 26/35 - Train Loss: -6.528877 - Val Loss: -3.365880\n"
     ]
    },
    {
     "name": "stderr",
     "output_type": "stream",
     "text": [
      "Epoch 27: 100%|██████████| 377/377 [00:07<00:00, 48.37batch/s]\n",
      "Validation: 100%|██████████| 215/215 [00:01<00:00, 129.63batch/s]\n"
     ]
    },
    {
     "name": "stdout",
     "output_type": "stream",
     "text": [
      "Epoch 27/35 - Train Loss: -6.717372 - Val Loss: -2.909600\n"
     ]
    },
    {
     "name": "stderr",
     "output_type": "stream",
     "text": [
      "Epoch 28: 100%|██████████| 377/377 [00:05<00:00, 63.27batch/s]\n",
      "Validation: 100%|██████████| 215/215 [00:01<00:00, 154.15batch/s]\n"
     ]
    },
    {
     "name": "stdout",
     "output_type": "stream",
     "text": [
      "Epoch 28/35 - Train Loss: -6.794508 - Val Loss: -2.529581\n"
     ]
    },
    {
     "name": "stderr",
     "output_type": "stream",
     "text": [
      "Epoch 29: 100%|██████████| 377/377 [00:07<00:00, 48.30batch/s]\n",
      "Validation: 100%|██████████| 215/215 [00:01<00:00, 143.11batch/s]\n"
     ]
    },
    {
     "name": "stdout",
     "output_type": "stream",
     "text": [
      "Epoch 29/35 - Train Loss: -6.904074 - Val Loss: -2.677078\n"
     ]
    },
    {
     "name": "stderr",
     "output_type": "stream",
     "text": [
      "Epoch 30: 100%|██████████| 377/377 [00:07<00:00, 48.41batch/s]\n",
      "Validation: 100%|██████████| 215/215 [00:01<00:00, 128.21batch/s]\n"
     ]
    },
    {
     "name": "stdout",
     "output_type": "stream",
     "text": [
      "Epoch 30/35 - Train Loss: -6.992303 - Val Loss: -2.226887\n"
     ]
    },
    {
     "name": "stderr",
     "output_type": "stream",
     "text": [
      "Epoch 31: 100%|██████████| 377/377 [00:07<00:00, 47.68batch/s]\n",
      "Validation: 100%|██████████| 215/215 [00:01<00:00, 140.99batch/s]\n"
     ]
    },
    {
     "name": "stdout",
     "output_type": "stream",
     "text": [
      "Epoch 31/35 - Train Loss: -7.126027 - Val Loss: -2.353431\n"
     ]
    },
    {
     "name": "stderr",
     "output_type": "stream",
     "text": [
      "Epoch 32: 100%|██████████| 377/377 [00:08<00:00, 46.09batch/s]\n",
      "Validation: 100%|██████████| 215/215 [00:01<00:00, 147.36batch/s]\n"
     ]
    },
    {
     "name": "stdout",
     "output_type": "stream",
     "text": [
      "Epoch 32/35 - Train Loss: -7.232627 - Val Loss: -1.829024\n"
     ]
    },
    {
     "name": "stderr",
     "output_type": "stream",
     "text": [
      "Epoch 33: 100%|██████████| 377/377 [00:08<00:00, 46.41batch/s]\n",
      "Validation: 100%|██████████| 215/215 [00:01<00:00, 143.74batch/s]\n"
     ]
    },
    {
     "name": "stdout",
     "output_type": "stream",
     "text": [
      "Epoch 33/35 - Train Loss: -7.310485 - Val Loss: -2.117252\n"
     ]
    },
    {
     "name": "stderr",
     "output_type": "stream",
     "text": [
      "Epoch 34: 100%|██████████| 377/377 [00:07<00:00, 53.11batch/s]\n",
      "Validation: 100%|██████████| 215/215 [00:01<00:00, 153.79batch/s]\n"
     ]
    },
    {
     "name": "stdout",
     "output_type": "stream",
     "text": [
      "Epoch 34/35 - Train Loss: -7.404600 - Val Loss: -1.219030\n"
     ]
    },
    {
     "name": "stderr",
     "output_type": "stream",
     "text": [
      "Epoch 35: 100%|██████████| 377/377 [00:08<00:00, 46.20batch/s]\n",
      "Validation: 100%|██████████| 215/215 [00:01<00:00, 143.03batch/s]"
     ]
    },
    {
     "name": "stdout",
     "output_type": "stream",
     "text": [
      "Epoch 35/35 - Train Loss: -7.470880 - Val Loss: -1.498793\n"
     ]
    },
    {
     "name": "stderr",
     "output_type": "stream",
     "text": [
      "\n"
     ]
    }
   ],
   "source": [
    "model = LSTM_MDN(\n",
    "    input_dim=21, # Number of features (21 including city dummies)\n",
    "    hidden_dim=128,\n",
    "    num_layers=2,\n",
    "    num_mixtures=10,\n",
    "    output_dim=7, # Number of pollutants\n",
    "    # fc_dim=128\n",
    "    dropout=0.49\n",
    ")\n",
    "\n",
    "training_dataset, validation_dataset = generate_datasets(\n",
    "    dataset_df,\n",
    "    lookback=4*24,  # Hyperparameter tunable only on number of hours (4 days)\n",
    "    delay=24,    # Constant (Not hyperparamter tunable). Predicting 1 day ahead\n",
    "    step=1       # Any values will do\n",
    ")\n",
    "    \n",
    "optimizer = torch.optim.Adam(model.parameters(), lr=0.001)\n",
    "\n",
    "loss = mdn_loss\n",
    "trainer = Trainer(\n",
    "    model=model,\n",
    "    criterion=loss,\n",
    "    optimizer=optimizer,\n",
    "    train_dataset=training_dataset,\n",
    "    val_dataset=validation_dataset,\n",
    "    model_pth=\"aqi_mdn_model.pth\",\n",
    "    batch_size=256\n",
    ")\n",
    "trainer.train(num_epochs=35)"
   ]
  },
  {
   "cell_type": "code",
   "execution_count": 16,
   "id": "f9779e90",
   "metadata": {},
   "outputs": [],
   "source": [
    "class MDNVisualizer:\n",
    "    def __init__(self, trainer: Trainer):\n",
    "        self.trainer = trainer\n",
    "\n",
    "    def plot_timeseries_from_val(self, indeces, num_targets=None):\n",
    "        results = trainer.predict_from_val(indeces)\n",
    "        predictions = results[\"predictions\"]\n",
    "        ground_truths = results[\"ground_truths\"]\n",
    "        mus = results[\"mus\"]\n",
    "        sigmas = results[\"sigmas\"]\n",
    "        alphas = results[\"alphas\"]\n",
    "        timestamps = results[\"timestamps\"]\n",
    "        unnormalized_targets = results[\"unnormalized_targets\"]\n",
    "        means = results[\"means\"]\n",
    "        stds = results[\"stds\"]\n",
    "\n",
    "        x = np.array(timestamps)\n",
    "\n",
    "        if num_targets is None:\n",
    "            num_targets = len(POLLUTANT_COLUMNS)\n",
    "        num_mixtures = mus.shape[1]\n",
    "\n",
    "        # Grid config: 2 columns\n",
    "        ncols = 2\n",
    "        nrows = math.ceil(num_targets / ncols)\n",
    "        fig, axs = plt.subplots(nrows, ncols, figsize=(14, 5.5 * nrows), sharex=True)\n",
    "        axs = axs.flatten()\n",
    "\n",
    "        for target_idx in range(num_targets):\n",
    "            ax = axs[target_idx]\n",
    "\n",
    "            y_pred_norm = predictions[:, target_idx]\n",
    "            y_true = unnormalized_targets[:, target_idx]\n",
    "\n",
    "            mu = mus[:, :, target_idx]\n",
    "            sigma = sigmas[:, :, target_idx]\n",
    "            alpha = alphas\n",
    "\n",
    "            mixture_var = np.sum(alpha * (sigma**2 + mu**2), axis=1) - np.sum(alpha * mu, axis=1)**2\n",
    "            mixture_std = np.sqrt(np.clip(mixture_var, 1e-8, None))\n",
    "\n",
    "            mean = means[0][target_idx]\n",
    "            std = stds[0][target_idx]\n",
    "\n",
    "            y_pred = y_pred_norm * std + mean\n",
    "            mixture_std_scaled = mixture_std * std\n",
    "            mu_scaled = mu * std + mean\n",
    "\n",
    "            z_90 = 1.645\n",
    "            z_95 = 1.960\n",
    "\n",
    "            ax.plot(x, y_true, label=\"Ground Truth\", color=\"black\", linewidth=2)\n",
    "            ax.plot(x, y_pred, label=\"Prediction (E[y])\", color=\"blue\", linestyle=\"--\")\n",
    "\n",
    "            # 90% CI (clip lower bound to 0)\n",
    "            ax.fill_between(\n",
    "                x,\n",
    "                np.clip(y_pred - z_90 * mixture_std_scaled, a_min=0, a_max=None),\n",
    "                y_pred + z_90 * mixture_std_scaled,\n",
    "                color='blue', alpha=0.12, label=\"90% CI\"\n",
    "            )\n",
    "\n",
    "            # 95% CI (clip lower bound to 0)\n",
    "            ax.fill_between(\n",
    "                x,\n",
    "                np.clip(y_pred - z_95 * mixture_std_scaled, a_min=0, a_max=None),\n",
    "                y_pred + z_95 * mixture_std_scaled,\n",
    "                color='blue', alpha=0.07, label=\"95% CI\"\n",
    "            )\n",
    "\n",
    "            ax.set_title(f\"{POLLUTANT_COLUMNS[target_idx].replace('components.', '').replace('_','.').upper()} Forecast\")\n",
    "            ax.set_ylabel(\"Concentration (ug/m³)\")\n",
    "            ax.grid(True)\n",
    "\n",
    "        # Remove unused subplots\n",
    "        for i in range(num_targets, len(axs)):\n",
    "            fig.delaxes(axs[i])\n",
    "\n",
    "        # axs[-1].set_xlabel(\"Timestamp\")\n",
    "        plt.suptitle(\"Air Quality Forecasting with MDN-LSTM\", fontsize=16)\n",
    "        # fig.legend(*axs[0].get_legend_handles_labels(), loc=\"lower right\")\n",
    "        # fig.text(\n",
    "        #     0.93, 0.18, \"Air Quality Forecasting with MDN-LSTM\",\n",
    "        #     fontsize=16, fontweight='bold',\n",
    "        #     ha='right', va='bottom'\n",
    "        # )\n",
    "\n",
    "        fig.legend(\n",
    "                *axs[0].get_legend_handles_labels(),\n",
    "                loc=\"upper right\",\n",
    "                ncol=2\n",
    "                # bbox_to_anchor=(0.82, 0.08),\n",
    "                # frameon=False,\n",
    "            )\n",
    "        plt.tight_layout()\n",
    "        # plt.show()\n",
    "\n",
    "    def plot_mixture_distributions_at_timestep(self, timestep_index: int, num_targets=None, save_path=None):\n",
    "        result = self.trainer.predict_from_val([timestep_index])\n",
    "\n",
    "        mus = result[\"mus\"][0]\n",
    "        sigmas = result[\"sigmas\"][0]\n",
    "        alphas = result[\"alphas\"][0]\n",
    "        means = result[\"means\"][0]\n",
    "        stds = result[\"stds\"][0]\n",
    "        timestamp = result[\"timestamps\"][0]\n",
    "\n",
    "        if num_targets is None:\n",
    "            num_mixtures, num_targets = mus.shape\n",
    "        else:\n",
    "            num_mixtures = mus.shape[0]\n",
    "        ncols = 2\n",
    "        nrows = math.ceil(num_targets / ncols)\n",
    "\n",
    "        fig, axs = plt.subplots(nrows, ncols, figsize=(10, 4 * nrows), sharex=False)\n",
    "        \n",
    "        # fig.suptitle(\"Mixture Distributions\", fontsize=16)\n",
    "        axs = axs.flatten()\n",
    "\n",
    "        mixture_line = None\n",
    "        sum_line = None\n",
    "        \n",
    "\n",
    "        for target_idx in range(num_targets):\n",
    "            ax = axs[target_idx]\n",
    "\n",
    "            mu = mus[:, target_idx]\n",
    "            sigma = sigmas[:, target_idx]\n",
    "            alpha = alphas\n",
    "\n",
    "            mean = means[target_idx]\n",
    "            std = stds[target_idx]\n",
    "\n",
    "            mu_scaled = mu * std + mean\n",
    "            sigma_scaled = sigma * std\n",
    "            x_range = np.linspace(-5, 5, 1000)\n",
    "            x_scaled = x_range * std + mean\n",
    "\n",
    "            total_pdf = np.zeros_like(x_scaled)\n",
    "\n",
    "            for k in range(num_mixtures):\n",
    "                pdf = alpha[k] * norm.pdf(x_scaled, loc=mu_scaled[k], scale=sigma_scaled[k])\n",
    "                total_pdf += pdf\n",
    "\n",
    "                # Save the first mixture line for the legend\n",
    "                line = ax.plot(x_scaled, pdf, linestyle=\"--\", alpha=0.6)\n",
    "                if target_idx == 0 and k == 0:\n",
    "                    mixture_line = line[0]\n",
    "\n",
    "            # Plot the combined mixture sum\n",
    "            line = ax.plot(x_scaled, total_pdf, color=\"black\", linewidth=2)\n",
    "            if target_idx == 0:\n",
    "                sum_line = line[0]\n",
    "\n",
    "            mu_center = np.sum(mu_scaled * alpha)\n",
    "            std_combined = np.sqrt(np.sum(alpha * sigma_scaled**2))\n",
    "            ax.set_xlim(mu_center - 4 * std_combined, mu_center + 4 * std_combined)\n",
    "            ax.set_xlabel(\"Concentration (mg/m³)\")\n",
    "            ax.set_title(f\"{POLLUTANT_COLUMNS[target_idx]}\".replace(\"components.\", \"\").replace(\"_\", \".\").upper())\n",
    "            ax.set_ylabel(\"Density\")\n",
    "            ax.grid(True)\n",
    "\n",
    "        for idx in range(num_targets, len(axs)):\n",
    "            fig.delaxes(axs[idx])\n",
    "\n",
    "       \n",
    "        if mixture_line and sum_line:\n",
    "            fig.legend(\n",
    "                handles=[mixture_line, sum_line],\n",
    "                labels=[\"Mixtures\", \"Mixture Sum\"],\n",
    "                loc=\"upper right\",\n",
    "                # bbox_to_anchor=(0.93, 0.15),\n",
    "                frameon=False,\n",
    "                ncols=2,\n",
    "            )\n",
    "\n",
    "        fig.suptitle(\n",
    "            f\"Mixture Distributions\",\n",
    "            fontsize=16, fontweight='bold',\n",
    "            # ha='right', va='bottom'\n",
    "        )\n",
    "\n",
    "        fig.text(\n",
    "            0.1, 0.90, f\"{timestamp.strftime('%-I %p')}\",\n",
    "            fontsize=12, fontweight='bold',\n",
    "            ha='right', va='bottom'\n",
    "        )\n",
    "\n",
    "\n",
    "        if save_path:\n",
    "            fig.savefig(save_path, bbox_inches=\"tight\")\n",
    "            plt.close(fig)\n",
    "        else:\n",
    "            plt.tight_layout()\n",
    "            plt.show()\n",
    "\n",
    "    def generate_mixture_gif(self, start: int, end: int, num_targets :int ,  output_path: str = \"mixture_evolution.gif\"):\n",
    "        frame_paths = []\n",
    "        for t in tqdm(range(start, end), desc=\"Generating frames\"):\n",
    "            frame_file = OUTPUT_DIR / f\"frame_{t:03d}.png\"\n",
    "            self.plot_mixture_distributions_at_timestep(timestep_index=t, num_targets=num_targets, save_path=frame_file)\n",
    "            frame_paths.append(frame_file)\n",
    "\n",
    "        base_size = Image.open(frame_paths[0]).size\n",
    "        images = [Image.open(fp).resize(base_size) for fp in frame_paths]\n",
    "        imageio.mimsave(OUTPUT_DIR/output_path, images, duration=0.8)\n",
    "\n",
    "        for fp in frame_paths:\n",
    "            os.remove(fp)\n",
    "\n",
    "        print(f\"GIF saved to: {output_path}\")\n",
    "\n",
    "    def generate_insights_from_timestep(self, timestep_index):\n",
    "        result = self.trainer.predict_from_val([timestep_index])\n",
    "\n",
    "        mus = result[\"mus\"][0]          # (num_mixtures, num_targets)\n",
    "        sigmas = result[\"sigmas\"][0]    # (num_mixtures, num_targets)\n",
    "        alphas = result[\"alphas\"][0]    # (num_mixtures,)\n",
    "        means = result[\"means\"][0]      # (num_targets,)\n",
    "        stds = result[\"stds\"][0]        # (num_targets,)\n",
    "        timestamp = result[\"timestamps\"][0]  # datetime\n",
    "\n",
    "        num_mixtures, num_targets = mus.shape\n",
    "\n",
    "        expected_values = []\n",
    "        ci_90_bounds = []\n",
    "        ci_95_bounds = []\n",
    "\n",
    "        for t in range(num_targets):\n",
    "            mu = mus[:, t] * stds[t] + means[t]\n",
    "            sigma = sigmas[:, t] * stds[t]\n",
    "            alpha = alphas\n",
    "\n",
    "            expected = np.sum(alpha * mu)\n",
    "            expected_values.append(expected)\n",
    "\n",
    "            mixture_var = np.sum(alpha * (sigma**2 + mu**2)) - expected**2\n",
    "            std_dev = np.sqrt(mixture_var)\n",
    "\n",
    "            z90 = norm.ppf(0.95)\n",
    "            z95 = norm.ppf(0.975)\n",
    "\n",
    "            ci_90 = (\n",
    "                max(0, expected - z90 * std_dev),\n",
    "                expected + z90 * std_dev\n",
    "            )\n",
    "\n",
    "            ci_95 = (\n",
    "                max(0, expected - z95 * std_dev),\n",
    "                expected + z95 * std_dev\n",
    "            )\n",
    "\n",
    "            ci_90_bounds.append(ci_90)\n",
    "            ci_95_bounds.append(ci_95)\n",
    "\n",
    "        mus_unnorm = mus * stds[None, :] + means[None, :]\n",
    "        sigmas_unnorm = sigmas * stds[None, :]\n",
    "\n",
    "        timestamp_str = timestamp.strftime(\"%-I %p\") if hasattr(timestamp, \"strftime\") else str(timestamp)\n",
    "        report_lines = []\n",
    "\n",
    "        for i in range(num_targets):\n",
    "            pollutant = POLLUTANT_COLUMNS[i].replace(\"components.\", \"\").replace(\"_\", \".\").upper()\n",
    "            expected = expected_values[i]\n",
    "            ci90_lower, ci90_upper = ci_90_bounds[i]\n",
    "            ci95_lower, ci95_upper = ci_95_bounds[i]\n",
    "\n",
    "            report = (\n",
    "                f\"At {timestamp_str}, the expected concentration of {pollutant} was estimated at \"\n",
    "                f\"{expected:.2f} mg/m³.\\n\"\n",
    "                f\"We are 90% confident that the true value lies between {ci90_lower:.2f} and {ci90_upper:.2f} mg/m³,\\n\"\n",
    "                f\"and 95% confident it lies between {ci95_lower:.2f} and {ci95_upper:.2f} mg/m³.\\n\"\n",
    "            )\n",
    "            report_lines.append(report)\n",
    "\n",
    "        return {\n",
    "            \"timestamp\": timestamp,\n",
    "            \"expected_values\": expected_values,\n",
    "            \"mixtures\": {\n",
    "                \"mu\": mus_unnorm,\n",
    "                \"sigma\": sigmas_unnorm,\n",
    "                \"alpha\": alphas\n",
    "            },\n",
    "            \"ci_90\": ci_90_bounds,\n",
    "            \"ci_95\": ci_95_bounds,\n",
    "            \"text_report\": report_lines\n",
    "        }"
   ]
  },
  {
   "cell_type": "code",
   "execution_count": 17,
   "id": "2d4bb480",
   "metadata": {},
   "outputs": [
    {
     "data": {
      "image/png": "[encoded data removed]",
      "text/plain": [
       "<Figure size 1400x550 with 2 Axes>"
      ]
     },
     "metadata": {},
     "output_type": "display_data"
    }
   ],
   "source": [
    "\n",
    "visualizer = MDNVisualizer(trainer)\n",
    "visualizer.plot_timeseries_from_val(indeces=range(150), num_targets=2)\n",
    "# visualizer.plot_mixture_distributions_at_timestep(timestep_index=29, num_targets=2)\n",
    "\n",
    "# visualizer.generate_mixture_gif(start=0, end=48,num_targets=2, output_path=\"mixture_evolution.gif\")"
   ]
  },
  {
   "cell_type": "code",
   "execution_count": 18,
   "id": "9f515805",
   "metadata": {},
   "outputs": [
    {
     "data": {
      "text/plain": [
       "{'timestamp': Timestamp('2024-09-20 18:00:00+0000', tz='UTC'),\n",
       " 'expected_values': [697.4477,\n",
       "  2.2609138,\n",
       "  19.31023,\n",
       "  5.9684563,\n",
       "  7.304725,\n",
       "  14.863374,\n",
       "  27.380623],\n",
       " 'mixtures': {'mu': array([[ 5.68395872e+02,  9.13435126e-01,  1.39043217e+01,\n",
       "           2.45859972e+01,  4.54668924e+00,  1.63359320e+01,\n",
       "           2.84545219e+01],\n",
       "         [ 9.20234145e+02,  5.00631130e+00,  2.52289671e+01,\n",
       "           2.16408518e+00,  1.02069141e+01,  2.17239681e+01,\n",
       "           3.71692136e+01],\n",
       "         [ 1.74167094e+03,  1.62520434e+00,  5.23278210e+01,\n",
       "           3.10202976e+01,  2.33581299e+01,  8.64535871e+01,\n",
       "           1.12495716e+02],\n",
       "         [ 5.60969638e+02,  7.80018681e-01,  1.64268789e+01,\n",
       "           7.16169678e+00,  5.95875377e+00,  1.03878680e+01,\n",
       "           2.15148310e+01],\n",
       "         [ 6.83463897e+02,  5.58948672e-01, -4.60253316e+02,\n",
       "           3.94716417e+01, -4.85020303e+02,  1.49870121e+01,\n",
       "           2.68483978e+01],\n",
       "         [ 4.59118117e+02,  4.92906429e-01,  1.23539856e+01,\n",
       "           1.01521490e+01,  4.05462931e+00,  6.99826205e+00,\n",
       "           1.60417577e+01],\n",
       "         [ 7.35803487e+02,  1.73005490e+00,  2.04096665e+01,\n",
       "           4.59194070e+00,  7.52714074e+00,  1.53109401e+01,\n",
       "           2.83315357e+01],\n",
       "         [ 3.70722505e+02,  3.34960095e-01,  1.10654929e+01,\n",
       "           1.21844289e+01,  3.08526322e+00,  3.92537136e+00,\n",
       "           1.12150712e+01],\n",
       "         [ 1.18862557e+03,  9.61157769e+00,  2.93083485e+01,\n",
       "           1.48342149e+00,  1.39182544e+01,  3.48951621e+01,\n",
       "           5.33243849e+01],\n",
       "         [ 1.06256038e+03,  1.08245007e+00,  3.08643685e+01,\n",
       "           4.85836601e+00,  1.22583824e+01,  2.98339128e+01,\n",
       "           4.64818129e+01]]),\n",
       "  'sigma': array([[1.16526482e+02, 8.87849513e-01, 4.23822015e+00, 1.12338102e+01,\n",
       "          3.61628639e+00, 4.95366415e+00, 6.69686803e+00],\n",
       "         [9.64874077e+01, 3.03934158e+00, 4.44911933e+00, 3.61042728e+00,\n",
       "          3.13983146e+00, 3.62681636e+00, 4.55057595e+00],\n",
       "         [3.14555453e+02, 1.43149639e+00, 1.50004104e+01, 2.36696946e+01,\n",
       "          6.91872401e+00, 2.02584006e+01, 2.33646307e+01],\n",
       "         [5.13626690e+01, 5.23372991e-01, 2.56342658e+00, 4.40372802e+00,\n",
       "          2.14873906e+00, 1.66172107e+00, 2.58710962e+00],\n",
       "         [1.77324171e+02, 1.06315939e+00, 1.29649669e+03, 1.50707080e+01,\n",
       "          1.29319698e+03, 7.71497005e+00, 9.19173503e+00],\n",
       "         [3.92908959e+01, 4.13261930e-01, 1.91900803e+00, 6.45425967e+00,\n",
       "          1.51720401e+00, 1.16829879e+00, 2.01749939e+00],\n",
       "         [6.75867149e+01, 1.32003700e+00, 3.26248861e+00, 4.01843497e+00,\n",
       "          2.36982573e+00, 2.34530256e+00, 3.33137912e+00],\n",
       "         [3.72720711e+01, 3.95680459e-01, 1.67008216e+00, 7.94490539e+00,\n",
       "          1.18872478e+00, 1.01825155e+00, 1.85810243e+00],\n",
       "         [1.37157584e+02, 5.66537997e+00, 6.12934346e+00, 4.44450130e+00,\n",
       "          4.09551240e+00, 6.11832674e+00, 6.90993386e+00],\n",
       "         [1.26651907e+02, 8.00491676e-01, 7.60898048e+00, 1.10097209e+01,\n",
       "          3.27429670e+00, 5.49389476e+00, 5.87733876e+00]]),\n",
       "  'alpha': array([7.7524604e-03, 2.1378909e-01, 3.2213551e-03, 2.5452411e-01,\n",
       "         3.9400191e-05, 1.5334885e-01, 2.8492469e-01, 3.5959862e-02,\n",
       "         4.0908094e-02, 5.5320109e-03], dtype=float32)},\n",
       " 'ci_90': [(336.6943518868002, 1058.2010338553873),\n",
       "  (0, 7.195020087023304),\n",
       "  (1.5951142367254327, 37.02534627352847),\n",
       "  (0, 16.228055832526298),\n",
       "  (0, 22.829142791963456),\n",
       "  (0.9325375081297622, 28.79421000468762),\n",
       "  (8.931315976534624, 45.82992975100444)],\n",
       " 'ci_95': [(267.5835736289667, 1127.3118121132209),\n",
       "  (0, 8.140264062296623),\n",
       "  (0, 40.419092958227495),\n",
       "  (0, 18.193523175287652),\n",
       "  (0, 25.803209728992503),\n",
       "  (0, 31.46298898889365),\n",
       "  (5.396917781314791, 49.36432794622427)],\n",
       " 'text_report': ['At 6 PM, the expected concentration of CO was estimated at 697.45 mg/m³.\\nWe are 90% confident that the true value lies between 336.69 and 1058.20 mg/m³,\\nand 95% confident it lies between 267.58 and 1127.31 mg/m³.\\n',\n",
       "  'At 6 PM, the expected concentration of NO was estimated at 2.26 mg/m³.\\nWe are 90% confident that the true value lies between 0.00 and 7.20 mg/m³,\\nand 95% confident it lies between 0.00 and 8.14 mg/m³.\\n',\n",
       "  'At 6 PM, the expected concentration of NO2 was estimated at 19.31 mg/m³.\\nWe are 90% confident that the true value lies between 1.60 and 37.03 mg/m³,\\nand 95% confident it lies between 0.00 and 40.42 mg/m³.\\n',\n",
       "  'At 6 PM, the expected concentration of O3 was estimated at 5.97 mg/m³.\\nWe are 90% confident that the true value lies between 0.00 and 16.23 mg/m³,\\nand 95% confident it lies between 0.00 and 18.19 mg/m³.\\n',\n",
       "  'At 6 PM, the expected concentration of SO2 was estimated at 7.30 mg/m³.\\nWe are 90% confident that the true value lies between 0.00 and 22.83 mg/m³,\\nand 95% confident it lies between 0.00 and 25.80 mg/m³.\\n',\n",
       "  'At 6 PM, the expected concentration of PM2.5 was estimated at 14.86 mg/m³.\\nWe are 90% confident that the true value lies between 0.93 and 28.79 mg/m³,\\nand 95% confident it lies between 0.00 and 31.46 mg/m³.\\n',\n",
       "  'At 6 PM, the expected concentration of PM10 was estimated at 27.38 mg/m³.\\nWe are 90% confident that the true value lies between 8.93 and 45.83 mg/m³,\\nand 95% confident it lies between 5.40 and 49.36 mg/m³.\\n']}"
      ]
     },
     "execution_count": 18,
     "metadata": {},
     "output_type": "execute_result"
    }
   ],
   "source": [
    "visualizer.generate_insights_from_timestep(timestep_index=13)"
   ]
  },
  {
   "cell_type": "markdown",
   "id": "f66cff67",
   "metadata": {},
   "source": [
    "### Choosing the Best Model"
   ]
  },
  {
   "cell_type": "code",
   "execution_count": 19,
   "id": "9d7c0b88",
   "metadata": {},
   "outputs": [
    {
     "name": "stderr",
     "output_type": "stream",
     "text": [
      "[I 2025-06-03 15:04:40,662] A new study created in RDB with name: lstm_mdn_hyperparam_search\n"
     ]
    }
   ],
   "source": [
    "def lstm_mdn_objective(trial):\n",
    "    hidden_dim = trial.suggest_categorical(\"hidden_dim\", [64, 128, 256])\n",
    "    num_layers = trial.suggest_int(\"num_layers\", 1, 3)\n",
    "    num_mixtures = trial.suggest_int(\"num_mixtures\", 3, 8)\n",
    "    learning_rate = trial.suggest_float(\"lr\", 1e-4, 1e-2, log=True)\n",
    "    lookback_days = trial.suggest_categorical(\"lookback_days\", [1, 2, 4])\n",
    "    step = trial.suggest_categorical(\"step\", [1, 2, 3, 4, 6])  # hours between timesteps\n",
    "    dropout = trial.suggest_float(\"dropout\", 0.0, 0.5)\n",
    "\n",
    "    lookback_hours = lookback_days * 24\n",
    "\n",
    "    training_dataset, validation_dataset = generate_datasets(\n",
    "        dataset_df,\n",
    "        lookback=lookback_hours,\n",
    "        delay=24,   # predict 1 day ahead (constant)\n",
    "        step=step\n",
    "    )\n",
    "\n",
    "    model = LSTM_MDN(\n",
    "        input_dim=21,\n",
    "        hidden_dim=hidden_dim,\n",
    "        num_layers=num_layers,\n",
    "        num_mixtures=num_mixtures,\n",
    "        output_dim=7,\n",
    "        dropout=dropout\n",
    "        # fc_dim=fc_dim\n",
    "    )\n",
    "\n",
    "    optimizer = torch.optim.Adam(model.parameters(), lr=learning_rate)\n",
    "\n",
    "    model_pth = f\"lstm_mdn_{trial.number}_checkpoint.pth\"\n",
    "    trainer = Trainer(\n",
    "        model=model,\n",
    "        criterion=mdn_loss,\n",
    "        optimizer=optimizer,\n",
    "        train_dataset=training_dataset,\n",
    "        val_dataset=validation_dataset,\n",
    "        model_pth=model_pth,\n",
    "        batch_size=256\n",
    "    )\n",
    "\n",
    "    trainer.train(num_epochs=30)\n",
    "\n",
    "    return trainer.history['val_loss'][-1]\n",
    "\n",
    "lstm_study = optuna.create_study(\n",
    "    direction=\"minimize\",  # because lower NLL is better\n",
    "    study_name=\"lstm_mdn_hyperparam_search\",\n",
    "    storage=f\"sqlite:///{WEIGHTS_DIR}/optuna_study.db\",\n",
    "    load_if_exists=True\n",
    ")\n"
   ]
  },
  {
   "cell_type": "code",
   "execution_count": 20,
   "id": "5232d9cd",
   "metadata": {},
   "outputs": [
    {
     "name": "stderr",
     "output_type": "stream",
     "text": [
      "100%|██████████| 7485/7485 [00:04<00:00, 1688.99it/s]\n",
      "100%|██████████| 4297/4297 [00:02<00:00, 1623.84it/s]\n",
      "100%|██████████| 7485/7485 [00:04<00:00, 1665.20it/s]\n",
      "100%|██████████| 4297/4297 [00:02<00:00, 1539.39it/s]\n",
      "100%|██████████| 7485/7485 [00:04<00:00, 1570.24it/s]\n",
      "100%|██████████| 4297/4297 [00:02<00:00, 1565.83it/s]\n",
      "100%|██████████| 7485/7485 [00:04<00:00, 1499.45it/s]\n",
      "100%|██████████| 4297/4297 [00:02<00:00, 1502.20it/s]\n",
      "100%|██████████| 7485/7485 [00:04<00:00, 1613.81it/s]\n",
      "100%|██████████| 4297/4297 [00:02<00:00, 1551.46it/s]\n",
      "100%|██████████| 7485/7485 [00:04<00:00, 1656.36it/s]\n",
      "100%|██████████| 4297/4297 [00:02<00:00, 1560.65it/s]\n",
      "100%|██████████| 7485/7485 [00:04<00:00, 1641.38it/s]\n",
      "100%|██████████| 4297/4297 [00:02<00:00, 1587.48it/s]\n",
      "100%|██████████| 7485/7485 [00:04<00:00, 1585.00it/s]\n",
      "100%|██████████| 4297/4297 [00:02<00:00, 1572.82it/s]\n",
      "100%|██████████| 7485/7485 [00:04<00:00, 1637.56it/s]\n",
      "100%|██████████| 4297/4297 [00:02<00:00, 1563.95it/s]\n",
      "100%|██████████| 7485/7485 [00:04<00:00, 1619.68it/s]\n",
      "100%|██████████| 4297/4297 [00:02<00:00, 1529.44it/s]\n",
      "100%|██████████| 7485/7485 [00:04<00:00, 1623.09it/s]\n",
      "100%|██████████| 4297/4297 [00:02<00:00, 1655.54it/s]\n",
      "100%|██████████| 7485/7485 [00:04<00:00, 1666.91it/s]\n",
      "100%|██████████| 4297/4297 [00:02<00:00, 1619.05it/s]\n",
      "100%|██████████| 7485/7485 [00:04<00:00, 1615.84it/s]\n",
      "100%|██████████| 4297/4297 [00:02<00:00, 1506.12it/s]\n",
      "Epoch 1: 100%|██████████| 381/381 [00:08<00:00, 46.52batch/s]\n",
      "Validation: 100%|██████████| 219/219 [00:01<00:00, 214.42batch/s]\n"
     ]
    },
    {
     "name": "stdout",
     "output_type": "stream",
     "text": [
      "Epoch 1/30 - Train Loss: 2.861472 - Val Loss: -0.633744\n"
     ]
    },
    {
     "name": "stderr",
     "output_type": "stream",
     "text": [
      "Epoch 2: 100%|██████████| 381/381 [00:07<00:00, 47.82batch/s]\n",
      "Validation: 100%|██████████| 219/219 [00:01<00:00, 175.45batch/s]\n"
     ]
    },
    {
     "name": "stdout",
     "output_type": "stream",
     "text": [
      "Epoch 2/30 - Train Loss: -0.302455 - Val Loss: -1.076657\n"
     ]
    },
    {
     "name": "stderr",
     "output_type": "stream",
     "text": [
      "Epoch 3: 100%|██████████| 381/381 [00:08<00:00, 44.66batch/s]\n",
      "Validation: 100%|██████████| 219/219 [00:01<00:00, 215.69batch/s]\n"
     ]
    },
    {
     "name": "stdout",
     "output_type": "stream",
     "text": [
      "Epoch 3/30 - Train Loss: -0.902050 - Val Loss: -0.943677\n"
     ]
    },
    {
     "name": "stderr",
     "output_type": "stream",
     "text": [
      "Epoch 4: 100%|██████████| 381/381 [00:07<00:00, 47.71batch/s]\n",
      "Validation: 100%|██████████| 219/219 [00:01<00:00, 215.75batch/s]\n"
     ]
    },
    {
     "name": "stdout",
     "output_type": "stream",
     "text": [
      "Epoch 4/30 - Train Loss: -1.158445 - Val Loss: -1.826376\n"
     ]
    },
    {
     "name": "stderr",
     "output_type": "stream",
     "text": [
      "Epoch 5: 100%|██████████| 381/381 [00:08<00:00, 46.96batch/s]\n",
      "Validation: 100%|██████████| 219/219 [00:00<00:00, 223.71batch/s]\n"
     ]
    },
    {
     "name": "stdout",
     "output_type": "stream",
     "text": [
      "Epoch 5/30 - Train Loss: -1.568980 - Val Loss: -2.038904\n"
     ]
    },
    {
     "name": "stderr",
     "output_type": "stream",
     "text": [
      "Epoch 6: 100%|██████████| 381/381 [00:07<00:00, 53.77batch/s] \n",
      "Validation: 100%|██████████| 219/219 [00:01<00:00, 216.93batch/s]\n"
     ]
    },
    {
     "name": "stdout",
     "output_type": "stream",
     "text": [
      "Epoch 6/30 - Train Loss: -1.844895 - Val Loss: -2.281385\n"
     ]
    },
    {
     "name": "stderr",
     "output_type": "stream",
     "text": [
      "Epoch 7: 100%|██████████| 381/381 [00:07<00:00, 48.28batch/s]\n",
      "Validation: 100%|██████████| 219/219 [00:01<00:00, 215.64batch/s]\n"
     ]
    },
    {
     "name": "stdout",
     "output_type": "stream",
     "text": [
      "Epoch 7/30 - Train Loss: -2.035041 - Val Loss: -2.068005\n"
     ]
    },
    {
     "name": "stderr",
     "output_type": "stream",
     "text": [
      "Epoch 8: 100%|██████████| 381/381 [00:08<00:00, 46.06batch/s]\n",
      "Validation: 100%|██████████| 219/219 [00:01<00:00, 199.06batch/s]\n"
     ]
    },
    {
     "name": "stdout",
     "output_type": "stream",
     "text": [
      "Epoch 8/30 - Train Loss: -1.967497 - Val Loss: -2.316319\n"
     ]
    },
    {
     "name": "stderr",
     "output_type": "stream",
     "text": [
      "Epoch 9: 100%|██████████| 381/381 [00:07<00:00, 47.68batch/s]\n",
      "Validation: 100%|██████████| 219/219 [00:00<00:00, 239.16batch/s]\n"
     ]
    },
    {
     "name": "stdout",
     "output_type": "stream",
     "text": [
      "Epoch 9/30 - Train Loss: -2.366695 - Val Loss: -2.436362\n"
     ]
    },
    {
     "name": "stderr",
     "output_type": "stream",
     "text": [
      "Epoch 10: 100%|██████████| 381/381 [00:08<00:00, 46.63batch/s]\n",
      "Validation: 100%|██████████| 219/219 [00:00<00:00, 235.50batch/s]\n"
     ]
    },
    {
     "name": "stdout",
     "output_type": "stream",
     "text": [
      "Epoch 10/30 - Train Loss: -2.496853 - Val Loss: -1.944267\n"
     ]
    },
    {
     "name": "stderr",
     "output_type": "stream",
     "text": [
      "Epoch 11: 100%|██████████| 381/381 [00:07<00:00, 48.95batch/s]\n",
      "Validation: 100%|██████████| 219/219 [00:00<00:00, 236.84batch/s]\n"
     ]
    },
    {
     "name": "stdout",
     "output_type": "stream",
     "text": [
      "Epoch 11/30 - Train Loss: -2.632740 - Val Loss: -2.302467\n"
     ]
    },
    {
     "name": "stderr",
     "output_type": "stream",
     "text": [
      "Epoch 12: 100%|██████████| 381/381 [00:07<00:00, 48.40batch/s]\n",
      "Validation: 100%|██████████| 219/219 [00:01<00:00, 216.08batch/s]\n"
     ]
    },
    {
     "name": "stdout",
     "output_type": "stream",
     "text": [
      "Epoch 12/30 - Train Loss: -2.830798 - Val Loss: -2.004439\n"
     ]
    },
    {
     "name": "stderr",
     "output_type": "stream",
     "text": [
      "Epoch 13: 100%|██████████| 381/381 [00:07<00:00, 48.40batch/s]\n",
      "Validation: 100%|██████████| 219/219 [00:01<00:00, 173.96batch/s]\n"
     ]
    },
    {
     "name": "stdout",
     "output_type": "stream",
     "text": [
      "Epoch 13/30 - Train Loss: -2.597513 - Val Loss: -2.449757\n"
     ]
    },
    {
     "name": "stderr",
     "output_type": "stream",
     "text": [
      "Epoch 14: 100%|██████████| 381/381 [00:07<00:00, 48.90batch/s]\n",
      "Validation: 100%|██████████| 219/219 [00:01<00:00, 217.89batch/s]\n"
     ]
    },
    {
     "name": "stdout",
     "output_type": "stream",
     "text": [
      "Epoch 14/30 - Train Loss: -2.930451 - Val Loss: -1.561282\n"
     ]
    },
    {
     "name": "stderr",
     "output_type": "stream",
     "text": [
      "Epoch 15: 100%|██████████| 381/381 [00:07<00:00, 48.92batch/s]\n",
      "Validation: 100%|██████████| 219/219 [00:01<00:00, 200.26batch/s]\n"
     ]
    },
    {
     "name": "stdout",
     "output_type": "stream",
     "text": [
      "Epoch 15/30 - Train Loss: -2.915037 - Val Loss: -2.150074\n"
     ]
    },
    {
     "name": "stderr",
     "output_type": "stream",
     "text": [
      "Epoch 16: 100%|██████████| 381/381 [00:04<00:00, 81.69batch/s] \n",
      "Validation: 100%|██████████| 219/219 [00:01<00:00, 213.28batch/s]\n"
     ]
    },
    {
     "name": "stdout",
     "output_type": "stream",
     "text": [
      "Epoch 16/30 - Train Loss: -3.251573 - Val Loss: -2.452315\n"
     ]
    },
    {
     "name": "stderr",
     "output_type": "stream",
     "text": [
      "Epoch 17: 100%|██████████| 381/381 [00:07<00:00, 47.93batch/s]\n",
      "Validation: 100%|██████████| 219/219 [00:01<00:00, 213.78batch/s]\n"
     ]
    },
    {
     "name": "stdout",
     "output_type": "stream",
     "text": [
      "Epoch 17/30 - Train Loss: -3.379799 - Val Loss: -2.143825\n"
     ]
    },
    {
     "name": "stderr",
     "output_type": "stream",
     "text": [
      "Epoch 18: 100%|██████████| 381/381 [00:04<00:00, 78.25batch/s] \n",
      "Validation: 100%|██████████| 219/219 [00:01<00:00, 211.81batch/s]\n"
     ]
    },
    {
     "name": "stdout",
     "output_type": "stream",
     "text": [
      "Epoch 18/30 - Train Loss: -3.481373 - Val Loss: -2.204241\n"
     ]
    },
    {
     "name": "stderr",
     "output_type": "stream",
     "text": [
      "Epoch 19: 100%|██████████| 381/381 [00:07<00:00, 48.59batch/s]\n",
      "Validation: 100%|██████████| 219/219 [00:01<00:00, 215.14batch/s]\n"
     ]
    },
    {
     "name": "stdout",
     "output_type": "stream",
     "text": [
      "Epoch 19/30 - Train Loss: -3.603183 - Val Loss: -2.138634\n"
     ]
    },
    {
     "name": "stderr",
     "output_type": "stream",
     "text": [
      "Epoch 20: 100%|██████████| 381/381 [00:07<00:00, 48.38batch/s]\n",
      "Validation: 100%|██████████| 219/219 [00:01<00:00, 216.07batch/s]\n"
     ]
    },
    {
     "name": "stdout",
     "output_type": "stream",
     "text": [
      "Epoch 20/30 - Train Loss: -3.734164 - Val Loss: -1.980604\n"
     ]
    },
    {
     "name": "stderr",
     "output_type": "stream",
     "text": [
      "Epoch 21: 100%|██████████| 381/381 [00:08<00:00, 47.06batch/s]\n",
      "Validation: 100%|██████████| 219/219 [00:01<00:00, 215.08batch/s]\n"
     ]
    },
    {
     "name": "stdout",
     "output_type": "stream",
     "text": [
      "Epoch 21/30 - Train Loss: -3.839008 - Val Loss: -1.953702\n"
     ]
    },
    {
     "name": "stderr",
     "output_type": "stream",
     "text": [
      "Epoch 22: 100%|██████████| 381/381 [00:07<00:00, 48.49batch/s]\n",
      "Validation: 100%|██████████| 219/219 [00:01<00:00, 216.35batch/s]\n"
     ]
    },
    {
     "name": "stdout",
     "output_type": "stream",
     "text": [
      "Epoch 22/30 - Train Loss: -3.741126 - Val Loss: -2.102618\n"
     ]
    },
    {
     "name": "stderr",
     "output_type": "stream",
     "text": [
      "Epoch 23: 100%|██████████| 381/381 [00:07<00:00, 48.26batch/s]\n",
      "Validation: 100%|██████████| 219/219 [00:00<00:00, 233.55batch/s]\n"
     ]
    },
    {
     "name": "stdout",
     "output_type": "stream",
     "text": [
      "Epoch 23/30 - Train Loss: -3.977829 - Val Loss: -1.550960\n"
     ]
    },
    {
     "name": "stderr",
     "output_type": "stream",
     "text": [
      "Epoch 24: 100%|██████████| 381/381 [00:07<00:00, 48.41batch/s]\n",
      "Validation: 100%|██████████| 219/219 [00:01<00:00, 177.35batch/s]\n"
     ]
    },
    {
     "name": "stdout",
     "output_type": "stream",
     "text": [
      "Epoch 24/30 - Train Loss: -3.812056 - Val Loss: -1.970677\n"
     ]
    },
    {
     "name": "stderr",
     "output_type": "stream",
     "text": [
      "Epoch 25: 100%|██████████| 381/381 [00:07<00:00, 48.49batch/s]\n",
      "Validation: 100%|██████████| 219/219 [00:01<00:00, 216.44batch/s]\n"
     ]
    },
    {
     "name": "stdout",
     "output_type": "stream",
     "text": [
      "Epoch 25/30 - Train Loss: -4.044060 - Val Loss: -1.355012\n"
     ]
    },
    {
     "name": "stderr",
     "output_type": "stream",
     "text": [
      "Epoch 26: 100%|██████████| 381/381 [00:08<00:00, 46.07batch/s]\n",
      "Validation: 100%|██████████| 219/219 [00:01<00:00, 216.98batch/s]\n"
     ]
    },
    {
     "name": "stdout",
     "output_type": "stream",
     "text": [
      "Epoch 26/30 - Train Loss: -3.856361 - Val Loss: -1.623799\n"
     ]
    },
    {
     "name": "stderr",
     "output_type": "stream",
     "text": [
      "Epoch 27: 100%|██████████| 381/381 [00:07<00:00, 48.29batch/s]\n",
      "Validation: 100%|██████████| 219/219 [00:01<00:00, 172.95batch/s]\n"
     ]
    },
    {
     "name": "stdout",
     "output_type": "stream",
     "text": [
      "Epoch 27/30 - Train Loss: -1.654610 - Val Loss: -2.290892\n"
     ]
    },
    {
     "name": "stderr",
     "output_type": "stream",
     "text": [
      "Epoch 28: 100%|██████████| 381/381 [00:08<00:00, 44.71batch/s]\n",
      "Validation: 100%|██████████| 219/219 [00:01<00:00, 186.57batch/s]\n"
     ]
    },
    {
     "name": "stdout",
     "output_type": "stream",
     "text": [
      "Epoch 28/30 - Train Loss: -2.785607 - Val Loss: -2.480152\n"
     ]
    },
    {
     "name": "stderr",
     "output_type": "stream",
     "text": [
      "Epoch 29: 100%|██████████| 381/381 [00:08<00:00, 46.05batch/s]\n",
      "Validation: 100%|██████████| 219/219 [00:01<00:00, 168.01batch/s]\n"
     ]
    },
    {
     "name": "stdout",
     "output_type": "stream",
     "text": [
      "Epoch 29/30 - Train Loss: -3.432521 - Val Loss: -2.144283\n"
     ]
    },
    {
     "name": "stderr",
     "output_type": "stream",
     "text": [
      "Epoch 30: 100%|██████████| 381/381 [00:08<00:00, 46.17batch/s]\n",
      "Validation: 100%|██████████| 219/219 [00:00<00:00, 230.66batch/s]\n"
     ]
    },
    {
     "name": "stdout",
     "output_type": "stream",
     "text": [
      "Epoch 30/30 - Train Loss: -3.675088 - Val Loss: -1.913086\n"
     ]
    },
    {
     "name": "stderr",
     "output_type": "stream",
     "text": [
      "[I 2025-06-03 15:10:46,037] Trial 0 finished with value: -1.9130858600683953 and parameters: {'hidden_dim': 128, 'num_layers': 3, 'num_mixtures': 3, 'lr': 0.0012072723310861178, 'lookback_days': 1, 'step': 6, 'dropout': 0.4052774632907246}. Best is trial 0 with value: -1.9130858600683953.\n",
      "100%|██████████| 7461/7461 [00:04<00:00, 1695.50it/s]\n",
      "100%|██████████| 4273/4273 [00:02<00:00, 1599.22it/s]\n",
      "100%|██████████| 7461/7461 [00:04<00:00, 1620.55it/s]\n",
      "100%|██████████| 4273/4273 [00:02<00:00, 1679.66it/s]\n",
      "100%|██████████| 7461/7461 [00:04<00:00, 1656.16it/s]\n",
      "100%|██████████| 4273/4273 [00:02<00:00, 1669.16it/s]\n",
      "100%|██████████| 7461/7461 [00:04<00:00, 1629.50it/s]\n",
      "100%|██████████| 4273/4273 [00:02<00:00, 1635.01it/s]\n",
      "100%|██████████| 7461/7461 [00:04<00:00, 1565.30it/s]\n",
      "100%|██████████| 4273/4273 [00:02<00:00, 1601.56it/s]\n",
      "100%|██████████| 7461/7461 [00:04<00:00, 1640.66it/s]\n",
      "100%|██████████| 4273/4273 [00:02<00:00, 1587.08it/s]\n",
      "100%|██████████| 7461/7461 [00:04<00:00, 1670.19it/s]\n",
      "100%|██████████| 4273/4273 [00:02<00:00, 1641.54it/s]\n",
      "100%|██████████| 7461/7461 [00:04<00:00, 1588.98it/s]\n",
      "100%|██████████| 4273/4273 [00:02<00:00, 1696.69it/s]\n",
      "100%|██████████| 7461/7461 [00:04<00:00, 1647.22it/s]\n",
      "100%|██████████| 4273/4273 [00:02<00:00, 1450.24it/s]\n",
      "100%|██████████| 7461/7461 [00:04<00:00, 1616.72it/s]\n",
      "100%|██████████| 4273/4273 [00:02<00:00, 1618.85it/s]\n",
      "100%|██████████| 7461/7461 [00:04<00:00, 1654.18it/s]\n",
      "100%|██████████| 4273/4273 [00:02<00:00, 1632.38it/s]\n",
      "100%|██████████| 7461/7461 [00:04<00:00, 1682.70it/s]\n",
      "100%|██████████| 4273/4273 [00:02<00:00, 1694.12it/s]\n",
      "100%|██████████| 7461/7461 [00:04<00:00, 1651.21it/s]\n",
      "100%|██████████| 4273/4273 [00:02<00:00, 1558.69it/s]\n",
      "Epoch 1: 100%|██████████| 379/379 [00:07<00:00, 48.58batch/s]\n",
      "Validation: 100%|██████████| 217/217 [00:00<00:00, 256.89batch/s]\n"
     ]
    },
    {
     "name": "stdout",
     "output_type": "stream",
     "text": [
      "Epoch 1/30 - Train Loss: 2.544518 - Val Loss: 1.918055\n"
     ]
    },
    {
     "name": "stderr",
     "output_type": "stream",
     "text": [
      "Epoch 2: 100%|██████████| 379/379 [00:08<00:00, 47.09batch/s]\n",
      "Validation: 100%|██████████| 217/217 [00:00<00:00, 251.33batch/s]\n"
     ]
    },
    {
     "name": "stdout",
     "output_type": "stream",
     "text": [
      "Epoch 2/30 - Train Loss: 0.368932 - Val Loss: -0.886666\n"
     ]
    },
    {
     "name": "stderr",
     "output_type": "stream",
     "text": [
      "Epoch 3: 100%|██████████| 379/379 [00:08<00:00, 47.23batch/s]\n",
      "Validation: 100%|██████████| 217/217 [00:00<00:00, 280.50batch/s]\n"
     ]
    },
    {
     "name": "stdout",
     "output_type": "stream",
     "text": [
      "Epoch 3/30 - Train Loss: -0.423900 - Val Loss: -1.075409\n"
     ]
    },
    {
     "name": "stderr",
     "output_type": "stream",
     "text": [
      "Epoch 4: 100%|██████████| 379/379 [00:08<00:00, 45.56batch/s]\n",
      "Validation: 100%|██████████| 217/217 [00:00<00:00, 239.43batch/s]\n"
     ]
    },
    {
     "name": "stdout",
     "output_type": "stream",
     "text": [
      "Epoch 4/30 - Train Loss: -1.250639 - Val Loss: -2.384302\n"
     ]
    },
    {
     "name": "stderr",
     "output_type": "stream",
     "text": [
      "Epoch 5: 100%|██████████| 379/379 [00:08<00:00, 46.37batch/s]\n",
      "Validation: 100%|██████████| 217/217 [00:01<00:00, 155.68batch/s]\n"
     ]
    },
    {
     "name": "stdout",
     "output_type": "stream",
     "text": [
      "Epoch 5/30 - Train Loss: -1.901996 - Val Loss: -2.667919\n"
     ]
    },
    {
     "name": "stderr",
     "output_type": "stream",
     "text": [
      "Epoch 6: 100%|██████████| 379/379 [00:08<00:00, 45.64batch/s]\n",
      "Validation: 100%|██████████| 217/217 [00:00<00:00, 278.82batch/s]\n"
     ]
    },
    {
     "name": "stdout",
     "output_type": "stream",
     "text": [
      "Epoch 6/30 - Train Loss: -2.079878 - Val Loss: -2.645274\n"
     ]
    },
    {
     "name": "stderr",
     "output_type": "stream",
     "text": [
      "Epoch 7: 100%|██████████| 379/379 [00:08<00:00, 44.57batch/s]\n",
      "Validation: 100%|██████████| 217/217 [00:00<00:00, 283.58batch/s]\n"
     ]
    },
    {
     "name": "stdout",
     "output_type": "stream",
     "text": [
      "Epoch 7/30 - Train Loss: -2.193102 - Val Loss: -2.846427\n"
     ]
    },
    {
     "name": "stderr",
     "output_type": "stream",
     "text": [
      "Epoch 8: 100%|██████████| 379/379 [00:08<00:00, 43.43batch/s]\n",
      "Validation: 100%|██████████| 217/217 [00:00<00:00, 252.86batch/s]\n"
     ]
    },
    {
     "name": "stdout",
     "output_type": "stream",
     "text": [
      "Epoch 8/30 - Train Loss: -2.346455 - Val Loss: -2.994785\n"
     ]
    },
    {
     "name": "stderr",
     "output_type": "stream",
     "text": [
      "Epoch 9: 100%|██████████| 379/379 [00:08<00:00, 43.40batch/s]\n",
      "Validation: 100%|██████████| 217/217 [00:00<00:00, 244.06batch/s]\n"
     ]
    },
    {
     "name": "stdout",
     "output_type": "stream",
     "text": [
      "Epoch 9/30 - Train Loss: -2.538407 - Val Loss: -3.067349\n"
     ]
    },
    {
     "name": "stderr",
     "output_type": "stream",
     "text": [
      "Epoch 10: 100%|██████████| 379/379 [00:08<00:00, 46.75batch/s]\n",
      "Validation: 100%|██████████| 217/217 [00:00<00:00, 256.73batch/s]\n"
     ]
    },
    {
     "name": "stdout",
     "output_type": "stream",
     "text": [
      "Epoch 10/30 - Train Loss: -2.654461 - Val Loss: -3.205357\n"
     ]
    },
    {
     "name": "stderr",
     "output_type": "stream",
     "text": [
      "Epoch 11: 100%|██████████| 379/379 [00:08<00:00, 46.52batch/s]\n",
      "Validation: 100%|██████████| 217/217 [00:00<00:00, 255.30batch/s]\n"
     ]
    },
    {
     "name": "stdout",
     "output_type": "stream",
     "text": [
      "Epoch 11/30 - Train Loss: -2.752815 - Val Loss: -3.319011\n"
     ]
    },
    {
     "name": "stderr",
     "output_type": "stream",
     "text": [
      "Epoch 12: 100%|██████████| 379/379 [00:08<00:00, 47.16batch/s]\n",
      "Validation: 100%|██████████| 217/217 [00:00<00:00, 250.84batch/s]\n"
     ]
    },
    {
     "name": "stdout",
     "output_type": "stream",
     "text": [
      "Epoch 12/30 - Train Loss: -2.903679 - Val Loss: -3.398461\n"
     ]
    },
    {
     "name": "stderr",
     "output_type": "stream",
     "text": [
      "Epoch 13: 100%|██████████| 379/379 [00:08<00:00, 43.47batch/s]\n",
      "Validation: 100%|██████████| 217/217 [00:00<00:00, 244.06batch/s]\n"
     ]
    },
    {
     "name": "stdout",
     "output_type": "stream",
     "text": [
      "Epoch 13/30 - Train Loss: -3.040603 - Val Loss: -3.508523\n"
     ]
    },
    {
     "name": "stderr",
     "output_type": "stream",
     "text": [
      "Epoch 14: 100%|██████████| 379/379 [00:09<00:00, 42.06batch/s]\n",
      "Validation: 100%|██████████| 217/217 [00:00<00:00, 288.52batch/s]\n"
     ]
    },
    {
     "name": "stdout",
     "output_type": "stream",
     "text": [
      "Epoch 14/30 - Train Loss: -3.173294 - Val Loss: -3.567632\n"
     ]
    },
    {
     "name": "stderr",
     "output_type": "stream",
     "text": [
      "Epoch 15: 100%|██████████| 379/379 [00:08<00:00, 46.65batch/s]\n",
      "Validation: 100%|██████████| 217/217 [00:00<00:00, 245.29batch/s]\n"
     ]
    },
    {
     "name": "stdout",
     "output_type": "stream",
     "text": [
      "Epoch 15/30 - Train Loss: -3.250053 - Val Loss: -3.540425\n"
     ]
    },
    {
     "name": "stderr",
     "output_type": "stream",
     "text": [
      "Epoch 16: 100%|██████████| 379/379 [00:08<00:00, 45.28batch/s]\n",
      "Validation: 100%|██████████| 217/217 [00:01<00:00, 172.71batch/s]\n"
     ]
    },
    {
     "name": "stdout",
     "output_type": "stream",
     "text": [
      "Epoch 16/30 - Train Loss: -3.313446 - Val Loss: -3.513601\n"
     ]
    },
    {
     "name": "stderr",
     "output_type": "stream",
     "text": [
      "Epoch 17: 100%|██████████| 379/379 [00:08<00:00, 46.58batch/s]\n",
      "Validation: 100%|██████████| 217/217 [00:00<00:00, 256.46batch/s]\n"
     ]
    },
    {
     "name": "stdout",
     "output_type": "stream",
     "text": [
      "Epoch 17/30 - Train Loss: -3.407451 - Val Loss: -3.563892\n"
     ]
    },
    {
     "name": "stderr",
     "output_type": "stream",
     "text": [
      "Epoch 18: 100%|██████████| 379/379 [00:08<00:00, 46.92batch/s]\n",
      "Validation: 100%|██████████| 217/217 [00:00<00:00, 278.80batch/s]\n"
     ]
    },
    {
     "name": "stdout",
     "output_type": "stream",
     "text": [
      "Epoch 18/30 - Train Loss: -3.433654 - Val Loss: -3.621818\n"
     ]
    },
    {
     "name": "stderr",
     "output_type": "stream",
     "text": [
      "Epoch 19: 100%|██████████| 379/379 [00:08<00:00, 47.25batch/s]\n",
      "Validation: 100%|██████████| 217/217 [00:00<00:00, 260.46batch/s]\n"
     ]
    },
    {
     "name": "stdout",
     "output_type": "stream",
     "text": [
      "Epoch 19/30 - Train Loss: -3.459298 - Val Loss: -3.580882\n"
     ]
    },
    {
     "name": "stderr",
     "output_type": "stream",
     "text": [
      "Epoch 20: 100%|██████████| 379/379 [00:08<00:00, 43.81batch/s]\n",
      "Validation: 100%|██████████| 217/217 [00:00<00:00, 273.27batch/s]\n"
     ]
    },
    {
     "name": "stdout",
     "output_type": "stream",
     "text": [
      "Epoch 20/30 - Train Loss: -3.521356 - Val Loss: -3.625904\n"
     ]
    },
    {
     "name": "stderr",
     "output_type": "stream",
     "text": [
      "Epoch 21: 100%|██████████| 379/379 [00:09<00:00, 41.67batch/s]\n",
      "Validation: 100%|██████████| 217/217 [00:00<00:00, 246.10batch/s]\n"
     ]
    },
    {
     "name": "stdout",
     "output_type": "stream",
     "text": [
      "Epoch 21/30 - Train Loss: -3.558330 - Val Loss: -3.645506\n"
     ]
    },
    {
     "name": "stderr",
     "output_type": "stream",
     "text": [
      "Epoch 22: 100%|██████████| 379/379 [00:09<00:00, 41.59batch/s]\n",
      "Validation: 100%|██████████| 217/217 [00:00<00:00, 277.53batch/s]\n"
     ]
    },
    {
     "name": "stdout",
     "output_type": "stream",
     "text": [
      "Epoch 22/30 - Train Loss: -3.604904 - Val Loss: -3.545322\n"
     ]
    },
    {
     "name": "stderr",
     "output_type": "stream",
     "text": [
      "Epoch 23: 100%|██████████| 379/379 [00:09<00:00, 41.59batch/s]\n",
      "Validation: 100%|██████████| 217/217 [00:01<00:00, 175.80batch/s]\n"
     ]
    },
    {
     "name": "stdout",
     "output_type": "stream",
     "text": [
      "Epoch 23/30 - Train Loss: -3.619013 - Val Loss: -3.590791\n"
     ]
    },
    {
     "name": "stderr",
     "output_type": "stream",
     "text": [
      "Epoch 24: 100%|██████████| 379/379 [00:09<00:00, 41.87batch/s]\n",
      "Validation: 100%|██████████| 217/217 [00:00<00:00, 230.43batch/s]\n"
     ]
    },
    {
     "name": "stdout",
     "output_type": "stream",
     "text": [
      "Epoch 24/30 - Train Loss: -3.663605 - Val Loss: -3.507202\n"
     ]
    },
    {
     "name": "stderr",
     "output_type": "stream",
     "text": [
      "Epoch 25: 100%|██████████| 379/379 [00:08<00:00, 45.31batch/s]\n",
      "Validation: 100%|██████████| 217/217 [00:00<00:00, 273.18batch/s]\n"
     ]
    },
    {
     "name": "stdout",
     "output_type": "stream",
     "text": [
      "Epoch 25/30 - Train Loss: -3.698485 - Val Loss: -3.627159\n"
     ]
    },
    {
     "name": "stderr",
     "output_type": "stream",
     "text": [
      "Epoch 26: 100%|██████████| 379/379 [00:07<00:00, 47.91batch/s]\n",
      "Validation: 100%|██████████| 217/217 [00:00<00:00, 258.88batch/s]\n"
     ]
    },
    {
     "name": "stdout",
     "output_type": "stream",
     "text": [
      "Epoch 26/30 - Train Loss: -3.716216 - Val Loss: -3.736176\n"
     ]
    },
    {
     "name": "stderr",
     "output_type": "stream",
     "text": [
      "Epoch 27: 100%|██████████| 379/379 [00:08<00:00, 42.35batch/s]\n",
      "Validation: 100%|██████████| 217/217 [00:01<00:00, 177.94batch/s]\n"
     ]
    },
    {
     "name": "stdout",
     "output_type": "stream",
     "text": [
      "Epoch 27/30 - Train Loss: -3.728626 - Val Loss: -3.503715\n"
     ]
    },
    {
     "name": "stderr",
     "output_type": "stream",
     "text": [
      "Epoch 28: 100%|██████████| 379/379 [00:08<00:00, 45.32batch/s]\n",
      "Validation: 100%|██████████| 217/217 [00:00<00:00, 236.37batch/s]\n"
     ]
    },
    {
     "name": "stdout",
     "output_type": "stream",
     "text": [
      "Epoch 28/30 - Train Loss: -3.774739 - Val Loss: -3.551855\n"
     ]
    },
    {
     "name": "stderr",
     "output_type": "stream",
     "text": [
      "Epoch 29: 100%|██████████| 379/379 [00:08<00:00, 45.77batch/s]\n",
      "Validation: 100%|██████████| 217/217 [00:00<00:00, 269.05batch/s]\n"
     ]
    },
    {
     "name": "stdout",
     "output_type": "stream",
     "text": [
      "Epoch 29/30 - Train Loss: -3.824664 - Val Loss: -3.548889\n"
     ]
    },
    {
     "name": "stderr",
     "output_type": "stream",
     "text": [
      "Epoch 30: 100%|██████████| 379/379 [00:08<00:00, 43.61batch/s]\n",
      "Validation: 100%|██████████| 217/217 [00:00<00:00, 272.54batch/s]\n"
     ]
    },
    {
     "name": "stdout",
     "output_type": "stream",
     "text": [
      "Epoch 30/30 - Train Loss: -3.830366 - Val Loss: -3.572104\n"
     ]
    },
    {
     "name": "stderr",
     "output_type": "stream",
     "text": [
      "[I 2025-06-03 15:17:05,795] Trial 1 finished with value: -3.5721042770119857 and parameters: {'hidden_dim': 64, 'num_layers': 3, 'num_mixtures': 7, 'lr': 0.008580115787203784, 'lookback_days': 2, 'step': 3, 'dropout': 0.4966477704779986}. Best is trial 1 with value: -3.5721042770119857.\n",
      "100%|██████████| 7413/7413 [00:06<00:00, 1223.07it/s]\n",
      " 38%|███▊      | 1590/4225 [00:01<00:02, 1137.65it/s]\n",
      "[W 2025-06-03 15:17:14,094] Trial 2 failed with parameters: {'hidden_dim': 128, 'num_layers': 1, 'num_mixtures': 8, 'lr': 0.003817439080872239, 'lookback_days': 4, 'step': 3, 'dropout': 0.22410568377281165} because of the following error: KeyboardInterrupt().\n",
      "Traceback (most recent call last):\n",
      "  File \"/home/msds2025/fcayco/.local/lib/python3.12/site-packages/optuna/study/_optimize.py\", line 197, in _run_trial\n",
      "    value_or_values = func(trial)\n",
      "                      ^^^^^^^^^^^\n",
      "  File \"/tmp/ipykernel_585/120408768.py\", line 12, in lstm_mdn_objective\n",
      "    training_dataset, validation_dataset = generate_datasets(\n",
      "                                           ^^^^^^^^^^^^^^^^^^\n",
      "  File \"/tmp/ipykernel_585/3333453340.py\", line 32, in generate_datasets\n",
      "    validation_dataset = AQIDataset(\n",
      "                         ^^^^^^^^^^^\n",
      "  File \"/tmp/ipykernel_585/133241658.py\", line 34, in __init__\n",
      "    sample = self.data.iloc[indices].values  # shape: (lookback, num_features)\n",
      "             ~~~~~~~~~~~~~~^^^^^^^^^\n",
      "  File \"/opt/conda/lib/python3.12/site-packages/pandas/core/indexing.py\", line 1191, in __getitem__\n",
      "    return self._getitem_axis(maybe_callable, axis=axis)\n",
      "           ^^^^^^^^^^^^^^^^^^^^^^^^^^^^^^^^^^^^^^^^^^^^^\n",
      "  File \"/opt/conda/lib/python3.12/site-packages/pandas/core/indexing.py\", line 1743, in _getitem_axis\n",
      "    return self._get_list_axis(key, axis=axis)\n",
      "           ^^^^^^^^^^^^^^^^^^^^^^^^^^^^^^^^^^^\n",
      "  File \"/opt/conda/lib/python3.12/site-packages/pandas/core/indexing.py\", line 1714, in _get_list_axis\n",
      "    return self.obj._take_with_is_copy(key, axis=axis)\n",
      "           ^^^^^^^^^^^^^^^^^^^^^^^^^^^^^^^^^^^^^^^^^^^\n",
      "  File \"/opt/conda/lib/python3.12/site-packages/pandas/core/generic.py\", line 4156, in _take_with_is_copy\n",
      "    result._set_is_copy(self)\n",
      "  File \"/opt/conda/lib/python3.12/site-packages/pandas/core/generic.py\", line 4385, in _set_is_copy\n",
      "    self._is_copy = weakref.ref(ref)\n",
      "                    ^^^^^^^^^^^^^^^^\n",
      "KeyboardInterrupt\n",
      "[W 2025-06-03 15:17:14,123] Trial 2 failed with value None.\n"
     ]
    },
    {
     "ename": "KeyboardInterrupt",
     "evalue": "",
     "output_type": "error",
     "traceback": [
      "\u001b[0;31m---------------------------------------------------------------------------\u001b[0m",
      "\u001b[0;31mKeyboardInterrupt\u001b[0m                         Traceback (most recent call last)",
      "\u001b[0;32m/tmp/ipykernel_585/1849058706.py\u001b[0m in \u001b[0;36m?\u001b[0;34m()\u001b[0m\n\u001b[0;32m----> 1\u001b[0;31m \u001b[0mlstm_study\u001b[0m\u001b[0;34m.\u001b[0m\u001b[0moptimize\u001b[0m\u001b[0;34m(\u001b[0m\u001b[0mlstm_mdn_objective\u001b[0m\u001b[0;34m,\u001b[0m \u001b[0mn_trials\u001b[0m\u001b[0;34m=\u001b[0m\u001b[0;36m30\u001b[0m\u001b[0;34m)\u001b[0m\u001b[0;34m\u001b[0m\u001b[0;34m\u001b[0m\u001b[0m\n\u001b[0m",
      "\u001b[0;32m~/.local/lib/python3.12/site-packages/optuna/study/study.py\u001b[0m in \u001b[0;36m?\u001b[0;34m(self, func, n_trials, timeout, n_jobs, catch, callbacks, gc_after_trial, show_progress_bar)\u001b[0m\n\u001b[1;32m    471\u001b[0m         \u001b[0mRaises\u001b[0m\u001b[0;34m:\u001b[0m\u001b[0;34m\u001b[0m\u001b[0;34m\u001b[0m\u001b[0m\n\u001b[1;32m    472\u001b[0m             \u001b[0mRuntimeError\u001b[0m\u001b[0;34m:\u001b[0m\u001b[0;34m\u001b[0m\u001b[0;34m\u001b[0m\u001b[0m\n\u001b[1;32m    473\u001b[0m                 \u001b[0mIf\u001b[0m \u001b[0mnested\u001b[0m \u001b[0minvocation\u001b[0m \u001b[0mof\u001b[0m \u001b[0mthis\u001b[0m \u001b[0mmethod\u001b[0m \u001b[0moccurs\u001b[0m\u001b[0;34m.\u001b[0m\u001b[0;34m\u001b[0m\u001b[0;34m\u001b[0m\u001b[0m\n\u001b[1;32m    474\u001b[0m         \"\"\"\n\u001b[0;32m--> 475\u001b[0;31m         _optimize(\n\u001b[0m\u001b[1;32m    476\u001b[0m             \u001b[0mstudy\u001b[0m\u001b[0;34m=\u001b[0m\u001b[0mself\u001b[0m\u001b[0;34m,\u001b[0m\u001b[0;34m\u001b[0m\u001b[0;34m\u001b[0m\u001b[0m\n\u001b[1;32m    477\u001b[0m             \u001b[0mfunc\u001b[0m\u001b[0;34m=\u001b[0m\u001b[0mfunc\u001b[0m\u001b[0;34m,\u001b[0m\u001b[0;34m\u001b[0m\u001b[0;34m\u001b[0m\u001b[0m\n\u001b[1;32m    478\u001b[0m             \u001b[0mn_trials\u001b[0m\u001b[0;34m=\u001b[0m\u001b[0mn_trials\u001b[0m\u001b[0;34m,\u001b[0m\u001b[0;34m\u001b[0m\u001b[0;34m\u001b[0m\u001b[0m\n",
      "\u001b[0;32m~/.local/lib/python3.12/site-packages/optuna/study/_optimize.py\u001b[0m in \u001b[0;36m?\u001b[0;34m(study, func, n_trials, timeout, n_jobs, catch, callbacks, gc_after_trial, show_progress_bar)\u001b[0m\n\u001b[1;32m    115\u001b[0m                         \u001b[0;34m)\u001b[0m\u001b[0;34m\u001b[0m\u001b[0;34m\u001b[0m\u001b[0m\n\u001b[1;32m    116\u001b[0m                     \u001b[0;34m)\u001b[0m\u001b[0;34m\u001b[0m\u001b[0;34m\u001b[0m\u001b[0m\n\u001b[1;32m    117\u001b[0m     \u001b[0;32mfinally\u001b[0m\u001b[0;34m:\u001b[0m\u001b[0;34m\u001b[0m\u001b[0;34m\u001b[0m\u001b[0m\n\u001b[1;32m    118\u001b[0m         \u001b[0mstudy\u001b[0m\u001b[0;34m.\u001b[0m\u001b[0m_thread_local\u001b[0m\u001b[0;34m.\u001b[0m\u001b[0min_optimize_loop\u001b[0m \u001b[0;34m=\u001b[0m \u001b[0;32mFalse\u001b[0m\u001b[0;34m\u001b[0m\u001b[0;34m\u001b[0m\u001b[0m\n\u001b[0;32m--> 119\u001b[0;31m         \u001b[0mprogress_bar\u001b[0m\u001b[0;34m.\u001b[0m\u001b[0mclose\u001b[0m\u001b[0;34m(\u001b[0m\u001b[0;34m)\u001b[0m\u001b[0;34m\u001b[0m\u001b[0;34m\u001b[0m\u001b[0m\n\u001b[0m",
      "\u001b[0;32m~/.local/lib/python3.12/site-packages/optuna/study/_optimize.py\u001b[0m in \u001b[0;36m?\u001b[0;34m(study, func, n_trials, timeout, catch, callbacks, gc_after_trial, reseed_sampler_rng, time_start, progress_bar)\u001b[0m\n\u001b[1;32m    162\u001b[0m             \u001b[0;31m# The following line mitigates memory problems that can be occurred in some\u001b[0m\u001b[0;34m\u001b[0m\u001b[0;34m\u001b[0m\u001b[0m\n\u001b[1;32m    163\u001b[0m             \u001b[0;31m# environments (e.g., services that use computing containers such as GitHub Actions).\u001b[0m\u001b[0;34m\u001b[0m\u001b[0;34m\u001b[0m\u001b[0m\n\u001b[1;32m    164\u001b[0m             \u001b[0;31m# Please refer to the following PR for further details:\u001b[0m\u001b[0;34m\u001b[0m\u001b[0;34m\u001b[0m\u001b[0m\n\u001b[1;32m    165\u001b[0m             \u001b[0;31m# https://github.com/optuna/optuna/pull/325.\u001b[0m\u001b[0;34m\u001b[0m\u001b[0;34m\u001b[0m\u001b[0m\n\u001b[0;32m--> 166\u001b[0;31m             \u001b[0;32mif\u001b[0m \u001b[0mgc_after_trial\u001b[0m\u001b[0;34m:\u001b[0m\u001b[0;34m\u001b[0m\u001b[0;34m\u001b[0m\u001b[0m\n\u001b[0m\u001b[1;32m    167\u001b[0m                 \u001b[0mgc\u001b[0m\u001b[0;34m.\u001b[0m\u001b[0mcollect\u001b[0m\u001b[0;34m(\u001b[0m\u001b[0;34m)\u001b[0m\u001b[0;34m\u001b[0m\u001b[0;34m\u001b[0m\u001b[0m\n\u001b[1;32m    168\u001b[0m \u001b[0;34m\u001b[0m\u001b[0m\n\u001b[1;32m    169\u001b[0m         \u001b[0;32mif\u001b[0m \u001b[0mcallbacks\u001b[0m \u001b[0;32mis\u001b[0m \u001b[0;32mnot\u001b[0m \u001b[0;32mNone\u001b[0m\u001b[0;34m:\u001b[0m\u001b[0;34m\u001b[0m\u001b[0;34m\u001b[0m\u001b[0m\n",
      "\u001b[0;32m~/.local/lib/python3.12/site-packages/optuna/study/_optimize.py\u001b[0m in \u001b[0;36m?\u001b[0;34m(study, func, catch)\u001b[0m\n\u001b[1;32m    244\u001b[0m         \u001b[0mfrozen_trial\u001b[0m\u001b[0;34m.\u001b[0m\u001b[0mstate\u001b[0m \u001b[0;34m==\u001b[0m \u001b[0mTrialState\u001b[0m\u001b[0;34m.\u001b[0m\u001b[0mFAIL\u001b[0m\u001b[0;34m\u001b[0m\u001b[0;34m\u001b[0m\u001b[0m\n\u001b[1;32m    245\u001b[0m         \u001b[0;32mand\u001b[0m \u001b[0mfunc_err\u001b[0m \u001b[0;32mis\u001b[0m \u001b[0;32mnot\u001b[0m \u001b[0;32mNone\u001b[0m\u001b[0;34m\u001b[0m\u001b[0;34m\u001b[0m\u001b[0m\n\u001b[1;32m    246\u001b[0m         \u001b[0;32mand\u001b[0m \u001b[0;32mnot\u001b[0m \u001b[0misinstance\u001b[0m\u001b[0;34m(\u001b[0m\u001b[0mfunc_err\u001b[0m\u001b[0;34m,\u001b[0m \u001b[0mcatch\u001b[0m\u001b[0;34m)\u001b[0m\u001b[0;34m\u001b[0m\u001b[0;34m\u001b[0m\u001b[0m\n\u001b[1;32m    247\u001b[0m     \u001b[0;34m)\u001b[0m\u001b[0;34m:\u001b[0m\u001b[0;34m\u001b[0m\u001b[0;34m\u001b[0m\u001b[0m\n\u001b[0;32m--> 248\u001b[0;31m         \u001b[0;32mraise\u001b[0m \u001b[0mfunc_err\u001b[0m\u001b[0;34m\u001b[0m\u001b[0;34m\u001b[0m\u001b[0m\n\u001b[0m\u001b[1;32m    249\u001b[0m     \u001b[0;32mreturn\u001b[0m \u001b[0mfrozen_trial\u001b[0m\u001b[0;34m\u001b[0m\u001b[0;34m\u001b[0m\u001b[0m\n",
      "\u001b[0;32m~/.local/lib/python3.12/site-packages/optuna/study/_optimize.py\u001b[0m in \u001b[0;36m?\u001b[0;34m(study, func, catch)\u001b[0m\n\u001b[1;32m    244\u001b[0m         \u001b[0mfrozen_trial\u001b[0m\u001b[0;34m.\u001b[0m\u001b[0mstate\u001b[0m \u001b[0;34m==\u001b[0m \u001b[0mTrialState\u001b[0m\u001b[0;34m.\u001b[0m\u001b[0mFAIL\u001b[0m\u001b[0;34m\u001b[0m\u001b[0;34m\u001b[0m\u001b[0m\n\u001b[1;32m    245\u001b[0m         \u001b[0;32mand\u001b[0m \u001b[0mfunc_err\u001b[0m \u001b[0;32mis\u001b[0m \u001b[0;32mnot\u001b[0m \u001b[0;32mNone\u001b[0m\u001b[0;34m\u001b[0m\u001b[0;34m\u001b[0m\u001b[0m\n\u001b[1;32m    246\u001b[0m         \u001b[0;32mand\u001b[0m \u001b[0;32mnot\u001b[0m \u001b[0misinstance\u001b[0m\u001b[0;34m(\u001b[0m\u001b[0mfunc_err\u001b[0m\u001b[0;34m,\u001b[0m \u001b[0mcatch\u001b[0m\u001b[0;34m)\u001b[0m\u001b[0;34m\u001b[0m\u001b[0;34m\u001b[0m\u001b[0m\n\u001b[1;32m    247\u001b[0m     \u001b[0;34m)\u001b[0m\u001b[0;34m:\u001b[0m\u001b[0;34m\u001b[0m\u001b[0;34m\u001b[0m\u001b[0m\n\u001b[0;32m--> 248\u001b[0;31m         \u001b[0;32mraise\u001b[0m \u001b[0mfunc_err\u001b[0m\u001b[0;34m\u001b[0m\u001b[0;34m\u001b[0m\u001b[0m\n\u001b[0m\u001b[1;32m    249\u001b[0m     \u001b[0;32mreturn\u001b[0m \u001b[0mfrozen_trial\u001b[0m\u001b[0;34m\u001b[0m\u001b[0;34m\u001b[0m\u001b[0m\n",
      "\u001b[0;32m/tmp/ipykernel_585/120408768.py\u001b[0m in \u001b[0;36m?\u001b[0;34m(trial)\u001b[0m\n\u001b[1;32m      8\u001b[0m     \u001b[0mdropout\u001b[0m \u001b[0;34m=\u001b[0m \u001b[0mtrial\u001b[0m\u001b[0;34m.\u001b[0m\u001b[0msuggest_float\u001b[0m\u001b[0;34m(\u001b[0m\u001b[0;34m\"dropout\"\u001b[0m\u001b[0;34m,\u001b[0m \u001b[0;36m0.0\u001b[0m\u001b[0;34m,\u001b[0m \u001b[0;36m0.5\u001b[0m\u001b[0;34m)\u001b[0m\u001b[0;34m\u001b[0m\u001b[0;34m\u001b[0m\u001b[0m\n\u001b[1;32m      9\u001b[0m \u001b[0;34m\u001b[0m\u001b[0m\n\u001b[1;32m     10\u001b[0m     \u001b[0mlookback_hours\u001b[0m \u001b[0;34m=\u001b[0m \u001b[0mlookback_days\u001b[0m \u001b[0;34m*\u001b[0m \u001b[0;36m24\u001b[0m\u001b[0;34m\u001b[0m\u001b[0;34m\u001b[0m\u001b[0m\n\u001b[1;32m     11\u001b[0m \u001b[0;34m\u001b[0m\u001b[0m\n\u001b[0;32m---> 12\u001b[0;31m     training_dataset, validation_dataset = generate_datasets(\n\u001b[0m\u001b[1;32m     13\u001b[0m         \u001b[0mdataset_df\u001b[0m\u001b[0;34m,\u001b[0m\u001b[0;34m\u001b[0m\u001b[0;34m\u001b[0m\u001b[0m\n\u001b[1;32m     14\u001b[0m         \u001b[0mlookback\u001b[0m\u001b[0;34m=\u001b[0m\u001b[0mlookback_hours\u001b[0m\u001b[0;34m,\u001b[0m\u001b[0;34m\u001b[0m\u001b[0;34m\u001b[0m\u001b[0m\n\u001b[1;32m     15\u001b[0m         \u001b[0mdelay\u001b[0m\u001b[0;34m=\u001b[0m\u001b[0;36m24\u001b[0m\u001b[0;34m,\u001b[0m   \u001b[0;31m# predict 1 day ahead (constant)\u001b[0m\u001b[0;34m\u001b[0m\u001b[0;34m\u001b[0m\u001b[0m\n",
      "\u001b[0;32m/tmp/ipykernel_585/3333453340.py\u001b[0m in \u001b[0;36m?\u001b[0;34m(dataset_df, lookback, delay, step)\u001b[0m\n\u001b[1;32m     28\u001b[0m             \u001b[0mmean\u001b[0m\u001b[0;34m=\u001b[0m\u001b[0mtraining_mean\u001b[0m\u001b[0;34m,\u001b[0m\u001b[0;34m\u001b[0m\u001b[0;34m\u001b[0m\u001b[0m\n\u001b[1;32m     29\u001b[0m             \u001b[0mstd\u001b[0m\u001b[0;34m=\u001b[0m\u001b[0mtraining_std\u001b[0m\u001b[0;34m,\u001b[0m\u001b[0;34m\u001b[0m\u001b[0;34m\u001b[0m\u001b[0m\n\u001b[1;32m     30\u001b[0m         \u001b[0;34m)\u001b[0m\u001b[0;34m\u001b[0m\u001b[0;34m\u001b[0m\u001b[0m\n\u001b[1;32m     31\u001b[0m \u001b[0;34m\u001b[0m\u001b[0m\n\u001b[0;32m---> 32\u001b[0;31m         validation_dataset = AQIDataset(\n\u001b[0m\u001b[1;32m     33\u001b[0m             \u001b[0mvalidation_df\u001b[0m\u001b[0;34m,\u001b[0m\u001b[0;34m\u001b[0m\u001b[0;34m\u001b[0m\u001b[0m\n\u001b[1;32m     34\u001b[0m             \u001b[0mlookback\u001b[0m\u001b[0;34m=\u001b[0m\u001b[0mlookback\u001b[0m\u001b[0;34m,\u001b[0m\u001b[0;34m\u001b[0m\u001b[0;34m\u001b[0m\u001b[0m\n\u001b[1;32m     35\u001b[0m             \u001b[0mdelay\u001b[0m\u001b[0;34m=\u001b[0m\u001b[0mdelay\u001b[0m\u001b[0;34m,\u001b[0m\u001b[0;34m\u001b[0m\u001b[0;34m\u001b[0m\u001b[0m\n",
      "\u001b[0;32m/tmp/ipykernel_585/133241658.py\u001b[0m in \u001b[0;36m?\u001b[0;34m(self, data, lookback, delay, min_index, max_index, step, mean, std)\u001b[0m\n\u001b[1;32m     30\u001b[0m             \u001b[0;32mfor\u001b[0m \u001b[0midx\u001b[0m \u001b[0;32min\u001b[0m \u001b[0mtqdm\u001b[0m\u001b[0;34m(\u001b[0m\u001b[0mrange\u001b[0m\u001b[0;34m(\u001b[0m\u001b[0mself\u001b[0m\u001b[0;34m.\u001b[0m\u001b[0m__len__\u001b[0m\u001b[0;34m(\u001b[0m\u001b[0;34m)\u001b[0m\u001b[0;34m)\u001b[0m\u001b[0;34m)\u001b[0m\u001b[0;34m:\u001b[0m\u001b[0;34m\u001b[0m\u001b[0;34m\u001b[0m\u001b[0m\n\u001b[1;32m     31\u001b[0m                 \u001b[0mi\u001b[0m \u001b[0;34m=\u001b[0m \u001b[0mself\u001b[0m\u001b[0;34m.\u001b[0m\u001b[0mmin_index\u001b[0m \u001b[0;34m+\u001b[0m \u001b[0midx\u001b[0m \u001b[0;34m+\u001b[0m \u001b[0mself\u001b[0m\u001b[0;34m.\u001b[0m\u001b[0mlookback\u001b[0m\u001b[0;34m\u001b[0m\u001b[0;34m\u001b[0m\u001b[0m\n\u001b[1;32m     32\u001b[0m                 \u001b[0mindices\u001b[0m \u001b[0;34m=\u001b[0m \u001b[0mrange\u001b[0m\u001b[0;34m(\u001b[0m\u001b[0mi\u001b[0m \u001b[0;34m-\u001b[0m \u001b[0mself\u001b[0m\u001b[0;34m.\u001b[0m\u001b[0mlookback\u001b[0m\u001b[0;34m,\u001b[0m \u001b[0mi\u001b[0m\u001b[0;34m,\u001b[0m \u001b[0mself\u001b[0m\u001b[0;34m.\u001b[0m\u001b[0mstep\u001b[0m\u001b[0;34m)\u001b[0m\u001b[0;34m\u001b[0m\u001b[0;34m\u001b[0m\u001b[0m\n\u001b[1;32m     33\u001b[0m \u001b[0;34m\u001b[0m\u001b[0m\n\u001b[0;32m---> 34\u001b[0;31m                 \u001b[0msample\u001b[0m \u001b[0;34m=\u001b[0m \u001b[0mself\u001b[0m\u001b[0;34m.\u001b[0m\u001b[0mdata\u001b[0m\u001b[0;34m.\u001b[0m\u001b[0miloc\u001b[0m\u001b[0;34m[\u001b[0m\u001b[0mindices\u001b[0m\u001b[0;34m]\u001b[0m\u001b[0;34m.\u001b[0m\u001b[0mvalues\u001b[0m  \u001b[0;31m# shape: (lookback, num_features)\u001b[0m\u001b[0;34m\u001b[0m\u001b[0;34m\u001b[0m\u001b[0m\n\u001b[0m\u001b[1;32m     35\u001b[0m                 \u001b[0mtarget_row\u001b[0m \u001b[0;34m=\u001b[0m \u001b[0mself\u001b[0m\u001b[0;34m.\u001b[0m\u001b[0mdata\u001b[0m\u001b[0;34m.\u001b[0m\u001b[0miloc\u001b[0m\u001b[0;34m[\u001b[0m\u001b[0mi\u001b[0m \u001b[0;34m+\u001b[0m \u001b[0mself\u001b[0m\u001b[0;34m.\u001b[0m\u001b[0mdelay\u001b[0m\u001b[0;34m]\u001b[0m\u001b[0;34m\u001b[0m\u001b[0;34m\u001b[0m\u001b[0m\n\u001b[1;32m     36\u001b[0m \u001b[0;34m\u001b[0m\u001b[0m\n\u001b[1;32m     37\u001b[0m                 \u001b[0mtarget\u001b[0m \u001b[0;34m=\u001b[0m \u001b[0mtarget_row\u001b[0m\u001b[0;34m[\u001b[0m\u001b[0mPOLLUTANT_COLUMNS\u001b[0m\u001b[0;34m]\u001b[0m\u001b[0;34m.\u001b[0m\u001b[0mvalues\u001b[0m\u001b[0;34m.\u001b[0m\u001b[0mastype\u001b[0m\u001b[0;34m(\u001b[0m\u001b[0mnp\u001b[0m\u001b[0;34m.\u001b[0m\u001b[0mfloat32\u001b[0m\u001b[0;34m)\u001b[0m\u001b[0;34m\u001b[0m\u001b[0;34m\u001b[0m\u001b[0m\n",
      "\u001b[0;32m/opt/conda/lib/python3.12/site-packages/pandas/core/indexing.py\u001b[0m in \u001b[0;36m?\u001b[0;34m(self, key)\u001b[0m\n\u001b[1;32m   1187\u001b[0m             \u001b[0maxis\u001b[0m \u001b[0;34m=\u001b[0m \u001b[0mself\u001b[0m\u001b[0;34m.\u001b[0m\u001b[0maxis\u001b[0m \u001b[0;32mor\u001b[0m \u001b[0;36m0\u001b[0m\u001b[0;34m\u001b[0m\u001b[0;34m\u001b[0m\u001b[0m\n\u001b[1;32m   1188\u001b[0m \u001b[0;34m\u001b[0m\u001b[0m\n\u001b[1;32m   1189\u001b[0m             \u001b[0mmaybe_callable\u001b[0m \u001b[0;34m=\u001b[0m \u001b[0mcom\u001b[0m\u001b[0;34m.\u001b[0m\u001b[0mapply_if_callable\u001b[0m\u001b[0;34m(\u001b[0m\u001b[0mkey\u001b[0m\u001b[0;34m,\u001b[0m \u001b[0mself\u001b[0m\u001b[0;34m.\u001b[0m\u001b[0mobj\u001b[0m\u001b[0;34m)\u001b[0m\u001b[0;34m\u001b[0m\u001b[0;34m\u001b[0m\u001b[0m\n\u001b[1;32m   1190\u001b[0m             \u001b[0mmaybe_callable\u001b[0m \u001b[0;34m=\u001b[0m \u001b[0mself\u001b[0m\u001b[0;34m.\u001b[0m\u001b[0m_check_deprecated_callable_usage\u001b[0m\u001b[0;34m(\u001b[0m\u001b[0mkey\u001b[0m\u001b[0;34m,\u001b[0m \u001b[0mmaybe_callable\u001b[0m\u001b[0;34m)\u001b[0m\u001b[0;34m\u001b[0m\u001b[0;34m\u001b[0m\u001b[0m\n\u001b[0;32m-> 1191\u001b[0;31m             \u001b[0;32mreturn\u001b[0m \u001b[0mself\u001b[0m\u001b[0;34m.\u001b[0m\u001b[0m_getitem_axis\u001b[0m\u001b[0;34m(\u001b[0m\u001b[0mmaybe_callable\u001b[0m\u001b[0;34m,\u001b[0m \u001b[0maxis\u001b[0m\u001b[0;34m=\u001b[0m\u001b[0maxis\u001b[0m\u001b[0;34m)\u001b[0m\u001b[0;34m\u001b[0m\u001b[0;34m\u001b[0m\u001b[0m\n\u001b[0m",
      "\u001b[0;32m/opt/conda/lib/python3.12/site-packages/pandas/core/indexing.py\u001b[0m in \u001b[0;36m?\u001b[0;34m(self, key, axis)\u001b[0m\n\u001b[1;32m   1739\u001b[0m             \u001b[0;32mreturn\u001b[0m \u001b[0mself\u001b[0m\u001b[0;34m.\u001b[0m\u001b[0m_getbool_axis\u001b[0m\u001b[0;34m(\u001b[0m\u001b[0mkey\u001b[0m\u001b[0;34m,\u001b[0m \u001b[0maxis\u001b[0m\u001b[0;34m=\u001b[0m\u001b[0maxis\u001b[0m\u001b[0;34m)\u001b[0m\u001b[0;34m\u001b[0m\u001b[0;34m\u001b[0m\u001b[0m\n\u001b[1;32m   1740\u001b[0m \u001b[0;34m\u001b[0m\u001b[0m\n\u001b[1;32m   1741\u001b[0m         \u001b[0;31m# a list of integers\u001b[0m\u001b[0;34m\u001b[0m\u001b[0;34m\u001b[0m\u001b[0m\n\u001b[1;32m   1742\u001b[0m         \u001b[0;32melif\u001b[0m \u001b[0mis_list_like_indexer\u001b[0m\u001b[0;34m(\u001b[0m\u001b[0mkey\u001b[0m\u001b[0;34m)\u001b[0m\u001b[0;34m:\u001b[0m\u001b[0;34m\u001b[0m\u001b[0;34m\u001b[0m\u001b[0m\n\u001b[0;32m-> 1743\u001b[0;31m             \u001b[0;32mreturn\u001b[0m \u001b[0mself\u001b[0m\u001b[0;34m.\u001b[0m\u001b[0m_get_list_axis\u001b[0m\u001b[0;34m(\u001b[0m\u001b[0mkey\u001b[0m\u001b[0;34m,\u001b[0m \u001b[0maxis\u001b[0m\u001b[0;34m=\u001b[0m\u001b[0maxis\u001b[0m\u001b[0;34m)\u001b[0m\u001b[0;34m\u001b[0m\u001b[0;34m\u001b[0m\u001b[0m\n\u001b[0m\u001b[1;32m   1744\u001b[0m \u001b[0;34m\u001b[0m\u001b[0m\n\u001b[1;32m   1745\u001b[0m         \u001b[0;31m# a single integer\u001b[0m\u001b[0;34m\u001b[0m\u001b[0;34m\u001b[0m\u001b[0m\n\u001b[1;32m   1746\u001b[0m         \u001b[0;32melse\u001b[0m\u001b[0;34m:\u001b[0m\u001b[0;34m\u001b[0m\u001b[0;34m\u001b[0m\u001b[0m\n",
      "\u001b[0;32m/opt/conda/lib/python3.12/site-packages/pandas/core/indexing.py\u001b[0m in \u001b[0;36m?\u001b[0;34m(self, key, axis)\u001b[0m\n\u001b[1;32m   1711\u001b[0m         \u001b[0;34m`\u001b[0m\u001b[0maxis\u001b[0m\u001b[0;34m`\u001b[0m \u001b[0mcan\u001b[0m \u001b[0monly\u001b[0m \u001b[0mbe\u001b[0m \u001b[0mzero\u001b[0m\u001b[0;34m.\u001b[0m\u001b[0;34m\u001b[0m\u001b[0;34m\u001b[0m\u001b[0m\n\u001b[1;32m   1712\u001b[0m         \"\"\"\n\u001b[1;32m   1713\u001b[0m         \u001b[0;32mtry\u001b[0m\u001b[0;34m:\u001b[0m\u001b[0;34m\u001b[0m\u001b[0;34m\u001b[0m\u001b[0m\n\u001b[1;32m   1714\u001b[0m             \u001b[0;32mreturn\u001b[0m \u001b[0mself\u001b[0m\u001b[0;34m.\u001b[0m\u001b[0mobj\u001b[0m\u001b[0;34m.\u001b[0m\u001b[0m_take_with_is_copy\u001b[0m\u001b[0;34m(\u001b[0m\u001b[0mkey\u001b[0m\u001b[0;34m,\u001b[0m \u001b[0maxis\u001b[0m\u001b[0;34m=\u001b[0m\u001b[0maxis\u001b[0m\u001b[0;34m)\u001b[0m\u001b[0;34m\u001b[0m\u001b[0;34m\u001b[0m\u001b[0m\n\u001b[0;32m-> 1715\u001b[0;31m         \u001b[0;32mexcept\u001b[0m \u001b[0mIndexError\u001b[0m \u001b[0;32mas\u001b[0m \u001b[0merr\u001b[0m\u001b[0;34m:\u001b[0m\u001b[0;34m\u001b[0m\u001b[0;34m\u001b[0m\u001b[0m\n\u001b[0m\u001b[1;32m   1716\u001b[0m             \u001b[0;31m# re-raise with different error message, e.g. test_getitem_ndarray_3d\u001b[0m\u001b[0;34m\u001b[0m\u001b[0;34m\u001b[0m\u001b[0m\n\u001b[1;32m   1717\u001b[0m             \u001b[0;32mraise\u001b[0m \u001b[0mIndexError\u001b[0m\u001b[0;34m(\u001b[0m\u001b[0;34m\"positional indexers are out-of-bounds\"\u001b[0m\u001b[0;34m)\u001b[0m \u001b[0;32mfrom\u001b[0m \u001b[0merr\u001b[0m\u001b[0;34m\u001b[0m\u001b[0;34m\u001b[0m\u001b[0m\n",
      "\u001b[0;32m/opt/conda/lib/python3.12/site-packages/pandas/core/generic.py\u001b[0m in \u001b[0;36m?\u001b[0;34m(self, indices, axis)\u001b[0m\n\u001b[1;32m   4152\u001b[0m         \"\"\"\n\u001b[1;32m   4153\u001b[0m         \u001b[0mresult\u001b[0m \u001b[0;34m=\u001b[0m \u001b[0mself\u001b[0m\u001b[0;34m.\u001b[0m\u001b[0mtake\u001b[0m\u001b[0;34m(\u001b[0m\u001b[0mindices\u001b[0m\u001b[0;34m=\u001b[0m\u001b[0mindices\u001b[0m\u001b[0;34m,\u001b[0m \u001b[0maxis\u001b[0m\u001b[0;34m=\u001b[0m\u001b[0maxis\u001b[0m\u001b[0;34m)\u001b[0m\u001b[0;34m\u001b[0m\u001b[0;34m\u001b[0m\u001b[0m\n\u001b[1;32m   4154\u001b[0m         \u001b[0;31m# Maybe set copy if we didn't actually change the index.\u001b[0m\u001b[0;34m\u001b[0m\u001b[0;34m\u001b[0m\u001b[0m\n\u001b[1;32m   4155\u001b[0m         \u001b[0;32mif\u001b[0m \u001b[0mself\u001b[0m\u001b[0;34m.\u001b[0m\u001b[0mndim\u001b[0m \u001b[0;34m==\u001b[0m \u001b[0;36m2\u001b[0m \u001b[0;32mand\u001b[0m \u001b[0;32mnot\u001b[0m \u001b[0mresult\u001b[0m\u001b[0;34m.\u001b[0m\u001b[0m_get_axis\u001b[0m\u001b[0;34m(\u001b[0m\u001b[0maxis\u001b[0m\u001b[0;34m)\u001b[0m\u001b[0;34m.\u001b[0m\u001b[0mequals\u001b[0m\u001b[0;34m(\u001b[0m\u001b[0mself\u001b[0m\u001b[0;34m.\u001b[0m\u001b[0m_get_axis\u001b[0m\u001b[0;34m(\u001b[0m\u001b[0maxis\u001b[0m\u001b[0;34m)\u001b[0m\u001b[0;34m)\u001b[0m\u001b[0;34m:\u001b[0m\u001b[0;34m\u001b[0m\u001b[0;34m\u001b[0m\u001b[0m\n\u001b[0;32m-> 4156\u001b[0;31m             \u001b[0mresult\u001b[0m\u001b[0;34m.\u001b[0m\u001b[0m_set_is_copy\u001b[0m\u001b[0;34m(\u001b[0m\u001b[0mself\u001b[0m\u001b[0;34m)\u001b[0m\u001b[0;34m\u001b[0m\u001b[0;34m\u001b[0m\u001b[0m\n\u001b[0m\u001b[1;32m   4157\u001b[0m         \u001b[0;32mreturn\u001b[0m \u001b[0mresult\u001b[0m\u001b[0;34m\u001b[0m\u001b[0;34m\u001b[0m\u001b[0m\n",
      "\u001b[0;32m/opt/conda/lib/python3.12/site-packages/pandas/core/generic.py\u001b[0m in \u001b[0;36m?\u001b[0;34m(self, ref, copy)\u001b[0m\n\u001b[1;32m   4381\u001b[0m         \u001b[0;32mif\u001b[0m \u001b[0;32mnot\u001b[0m \u001b[0mcopy\u001b[0m\u001b[0;34m:\u001b[0m\u001b[0;34m\u001b[0m\u001b[0;34m\u001b[0m\u001b[0m\n\u001b[1;32m   4382\u001b[0m             \u001b[0mself\u001b[0m\u001b[0;34m.\u001b[0m\u001b[0m_is_copy\u001b[0m \u001b[0;34m=\u001b[0m \u001b[0;32mNone\u001b[0m\u001b[0;34m\u001b[0m\u001b[0;34m\u001b[0m\u001b[0m\n\u001b[1;32m   4383\u001b[0m         \u001b[0;32melse\u001b[0m\u001b[0;34m:\u001b[0m\u001b[0;34m\u001b[0m\u001b[0;34m\u001b[0m\u001b[0m\n\u001b[1;32m   4384\u001b[0m             \u001b[0;32massert\u001b[0m \u001b[0mref\u001b[0m \u001b[0;32mis\u001b[0m \u001b[0;32mnot\u001b[0m \u001b[0;32mNone\u001b[0m\u001b[0;34m\u001b[0m\u001b[0;34m\u001b[0m\u001b[0m\n\u001b[0;32m-> 4385\u001b[0;31m             \u001b[0mself\u001b[0m\u001b[0;34m.\u001b[0m\u001b[0m_is_copy\u001b[0m \u001b[0;34m=\u001b[0m \u001b[0mweakref\u001b[0m\u001b[0;34m.\u001b[0m\u001b[0mref\u001b[0m\u001b[0;34m(\u001b[0m\u001b[0mref\u001b[0m\u001b[0;34m)\u001b[0m\u001b[0;34m\u001b[0m\u001b[0;34m\u001b[0m\u001b[0m\n\u001b[0m",
      "\u001b[0;31mKeyboardInterrupt\u001b[0m: "
     ]
    }
   ],
   "source": [
    "lstm_study.optimize(lstm_mdn_objective, n_trials=30)"
   ]
  },
  {
   "cell_type": "code",
   "execution_count": null,
   "id": "8739328b",
   "metadata": {},
   "outputs": [
    {
     "data": {
      "application/vnd.microsoft.datawrangler.viewer.v0+json": {
       "columns": [
        {
         "name": "index",
         "rawType": "int64",
         "type": "integer"
        },
        {
         "name": "number",
         "rawType": "int64",
         "type": "integer"
        },
        {
         "name": "value",
         "rawType": "float64",
         "type": "float"
        },
        {
         "name": "datetime_start",
         "rawType": "datetime64[ns]",
         "type": "datetime"
        },
        {
         "name": "datetime_complete",
         "rawType": "datetime64[ns]",
         "type": "datetime"
        },
        {
         "name": "duration",
         "rawType": "timedelta64[ns]",
         "type": "unknown"
        },
        {
         "name": "params_dropout",
         "rawType": "float64",
         "type": "float"
        },
        {
         "name": "params_hidden_dim",
         "rawType": "int64",
         "type": "integer"
        },
        {
         "name": "params_lookback_days",
         "rawType": "int64",
         "type": "integer"
        },
        {
         "name": "params_lr",
         "rawType": "float64",
         "type": "float"
        },
        {
         "name": "params_num_layers",
         "rawType": "int64",
         "type": "integer"
        },
        {
         "name": "params_num_mixtures",
         "rawType": "int64",
         "type": "integer"
        },
        {
         "name": "params_step",
         "rawType": "int64",
         "type": "integer"
        },
        {
         "name": "state",
         "rawType": "object",
         "type": "string"
        }
       ],
       "ref": "ded9cd83-15a4-4115-889b-be5b181d4b63",
       "rows": [
        [
         "0",
         "0",
         null,
         "2025-06-03 01:50:29.985633",
         "2025-06-03 01:50:30.897941",
         "0 days 00:00:00.912308",
         "0.2694449105491155",
         "64",
         "4",
         "0.0005129894047515173",
         "2",
         "8",
         "1",
         "FAIL"
        ],
        [
         "1",
         "1",
         "-3.471560587703083",
         "2025-06-03 01:50:58.575736",
         "2025-06-03 01:55:32.898710",
         "0 days 00:04:34.322974",
         "0.19988546225100545",
         "128",
         "2",
         "0.00014334695404629144",
         "2",
         "7",
         "4",
         "COMPLETE"
        ],
        [
         "2",
         "2",
         "-0.8249696861214352",
         "2025-06-03 01:55:32.909750",
         "2025-06-03 02:03:10.734871",
         "0 days 00:07:37.825121",
         "0.41687829603520316",
         "256",
         "2",
         "0.00047840713798014644",
         "3",
         "4",
         "6",
         "COMPLETE"
        ],
        [
         "3",
         "3",
         "11.11749000765903",
         "2025-06-03 02:03:10.743520",
         "2025-06-03 02:18:19.618048",
         "0 days 00:15:08.874528",
         "0.1365021692573712",
         "256",
         "4",
         "0.00037034029582636333",
         "2",
         "6",
         "3",
         "COMPLETE"
        ],
        [
         "4",
         "4",
         "-1.0896198527045446",
         "2025-06-03 02:18:19.642022",
         "2025-06-03 02:22:17.066919",
         "0 days 00:03:57.424897",
         "0.07356339852599542",
         "128",
         "1",
         "0.0007780027432085804",
         "2",
         "7",
         "3",
         "COMPLETE"
        ],
        [
         "5",
         "5",
         null,
         "2025-06-03 02:22:17.073864",
         "2025-06-03 02:22:42.388236",
         "0 days 00:00:25.314372",
         "0.40881105559639247",
         "128",
         "1",
         "0.00045853821484238735",
         "3",
         "7",
         "6",
         "FAIL"
        ],
        [
         "6",
         "6",
         "-1.877041098427827",
         "2025-06-03 02:33:13.049517",
         "2025-06-03 02:37:06.415733",
         "0 days 00:03:53.366216",
         "0.1506279870694942",
         "256",
         "1",
         "0.00021169354018254764",
         "1",
         "5",
         "4",
         "COMPLETE"
        ],
        [
         "7",
         "7",
         null,
         "2025-06-03 02:37:06.425694",
         "2025-06-03 02:37:36.059975",
         "0 days 00:00:29.634281",
         "0.02330215598132751",
         "256",
         "2",
         "0.006770148074778425",
         "1",
         "7",
         "1",
         "FAIL"
        ],
        [
         "8",
         "8",
         null,
         "2025-06-03 02:45:08.180984",
         "2025-06-03 02:45:11.442764",
         "0 days 00:00:03.261780",
         "0.006252828871324501",
         "256",
         "4",
         "0.002917840544968578",
         "2",
         "8",
         "4",
         "FAIL"
        ],
        [
         "9",
         "9",
         "-2.4077434187008215",
         "2025-06-03 03:03:15.080446",
         "2025-06-03 03:13:45.117967",
         "0 days 00:10:30.037521",
         "0.23048133048547792",
         "256",
         "2",
         "0.005585121008438693",
         "2",
         "3",
         "2",
         "COMPLETE"
        ],
        [
         "10",
         "10",
         "-2.9338492532026823",
         "2025-06-03 03:13:45.132463",
         "2025-06-03 03:17:43.107742",
         "0 days 00:03:57.975279",
         "0.2785270817588384",
         "64",
         "1",
         "0.0010514506208187068",
         "3",
         "4",
         "2",
         "COMPLETE"
        ],
        [
         "11",
         "11",
         "-1.4646543895782427",
         "2025-06-03 03:17:43.114082",
         "2025-06-03 03:25:26.358079",
         "0 days 00:07:43.243997",
         "0.01290985867825356",
         "128",
         "4",
         "0.001160298226609988",
         "2",
         "8",
         "3",
         "COMPLETE"
        ],
        [
         "12",
         "12",
         "-3.323983777640602",
         "2025-06-03 03:25:26.365537",
         "2025-06-03 03:28:42.874142",
         "0 days 00:03:16.508605",
         "0.0015626412831897807",
         "64",
         "2",
         "0.00044058243751274556",
         "2",
         "6",
         "3",
         "COMPLETE"
        ],
        [
         "13",
         "13",
         "-2.1647761489634645",
         "2025-06-03 03:28:42.881156",
         "2025-06-03 03:30:49.622279",
         "0 days 00:02:06.741123",
         "0.0893559926076673",
         "64",
         "1",
         "0.00247733655194257",
         "1",
         "7",
         "2",
         "COMPLETE"
        ],
        [
         "14",
         "14",
         "-4.454166374345254",
         "2025-06-03 03:30:49.629100",
         "2025-06-03 03:33:42.305966",
         "0 days 00:02:52.676866",
         "0.3764890998666978",
         "128",
         "2",
         "0.00010399441017513929",
         "1",
         "8",
         "4",
         "COMPLETE"
        ],
        [
         "15",
         "15",
         "-4.3424502878969164",
         "2025-06-03 03:33:42.312318",
         "2025-06-03 03:36:38.056123",
         "0 days 00:02:55.743805",
         "0.4052317826387478",
         "128",
         "2",
         "0.00010465729787838899",
         "1",
         "8",
         "4",
         "COMPLETE"
        ],
        [
         "16",
         "16",
         "-4.651976577697262",
         "2025-06-03 03:36:38.062431",
         "2025-06-03 03:42:40.851149",
         "0 days 00:06:02.788718",
         "0.4399571321081872",
         "128",
         "2",
         "0.00010944220560884997",
         "1",
         "8",
         "1",
         "COMPLETE"
        ],
        [
         "17",
         "17",
         "-4.737934309731705",
         "2025-06-03 03:42:40.858006",
         "2025-06-03 03:48:43.341632",
         "0 days 00:06:02.483626",
         "0.48944258846568106",
         "128",
         "2",
         "0.00021353642967043715",
         "1",
         "8",
         "1",
         "COMPLETE"
        ],
        [
         "18",
         "18",
         "-4.912198820971124",
         "2025-06-03 03:48:43.347462",
         "2025-06-03 04:09:42.754754",
         "0 days 00:20:59.407292",
         "0.49045794576548013",
         "128",
         "2",
         "0.0002311573451441872",
         "1",
         "8",
         "1",
         "COMPLETE"
        ],
        [
         "19",
         "19",
         "-4.532205227127273",
         "2025-06-03 04:09:42.760973",
         "2025-06-03 04:46:29.834964",
         "0 days 00:36:47.073991",
         "0.4868906148715233",
         "128",
         "2",
         "0.00023984127576197",
         "1",
         "7",
         "1",
         "COMPLETE"
        ],
        [
         "20",
         "20",
         "-4.257281211919563",
         "2025-06-03 04:46:29.841879",
         "2025-06-03 05:42:55.766959",
         "0 days 00:56:25.925080",
         "0.33192014757001753",
         "128",
         "4",
         "0.00022304409161036875",
         "1",
         "6",
         "1",
         "COMPLETE"
        ],
        [
         "21",
         "21",
         "-1.953218793196063",
         "2025-06-03 05:42:55.773737",
         "2025-06-03 06:03:28.117921",
         "0 days 00:20:32.344184",
         "0.48383285633558804",
         "128",
         "2",
         "0.0006819709814936904",
         "1",
         "5",
         "1",
         "COMPLETE"
        ],
        [
         "22",
         "22",
         "-3.287099389179099",
         "2025-06-03 06:03:28.123052",
         "2025-06-03 06:37:38.143420",
         "0 days 00:34:10.020368",
         "0.32983384536109905",
         "128",
         "2",
         "0.009664604790312116",
         "3",
         "8",
         "1",
         "COMPLETE"
        ],
        [
         "23",
         "23",
         "-3.212016719804947",
         "2025-06-03 06:37:38.149719",
         "2025-06-03 06:40:50.718811",
         "0 days 00:03:12.569092",
         "0.495022439366424",
         "64",
         "4",
         "0.002595985112757733",
         "1",
         "7",
         "6",
         "COMPLETE"
        ],
        [
         "24",
         "24",
         "-4.631109190014651",
         "2025-06-03 06:40:50.726700",
         "2025-06-03 07:10:52.507976",
         "0 days 00:30:01.781276",
         "0.34909558154455134",
         "128",
         "2",
         "0.0002651938141025543",
         "1",
         "8",
         "1",
         "COMPLETE"
        ],
        [
         "25",
         "25",
         "-4.703432244089892",
         "2025-06-03 07:10:52.515879",
         "2025-06-03 07:33:59.104471",
         "0 days 00:23:06.588592",
         "0.4316259826850224",
         "128",
         "2",
         "0.0001546302901667025",
         "1",
         "8",
         "1",
         "COMPLETE"
        ],
        [
         "26",
         "26",
         "-4.1866073255440055",
         "2025-06-03 07:33:59.112508",
         "2025-06-03 07:39:07.944227",
         "0 days 00:05:08.831719",
         "0.44581279302795374",
         "128",
         "2",
         "0.0001927271430446977",
         "1",
         "7",
         "1",
         "COMPLETE"
        ],
        [
         "27",
         "27",
         "-4.421915504858241",
         "2025-06-03 07:39:07.950160",
         "2025-06-03 07:44:20.527877",
         "0 days 00:05:12.577717",
         "0.4487583805739854",
         "128",
         "2",
         "0.00035118478270109897",
         "1",
         "8",
         "1",
         "COMPLETE"
        ],
        [
         "28",
         "28",
         "-4.701136403369464",
         "2025-06-03 07:44:20.534248",
         "2025-06-03 07:50:26.882662",
         "0 days 00:06:06.348414",
         "0.3881757704263164",
         "128",
         "2",
         "0.00015774131081512394",
         "1",
         "8",
         "1",
         "COMPLETE"
        ],
        [
         "29",
         "29",
         "-2.574926865712014",
         "2025-06-03 07:50:26.897503",
         "2025-06-03 08:06:21.818345",
         "0 days 00:15:54.920842",
         "0.29161642980760627",
         "128",
         "2",
         "0.00015433105342212126",
         "2",
         "7",
         "1",
         "COMPLETE"
        ],
        [
         "30",
         "30",
         "-3.9104675306908545",
         "2025-06-03 08:06:21.833752",
         "2025-06-03 08:15:19.922377",
         "0 days 00:08:58.088625",
         "0.459249863079895",
         "128",
         "2",
         "0.0002985460181119513",
         "1",
         "6",
         "1",
         "COMPLETE"
        ],
        [
         "31",
         "31",
         "-3.679650812276772",
         "2025-06-03 08:15:19.954760",
         "2025-06-03 08:18:46.885753",
         "0 days 00:03:26.930993",
         "0.3702317757504644",
         "128",
         "2",
         "0.0005564271768583711",
         "1",
         "8",
         "6",
         "COMPLETE"
        ],
        [
         "32",
         "32",
         "-3.8731923076995582",
         "2025-06-03 08:18:46.895757",
         "2025-06-03 08:52:45.496871",
         "0 days 00:33:58.601114",
         "0.4993392696803919",
         "64",
         "4",
         "0.0020477011646837574",
         "2",
         "7",
         "1",
         "COMPLETE"
        ],
        [
         "33",
         "33",
         "-3.0240745155914732",
         "2025-06-03 08:52:45.505322",
         "2025-06-03 09:24:08.060831",
         "0 days 00:31:22.555509",
         "0.41825480790524644",
         "256",
         "1",
         "0.00015093298788129212",
         "2",
         "7",
         "1",
         "COMPLETE"
        ],
        [
         "34",
         "34",
         "1.917330866636631",
         "2025-06-03 09:24:08.069913",
         "2025-06-03 09:30:08.199414",
         "0 days 00:06:00.129501",
         "0.4611320666611597",
         "128",
         "2",
         "0.0015416053445464755",
         "1",
         "3",
         "1",
         "COMPLETE"
        ],
        [
         "35",
         "35",
         "-4.489117879540689",
         "2025-06-03 09:30:08.204648",
         "2025-06-03 09:38:21.363232",
         "0 days 00:08:13.158584",
         "0.3843390031500739",
         "128",
         "2",
         "0.00015274445613306428",
         "1",
         "8",
         "1",
         "COMPLETE"
        ],
        [
         "36",
         "36",
         "-4.55702128672483",
         "2025-06-03 09:38:21.369608",
         "2025-06-03 09:44:36.888248",
         "0 days 00:06:15.518640",
         "0.41344145206554817",
         "128",
         "2",
         "0.00019241234107006495",
         "1",
         "8",
         "1",
         "COMPLETE"
        ],
        [
         "37",
         "37",
         "-4.5462144791290235",
         "2025-06-03 09:44:36.896417",
         "2025-06-03 09:47:01.017827",
         "0 days 00:02:24.121410",
         "0.4207116452082101",
         "128",
         "2",
         "0.0003743332066934322",
         "1",
         "8",
         "6",
         "COMPLETE"
        ],
        [
         "38",
         "38",
         "-4.693132882311184",
         "2025-06-03 09:47:01.024758",
         "2025-06-03 09:53:09.077083",
         "0 days 00:06:08.052325",
         "0.4686679474697936",
         "128",
         "2",
         "0.00013387601190141982",
         "1",
         "8",
         "1",
         "COMPLETE"
        ]
       ],
       "shape": {
        "columns": 13,
        "rows": 39
       }
      },
      "text/html": [
       "<div>\n",
       "<style scoped>\n",
       "    .dataframe tbody tr th:only-of-type {\n",
       "        vertical-align: middle;\n",
       "    }\n",
       "\n",
       "    .dataframe tbody tr th {\n",
       "        vertical-align: top;\n",
       "    }\n",
       "\n",
       "    .dataframe thead th {\n",
       "        text-align: right;\n",
       "    }\n",
       "</style>\n",
       "<table border=\"1\" class=\"dataframe\">\n",
       "  <thead>\n",
       "    <tr style=\"text-align: right;\">\n",
       "      <th></th>\n",
       "      <th>number</th>\n",
       "      <th>value</th>\n",
       "      <th>datetime_start</th>\n",
       "      <th>datetime_complete</th>\n",
       "      <th>duration</th>\n",
       "      <th>params_dropout</th>\n",
       "      <th>params_hidden_dim</th>\n",
       "      <th>params_lookback_days</th>\n",
       "      <th>params_lr</th>\n",
       "      <th>params_num_layers</th>\n",
       "      <th>params_num_mixtures</th>\n",
       "      <th>params_step</th>\n",
       "      <th>state</th>\n",
       "    </tr>\n",
       "  </thead>\n",
       "  <tbody>\n",
       "    <tr>\n",
       "      <th>0</th>\n",
       "      <td>0</td>\n",
       "      <td>NaN</td>\n",
       "      <td>2025-06-03 01:50:29.985633</td>\n",
       "      <td>2025-06-03 01:50:30.897941</td>\n",
       "      <td>0 days 00:00:00.912308</td>\n",
       "      <td>0.269445</td>\n",
       "      <td>64</td>\n",
       "      <td>4</td>\n",
       "      <td>0.000513</td>\n",
       "      <td>2</td>\n",
       "      <td>8</td>\n",
       "      <td>1</td>\n",
       "      <td>FAIL</td>\n",
       "    </tr>\n",
       "    <tr>\n",
       "      <th>1</th>\n",
       "      <td>1</td>\n",
       "      <td>-3.471561</td>\n",
       "      <td>2025-06-03 01:50:58.575736</td>\n",
       "      <td>2025-06-03 01:55:32.898710</td>\n",
       "      <td>0 days 00:04:34.322974</td>\n",
       "      <td>0.199885</td>\n",
       "      <td>128</td>\n",
       "      <td>2</td>\n",
       "      <td>0.000143</td>\n",
       "      <td>2</td>\n",
       "      <td>7</td>\n",
       "      <td>4</td>\n",
       "      <td>COMPLETE</td>\n",
       "    </tr>\n",
       "    <tr>\n",
       "      <th>2</th>\n",
       "      <td>2</td>\n",
       "      <td>-0.824970</td>\n",
       "      <td>2025-06-03 01:55:32.909750</td>\n",
       "      <td>2025-06-03 02:03:10.734871</td>\n",
       "      <td>0 days 00:07:37.825121</td>\n",
       "      <td>0.416878</td>\n",
       "      <td>256</td>\n",
       "      <td>2</td>\n",
       "      <td>0.000478</td>\n",
       "      <td>3</td>\n",
       "      <td>4</td>\n",
       "      <td>6</td>\n",
       "      <td>COMPLETE</td>\n",
       "    </tr>\n",
       "    <tr>\n",
       "      <th>3</th>\n",
       "      <td>3</td>\n",
       "      <td>11.117490</td>\n",
       "      <td>2025-06-03 02:03:10.743520</td>\n",
       "      <td>2025-06-03 02:18:19.618048</td>\n",
       "      <td>0 days 00:15:08.874528</td>\n",
       "      <td>0.136502</td>\n",
       "      <td>256</td>\n",
       "      <td>4</td>\n",
       "      <td>0.000370</td>\n",
       "      <td>2</td>\n",
       "      <td>6</td>\n",
       "      <td>3</td>\n",
       "      <td>COMPLETE</td>\n",
       "    </tr>\n",
       "    <tr>\n",
       "      <th>4</th>\n",
       "      <td>4</td>\n",
       "      <td>-1.089620</td>\n",
       "      <td>2025-06-03 02:18:19.642022</td>\n",
       "      <td>2025-06-03 02:22:17.066919</td>\n",
       "      <td>0 days 00:03:57.424897</td>\n",
       "      <td>0.073563</td>\n",
       "      <td>128</td>\n",
       "      <td>1</td>\n",
       "      <td>0.000778</td>\n",
       "      <td>2</td>\n",
       "      <td>7</td>\n",
       "      <td>3</td>\n",
       "      <td>COMPLETE</td>\n",
       "    </tr>\n",
       "    <tr>\n",
       "      <th>5</th>\n",
       "      <td>5</td>\n",
       "      <td>NaN</td>\n",
       "      <td>2025-06-03 02:22:17.073864</td>\n",
       "      <td>2025-06-03 02:22:42.388236</td>\n",
       "      <td>0 days 00:00:25.314372</td>\n",
       "      <td>0.408811</td>\n",
       "      <td>128</td>\n",
       "      <td>1</td>\n",
       "      <td>0.000459</td>\n",
       "      <td>3</td>\n",
       "      <td>7</td>\n",
       "      <td>6</td>\n",
       "      <td>FAIL</td>\n",
       "    </tr>\n",
       "    <tr>\n",
       "      <th>6</th>\n",
       "      <td>6</td>\n",
       "      <td>-1.877041</td>\n",
       "      <td>2025-06-03 02:33:13.049517</td>\n",
       "      <td>2025-06-03 02:37:06.415733</td>\n",
       "      <td>0 days 00:03:53.366216</td>\n",
       "      <td>0.150628</td>\n",
       "      <td>256</td>\n",
       "      <td>1</td>\n",
       "      <td>0.000212</td>\n",
       "      <td>1</td>\n",
       "      <td>5</td>\n",
       "      <td>4</td>\n",
       "      <td>COMPLETE</td>\n",
       "    </tr>\n",
       "    <tr>\n",
       "      <th>7</th>\n",
       "      <td>7</td>\n",
       "      <td>NaN</td>\n",
       "      <td>2025-06-03 02:37:06.425694</td>\n",
       "      <td>2025-06-03 02:37:36.059975</td>\n",
       "      <td>0 days 00:00:29.634281</td>\n",
       "      <td>0.023302</td>\n",
       "      <td>256</td>\n",
       "      <td>2</td>\n",
       "      <td>0.006770</td>\n",
       "      <td>1</td>\n",
       "      <td>7</td>\n",
       "      <td>1</td>\n",
       "      <td>FAIL</td>\n",
       "    </tr>\n",
       "    <tr>\n",
       "      <th>8</th>\n",
       "      <td>8</td>\n",
       "      <td>NaN</td>\n",
       "      <td>2025-06-03 02:45:08.180984</td>\n",
       "      <td>2025-06-03 02:45:11.442764</td>\n",
       "      <td>0 days 00:00:03.261780</td>\n",
       "      <td>0.006253</td>\n",
       "      <td>256</td>\n",
       "      <td>4</td>\n",
       "      <td>0.002918</td>\n",
       "      <td>2</td>\n",
       "      <td>8</td>\n",
       "      <td>4</td>\n",
       "      <td>FAIL</td>\n",
       "    </tr>\n",
       "    <tr>\n",
       "      <th>9</th>\n",
       "      <td>9</td>\n",
       "      <td>-2.407743</td>\n",
       "      <td>2025-06-03 03:03:15.080446</td>\n",
       "      <td>2025-06-03 03:13:45.117967</td>\n",
       "      <td>0 days 00:10:30.037521</td>\n",
       "      <td>0.230481</td>\n",
       "      <td>256</td>\n",
       "      <td>2</td>\n",
       "      <td>0.005585</td>\n",
       "      <td>2</td>\n",
       "      <td>3</td>\n",
       "      <td>2</td>\n",
       "      <td>COMPLETE</td>\n",
       "    </tr>\n",
       "    <tr>\n",
       "      <th>10</th>\n",
       "      <td>10</td>\n",
       "      <td>-2.933849</td>\n",
       "      <td>2025-06-03 03:13:45.132463</td>\n",
       "      <td>2025-06-03 03:17:43.107742</td>\n",
       "      <td>0 days 00:03:57.975279</td>\n",
       "      <td>0.278527</td>\n",
       "      <td>64</td>\n",
       "      <td>1</td>\n",
       "      <td>0.001051</td>\n",
       "      <td>3</td>\n",
       "      <td>4</td>\n",
       "      <td>2</td>\n",
       "      <td>COMPLETE</td>\n",
       "    </tr>\n",
       "    <tr>\n",
       "      <th>11</th>\n",
       "      <td>11</td>\n",
       "      <td>-1.464654</td>\n",
       "      <td>2025-06-03 03:17:43.114082</td>\n",
       "      <td>2025-06-03 03:25:26.358079</td>\n",
       "      <td>0 days 00:07:43.243997</td>\n",
       "      <td>0.012910</td>\n",
       "      <td>128</td>\n",
       "      <td>4</td>\n",
       "      <td>0.001160</td>\n",
       "      <td>2</td>\n",
       "      <td>8</td>\n",
       "      <td>3</td>\n",
       "      <td>COMPLETE</td>\n",
       "    </tr>\n",
       "    <tr>\n",
       "      <th>12</th>\n",
       "      <td>12</td>\n",
       "      <td>-3.323984</td>\n",
       "      <td>2025-06-03 03:25:26.365537</td>\n",
       "      <td>2025-06-03 03:28:42.874142</td>\n",
       "      <td>0 days 00:03:16.508605</td>\n",
       "      <td>0.001563</td>\n",
       "      <td>64</td>\n",
       "      <td>2</td>\n",
       "      <td>0.000441</td>\n",
       "      <td>2</td>\n",
       "      <td>6</td>\n",
       "      <td>3</td>\n",
       "      <td>COMPLETE</td>\n",
       "    </tr>\n",
       "    <tr>\n",
       "      <th>13</th>\n",
       "      <td>13</td>\n",
       "      <td>-2.164776</td>\n",
       "      <td>2025-06-03 03:28:42.881156</td>\n",
       "      <td>2025-06-03 03:30:49.622279</td>\n",
       "      <td>0 days 00:02:06.741123</td>\n",
       "      <td>0.089356</td>\n",
       "      <td>64</td>\n",
       "      <td>1</td>\n",
       "      <td>0.002477</td>\n",
       "      <td>1</td>\n",
       "      <td>7</td>\n",
       "      <td>2</td>\n",
       "      <td>COMPLETE</td>\n",
       "    </tr>\n",
       "    <tr>\n",
       "      <th>14</th>\n",
       "      <td>14</td>\n",
       "      <td>-4.454166</td>\n",
       "      <td>2025-06-03 03:30:49.629100</td>\n",
       "      <td>2025-06-03 03:33:42.305966</td>\n",
       "      <td>0 days 00:02:52.676866</td>\n",
       "      <td>0.376489</td>\n",
       "      <td>128</td>\n",
       "      <td>2</td>\n",
       "      <td>0.000104</td>\n",
       "      <td>1</td>\n",
       "      <td>8</td>\n",
       "      <td>4</td>\n",
       "      <td>COMPLETE</td>\n",
       "    </tr>\n",
       "    <tr>\n",
       "      <th>15</th>\n",
       "      <td>15</td>\n",
       "      <td>-4.342450</td>\n",
       "      <td>2025-06-03 03:33:42.312318</td>\n",
       "      <td>2025-06-03 03:36:38.056123</td>\n",
       "      <td>0 days 00:02:55.743805</td>\n",
       "      <td>0.405232</td>\n",
       "      <td>128</td>\n",
       "      <td>2</td>\n",
       "      <td>0.000105</td>\n",
       "      <td>1</td>\n",
       "      <td>8</td>\n",
       "      <td>4</td>\n",
       "      <td>COMPLETE</td>\n",
       "    </tr>\n",
       "    <tr>\n",
       "      <th>16</th>\n",
       "      <td>16</td>\n",
       "      <td>-4.651977</td>\n",
       "      <td>2025-06-03 03:36:38.062431</td>\n",
       "      <td>2025-06-03 03:42:40.851149</td>\n",
       "      <td>0 days 00:06:02.788718</td>\n",
       "      <td>0.439957</td>\n",
       "      <td>128</td>\n",
       "      <td>2</td>\n",
       "      <td>0.000109</td>\n",
       "      <td>1</td>\n",
       "      <td>8</td>\n",
       "      <td>1</td>\n",
       "      <td>COMPLETE</td>\n",
       "    </tr>\n",
       "    <tr>\n",
       "      <th>17</th>\n",
       "      <td>17</td>\n",
       "      <td>-4.737934</td>\n",
       "      <td>2025-06-03 03:42:40.858006</td>\n",
       "      <td>2025-06-03 03:48:43.341632</td>\n",
       "      <td>0 days 00:06:02.483626</td>\n",
       "      <td>0.489443</td>\n",
       "      <td>128</td>\n",
       "      <td>2</td>\n",
       "      <td>0.000214</td>\n",
       "      <td>1</td>\n",
       "      <td>8</td>\n",
       "      <td>1</td>\n",
       "      <td>COMPLETE</td>\n",
       "    </tr>\n",
       "    <tr>\n",
       "      <th>18</th>\n",
       "      <td>18</td>\n",
       "      <td>-4.912199</td>\n",
       "      <td>2025-06-03 03:48:43.347462</td>\n",
       "      <td>2025-06-03 04:09:42.754754</td>\n",
       "      <td>0 days 00:20:59.407292</td>\n",
       "      <td>0.490458</td>\n",
       "      <td>128</td>\n",
       "      <td>2</td>\n",
       "      <td>0.000231</td>\n",
       "      <td>1</td>\n",
       "      <td>8</td>\n",
       "      <td>1</td>\n",
       "      <td>COMPLETE</td>\n",
       "    </tr>\n",
       "    <tr>\n",
       "      <th>19</th>\n",
       "      <td>19</td>\n",
       "      <td>-4.532205</td>\n",
       "      <td>2025-06-03 04:09:42.760973</td>\n",
       "      <td>2025-06-03 04:46:29.834964</td>\n",
       "      <td>0 days 00:36:47.073991</td>\n",
       "      <td>0.486891</td>\n",
       "      <td>128</td>\n",
       "      <td>2</td>\n",
       "      <td>0.000240</td>\n",
       "      <td>1</td>\n",
       "      <td>7</td>\n",
       "      <td>1</td>\n",
       "      <td>COMPLETE</td>\n",
       "    </tr>\n",
       "    <tr>\n",
       "      <th>20</th>\n",
       "      <td>20</td>\n",
       "      <td>-4.257281</td>\n",
       "      <td>2025-06-03 04:46:29.841879</td>\n",
       "      <td>2025-06-03 05:42:55.766959</td>\n",
       "      <td>0 days 00:56:25.925080</td>\n",
       "      <td>0.331920</td>\n",
       "      <td>128</td>\n",
       "      <td>4</td>\n",
       "      <td>0.000223</td>\n",
       "      <td>1</td>\n",
       "      <td>6</td>\n",
       "      <td>1</td>\n",
       "      <td>COMPLETE</td>\n",
       "    </tr>\n",
       "    <tr>\n",
       "      <th>21</th>\n",
       "      <td>21</td>\n",
       "      <td>-1.953219</td>\n",
       "      <td>2025-06-03 05:42:55.773737</td>\n",
       "      <td>2025-06-03 06:03:28.117921</td>\n",
       "      <td>0 days 00:20:32.344184</td>\n",
       "      <td>0.483833</td>\n",
       "      <td>128</td>\n",
       "      <td>2</td>\n",
       "      <td>0.000682</td>\n",
       "      <td>1</td>\n",
       "      <td>5</td>\n",
       "      <td>1</td>\n",
       "      <td>COMPLETE</td>\n",
       "    </tr>\n",
       "    <tr>\n",
       "      <th>22</th>\n",
       "      <td>22</td>\n",
       "      <td>-3.287099</td>\n",
       "      <td>2025-06-03 06:03:28.123052</td>\n",
       "      <td>2025-06-03 06:37:38.143420</td>\n",
       "      <td>0 days 00:34:10.020368</td>\n",
       "      <td>0.329834</td>\n",
       "      <td>128</td>\n",
       "      <td>2</td>\n",
       "      <td>0.009665</td>\n",
       "      <td>3</td>\n",
       "      <td>8</td>\n",
       "      <td>1</td>\n",
       "      <td>COMPLETE</td>\n",
       "    </tr>\n",
       "    <tr>\n",
       "      <th>23</th>\n",
       "      <td>23</td>\n",
       "      <td>-3.212017</td>\n",
       "      <td>2025-06-03 06:37:38.149719</td>\n",
       "      <td>2025-06-03 06:40:50.718811</td>\n",
       "      <td>0 days 00:03:12.569092</td>\n",
       "      <td>0.495022</td>\n",
       "      <td>64</td>\n",
       "      <td>4</td>\n",
       "      <td>0.002596</td>\n",
       "      <td>1</td>\n",
       "      <td>7</td>\n",
       "      <td>6</td>\n",
       "      <td>COMPLETE</td>\n",
       "    </tr>\n",
       "    <tr>\n",
       "      <th>24</th>\n",
       "      <td>24</td>\n",
       "      <td>-4.631109</td>\n",
       "      <td>2025-06-03 06:40:50.726700</td>\n",
       "      <td>2025-06-03 07:10:52.507976</td>\n",
       "      <td>0 days 00:30:01.781276</td>\n",
       "      <td>0.349096</td>\n",
       "      <td>128</td>\n",
       "      <td>2</td>\n",
       "      <td>0.000265</td>\n",
       "      <td>1</td>\n",
       "      <td>8</td>\n",
       "      <td>1</td>\n",
       "      <td>COMPLETE</td>\n",
       "    </tr>\n",
       "    <tr>\n",
       "      <th>25</th>\n",
       "      <td>25</td>\n",
       "      <td>-4.703432</td>\n",
       "      <td>2025-06-03 07:10:52.515879</td>\n",
       "      <td>2025-06-03 07:33:59.104471</td>\n",
       "      <td>0 days 00:23:06.588592</td>\n",
       "      <td>0.431626</td>\n",
       "      <td>128</td>\n",
       "      <td>2</td>\n",
       "      <td>0.000155</td>\n",
       "      <td>1</td>\n",
       "      <td>8</td>\n",
       "      <td>1</td>\n",
       "      <td>COMPLETE</td>\n",
       "    </tr>\n",
       "    <tr>\n",
       "      <th>26</th>\n",
       "      <td>26</td>\n",
       "      <td>-4.186607</td>\n",
       "      <td>2025-06-03 07:33:59.112508</td>\n",
       "      <td>2025-06-03 07:39:07.944227</td>\n",
       "      <td>0 days 00:05:08.831719</td>\n",
       "      <td>0.445813</td>\n",
       "      <td>128</td>\n",
       "      <td>2</td>\n",
       "      <td>0.000193</td>\n",
       "      <td>1</td>\n",
       "      <td>7</td>\n",
       "      <td>1</td>\n",
       "      <td>COMPLETE</td>\n",
       "    </tr>\n",
       "    <tr>\n",
       "      <th>27</th>\n",
       "      <td>27</td>\n",
       "      <td>-4.421916</td>\n",
       "      <td>2025-06-03 07:39:07.950160</td>\n",
       "      <td>2025-06-03 07:44:20.527877</td>\n",
       "      <td>0 days 00:05:12.577717</td>\n",
       "      <td>0.448758</td>\n",
       "      <td>128</td>\n",
       "      <td>2</td>\n",
       "      <td>0.000351</td>\n",
       "      <td>1</td>\n",
       "      <td>8</td>\n",
       "      <td>1</td>\n",
       "      <td>COMPLETE</td>\n",
       "    </tr>\n",
       "    <tr>\n",
       "      <th>28</th>\n",
       "      <td>28</td>\n",
       "      <td>-4.701136</td>\n",
       "      <td>2025-06-03 07:44:20.534248</td>\n",
       "      <td>2025-06-03 07:50:26.882662</td>\n",
       "      <td>0 days 00:06:06.348414</td>\n",
       "      <td>0.388176</td>\n",
       "      <td>128</td>\n",
       "      <td>2</td>\n",
       "      <td>0.000158</td>\n",
       "      <td>1</td>\n",
       "      <td>8</td>\n",
       "      <td>1</td>\n",
       "      <td>COMPLETE</td>\n",
       "    </tr>\n",
       "    <tr>\n",
       "      <th>29</th>\n",
       "      <td>29</td>\n",
       "      <td>-2.574927</td>\n",
       "      <td>2025-06-03 07:50:26.897503</td>\n",
       "      <td>2025-06-03 08:06:21.818345</td>\n",
       "      <td>0 days 00:15:54.920842</td>\n",
       "      <td>0.291616</td>\n",
       "      <td>128</td>\n",
       "      <td>2</td>\n",
       "      <td>0.000154</td>\n",
       "      <td>2</td>\n",
       "      <td>7</td>\n",
       "      <td>1</td>\n",
       "      <td>COMPLETE</td>\n",
       "    </tr>\n",
       "    <tr>\n",
       "      <th>30</th>\n",
       "      <td>30</td>\n",
       "      <td>-3.910468</td>\n",
       "      <td>2025-06-03 08:06:21.833752</td>\n",
       "      <td>2025-06-03 08:15:19.922377</td>\n",
       "      <td>0 days 00:08:58.088625</td>\n",
       "      <td>0.459250</td>\n",
       "      <td>128</td>\n",
       "      <td>2</td>\n",
       "      <td>0.000299</td>\n",
       "      <td>1</td>\n",
       "      <td>6</td>\n",
       "      <td>1</td>\n",
       "      <td>COMPLETE</td>\n",
       "    </tr>\n",
       "    <tr>\n",
       "      <th>31</th>\n",
       "      <td>31</td>\n",
       "      <td>-3.679651</td>\n",
       "      <td>2025-06-03 08:15:19.954760</td>\n",
       "      <td>2025-06-03 08:18:46.885753</td>\n",
       "      <td>0 days 00:03:26.930993</td>\n",
       "      <td>0.370232</td>\n",
       "      <td>128</td>\n",
       "      <td>2</td>\n",
       "      <td>0.000556</td>\n",
       "      <td>1</td>\n",
       "      <td>8</td>\n",
       "      <td>6</td>\n",
       "      <td>COMPLETE</td>\n",
       "    </tr>\n",
       "    <tr>\n",
       "      <th>32</th>\n",
       "      <td>32</td>\n",
       "      <td>-3.873192</td>\n",
       "      <td>2025-06-03 08:18:46.895757</td>\n",
       "      <td>2025-06-03 08:52:45.496871</td>\n",
       "      <td>0 days 00:33:58.601114</td>\n",
       "      <td>0.499339</td>\n",
       "      <td>64</td>\n",
       "      <td>4</td>\n",
       "      <td>0.002048</td>\n",
       "      <td>2</td>\n",
       "      <td>7</td>\n",
       "      <td>1</td>\n",
       "      <td>COMPLETE</td>\n",
       "    </tr>\n",
       "    <tr>\n",
       "      <th>33</th>\n",
       "      <td>33</td>\n",
       "      <td>-3.024075</td>\n",
       "      <td>2025-06-03 08:52:45.505322</td>\n",
       "      <td>2025-06-03 09:24:08.060831</td>\n",
       "      <td>0 days 00:31:22.555509</td>\n",
       "      <td>0.418255</td>\n",
       "      <td>256</td>\n",
       "      <td>1</td>\n",
       "      <td>0.000151</td>\n",
       "      <td>2</td>\n",
       "      <td>7</td>\n",
       "      <td>1</td>\n",
       "      <td>COMPLETE</td>\n",
       "    </tr>\n",
       "    <tr>\n",
       "      <th>34</th>\n",
       "      <td>34</td>\n",
       "      <td>1.917331</td>\n",
       "      <td>2025-06-03 09:24:08.069913</td>\n",
       "      <td>2025-06-03 09:30:08.199414</td>\n",
       "      <td>0 days 00:06:00.129501</td>\n",
       "      <td>0.461132</td>\n",
       "      <td>128</td>\n",
       "      <td>2</td>\n",
       "      <td>0.001542</td>\n",
       "      <td>1</td>\n",
       "      <td>3</td>\n",
       "      <td>1</td>\n",
       "      <td>COMPLETE</td>\n",
       "    </tr>\n",
       "    <tr>\n",
       "      <th>35</th>\n",
       "      <td>35</td>\n",
       "      <td>-4.489118</td>\n",
       "      <td>2025-06-03 09:30:08.204648</td>\n",
       "      <td>2025-06-03 09:38:21.363232</td>\n",
       "      <td>0 days 00:08:13.158584</td>\n",
       "      <td>0.384339</td>\n",
       "      <td>128</td>\n",
       "      <td>2</td>\n",
       "      <td>0.000153</td>\n",
       "      <td>1</td>\n",
       "      <td>8</td>\n",
       "      <td>1</td>\n",
       "      <td>COMPLETE</td>\n",
       "    </tr>\n",
       "    <tr>\n",
       "      <th>36</th>\n",
       "      <td>36</td>\n",
       "      <td>-4.557021</td>\n",
       "      <td>2025-06-03 09:38:21.369608</td>\n",
       "      <td>2025-06-03 09:44:36.888248</td>\n",
       "      <td>0 days 00:06:15.518640</td>\n",
       "      <td>0.413441</td>\n",
       "      <td>128</td>\n",
       "      <td>2</td>\n",
       "      <td>0.000192</td>\n",
       "      <td>1</td>\n",
       "      <td>8</td>\n",
       "      <td>1</td>\n",
       "      <td>COMPLETE</td>\n",
       "    </tr>\n",
       "    <tr>\n",
       "      <th>37</th>\n",
       "      <td>37</td>\n",
       "      <td>-4.546214</td>\n",
       "      <td>2025-06-03 09:44:36.896417</td>\n",
       "      <td>2025-06-03 09:47:01.017827</td>\n",
       "      <td>0 days 00:02:24.121410</td>\n",
       "      <td>0.420712</td>\n",
       "      <td>128</td>\n",
       "      <td>2</td>\n",
       "      <td>0.000374</td>\n",
       "      <td>1</td>\n",
       "      <td>8</td>\n",
       "      <td>6</td>\n",
       "      <td>COMPLETE</td>\n",
       "    </tr>\n",
       "    <tr>\n",
       "      <th>38</th>\n",
       "      <td>38</td>\n",
       "      <td>-4.693133</td>\n",
       "      <td>2025-06-03 09:47:01.024758</td>\n",
       "      <td>2025-06-03 09:53:09.077083</td>\n",
       "      <td>0 days 00:06:08.052325</td>\n",
       "      <td>0.468668</td>\n",
       "      <td>128</td>\n",
       "      <td>2</td>\n",
       "      <td>0.000134</td>\n",
       "      <td>1</td>\n",
       "      <td>8</td>\n",
       "      <td>1</td>\n",
       "      <td>COMPLETE</td>\n",
       "    </tr>\n",
       "  </tbody>\n",
       "</table>\n",
       "</div>"
      ],
      "text/plain": [
       "    number      value             datetime_start          datetime_complete  \\\n",
       "0        0        NaN 2025-06-03 01:50:29.985633 2025-06-03 01:50:30.897941   \n",
       "1        1  -3.471561 2025-06-03 01:50:58.575736 2025-06-03 01:55:32.898710   \n",
       "2        2  -0.824970 2025-06-03 01:55:32.909750 2025-06-03 02:03:10.734871   \n",
       "3        3  11.117490 2025-06-03 02:03:10.743520 2025-06-03 02:18:19.618048   \n",
       "4        4  -1.089620 2025-06-03 02:18:19.642022 2025-06-03 02:22:17.066919   \n",
       "5        5        NaN 2025-06-03 02:22:17.073864 2025-06-03 02:22:42.388236   \n",
       "6        6  -1.877041 2025-06-03 02:33:13.049517 2025-06-03 02:37:06.415733   \n",
       "7        7        NaN 2025-06-03 02:37:06.425694 2025-06-03 02:37:36.059975   \n",
       "8        8        NaN 2025-06-03 02:45:08.180984 2025-06-03 02:45:11.442764   \n",
       "9        9  -2.407743 2025-06-03 03:03:15.080446 2025-06-03 03:13:45.117967   \n",
       "10      10  -2.933849 2025-06-03 03:13:45.132463 2025-06-03 03:17:43.107742   \n",
       "11      11  -1.464654 2025-06-03 03:17:43.114082 2025-06-03 03:25:26.358079   \n",
       "12      12  -3.323984 2025-06-03 03:25:26.365537 2025-06-03 03:28:42.874142   \n",
       "13      13  -2.164776 2025-06-03 03:28:42.881156 2025-06-03 03:30:49.622279   \n",
       "14      14  -4.454166 2025-06-03 03:30:49.629100 2025-06-03 03:33:42.305966   \n",
       "15      15  -4.342450 2025-06-03 03:33:42.312318 2025-06-03 03:36:38.056123   \n",
       "16      16  -4.651977 2025-06-03 03:36:38.062431 2025-06-03 03:42:40.851149   \n",
       "17      17  -4.737934 2025-06-03 03:42:40.858006 2025-06-03 03:48:43.341632   \n",
       "18      18  -4.912199 2025-06-03 03:48:43.347462 2025-06-03 04:09:42.754754   \n",
       "19      19  -4.532205 2025-06-03 04:09:42.760973 2025-06-03 04:46:29.834964   \n",
       "20      20  -4.257281 2025-06-03 04:46:29.841879 2025-06-03 05:42:55.766959   \n",
       "21      21  -1.953219 2025-06-03 05:42:55.773737 2025-06-03 06:03:28.117921   \n",
       "22      22  -3.287099 2025-06-03 06:03:28.123052 2025-06-03 06:37:38.143420   \n",
       "23      23  -3.212017 2025-06-03 06:37:38.149719 2025-06-03 06:40:50.718811   \n",
       "24      24  -4.631109 2025-06-03 06:40:50.726700 2025-06-03 07:10:52.507976   \n",
       "25      25  -4.703432 2025-06-03 07:10:52.515879 2025-06-03 07:33:59.104471   \n",
       "26      26  -4.186607 2025-06-03 07:33:59.112508 2025-06-03 07:39:07.944227   \n",
       "27      27  -4.421916 2025-06-03 07:39:07.950160 2025-06-03 07:44:20.527877   \n",
       "28      28  -4.701136 2025-06-03 07:44:20.534248 2025-06-03 07:50:26.882662   \n",
       "29      29  -2.574927 2025-06-03 07:50:26.897503 2025-06-03 08:06:21.818345   \n",
       "30      30  -3.910468 2025-06-03 08:06:21.833752 2025-06-03 08:15:19.922377   \n",
       "31      31  -3.679651 2025-06-03 08:15:19.954760 2025-06-03 08:18:46.885753   \n",
       "32      32  -3.873192 2025-06-03 08:18:46.895757 2025-06-03 08:52:45.496871   \n",
       "33      33  -3.024075 2025-06-03 08:52:45.505322 2025-06-03 09:24:08.060831   \n",
       "34      34   1.917331 2025-06-03 09:24:08.069913 2025-06-03 09:30:08.199414   \n",
       "35      35  -4.489118 2025-06-03 09:30:08.204648 2025-06-03 09:38:21.363232   \n",
       "36      36  -4.557021 2025-06-03 09:38:21.369608 2025-06-03 09:44:36.888248   \n",
       "37      37  -4.546214 2025-06-03 09:44:36.896417 2025-06-03 09:47:01.017827   \n",
       "38      38  -4.693133 2025-06-03 09:47:01.024758 2025-06-03 09:53:09.077083   \n",
       "\n",
       "                 duration  params_dropout  params_hidden_dim  \\\n",
       "0  0 days 00:00:00.912308        0.269445                 64   \n",
       "1  0 days 00:04:34.322974        0.199885                128   \n",
       "2  0 days 00:07:37.825121        0.416878                256   \n",
       "3  0 days 00:15:08.874528        0.136502                256   \n",
       "4  0 days 00:03:57.424897        0.073563                128   \n",
       "5  0 days 00:00:25.314372        0.408811                128   \n",
       "6  0 days 00:03:53.366216        0.150628                256   \n",
       "7  0 days 00:00:29.634281        0.023302                256   \n",
       "8  0 days 00:00:03.261780        0.006253                256   \n",
       "9  0 days 00:10:30.037521        0.230481                256   \n",
       "10 0 days 00:03:57.975279        0.278527                 64   \n",
       "11 0 days 00:07:43.243997        0.012910                128   \n",
       "12 0 days 00:03:16.508605        0.001563                 64   \n",
       "13 0 days 00:02:06.741123        0.089356                 64   \n",
       "14 0 days 00:02:52.676866        0.376489                128   \n",
       "15 0 days 00:02:55.743805        0.405232                128   \n",
       "16 0 days 00:06:02.788718        0.439957                128   \n",
       "17 0 days 00:06:02.483626        0.489443                128   \n",
       "18 0 days 00:20:59.407292        0.490458                128   \n",
       "19 0 days 00:36:47.073991        0.486891                128   \n",
       "20 0 days 00:56:25.925080        0.331920                128   \n",
       "21 0 days 00:20:32.344184        0.483833                128   \n",
       "22 0 days 00:34:10.020368        0.329834                128   \n",
       "23 0 days 00:03:12.569092        0.495022                 64   \n",
       "24 0 days 00:30:01.781276        0.349096                128   \n",
       "25 0 days 00:23:06.588592        0.431626                128   \n",
       "26 0 days 00:05:08.831719        0.445813                128   \n",
       "27 0 days 00:05:12.577717        0.448758                128   \n",
       "28 0 days 00:06:06.348414        0.388176                128   \n",
       "29 0 days 00:15:54.920842        0.291616                128   \n",
       "30 0 days 00:08:58.088625        0.459250                128   \n",
       "31 0 days 00:03:26.930993        0.370232                128   \n",
       "32 0 days 00:33:58.601114        0.499339                 64   \n",
       "33 0 days 00:31:22.555509        0.418255                256   \n",
       "34 0 days 00:06:00.129501        0.461132                128   \n",
       "35 0 days 00:08:13.158584        0.384339                128   \n",
       "36 0 days 00:06:15.518640        0.413441                128   \n",
       "37 0 days 00:02:24.121410        0.420712                128   \n",
       "38 0 days 00:06:08.052325        0.468668                128   \n",
       "\n",
       "    params_lookback_days  params_lr  params_num_layers  params_num_mixtures  \\\n",
       "0                      4   0.000513                  2                    8   \n",
       "1                      2   0.000143                  2                    7   \n",
       "2                      2   0.000478                  3                    4   \n",
       "3                      4   0.000370                  2                    6   \n",
       "4                      1   0.000778                  2                    7   \n",
       "5                      1   0.000459                  3                    7   \n",
       "6                      1   0.000212                  1                    5   \n",
       "7                      2   0.006770                  1                    7   \n",
       "8                      4   0.002918                  2                    8   \n",
       "9                      2   0.005585                  2                    3   \n",
       "10                     1   0.001051                  3                    4   \n",
       "11                     4   0.001160                  2                    8   \n",
       "12                     2   0.000441                  2                    6   \n",
       "13                     1   0.002477                  1                    7   \n",
       "14                     2   0.000104                  1                    8   \n",
       "15                     2   0.000105                  1                    8   \n",
       "16                     2   0.000109                  1                    8   \n",
       "17                     2   0.000214                  1                    8   \n",
       "18                     2   0.000231                  1                    8   \n",
       "19                     2   0.000240                  1                    7   \n",
       "20                     4   0.000223                  1                    6   \n",
       "21                     2   0.000682                  1                    5   \n",
       "22                     2   0.009665                  3                    8   \n",
       "23                     4   0.002596                  1                    7   \n",
       "24                     2   0.000265                  1                    8   \n",
       "25                     2   0.000155                  1                    8   \n",
       "26                     2   0.000193                  1                    7   \n",
       "27                     2   0.000351                  1                    8   \n",
       "28                     2   0.000158                  1                    8   \n",
       "29                     2   0.000154                  2                    7   \n",
       "30                     2   0.000299                  1                    6   \n",
       "31                     2   0.000556                  1                    8   \n",
       "32                     4   0.002048                  2                    7   \n",
       "33                     1   0.000151                  2                    7   \n",
       "34                     2   0.001542                  1                    3   \n",
       "35                     2   0.000153                  1                    8   \n",
       "36                     2   0.000192                  1                    8   \n",
       "37                     2   0.000374                  1                    8   \n",
       "38                     2   0.000134                  1                    8   \n",
       "\n",
       "    params_step     state  \n",
       "0             1      FAIL  \n",
       "1             4  COMPLETE  \n",
       "2             6  COMPLETE  \n",
       "3             3  COMPLETE  \n",
       "4             3  COMPLETE  \n",
       "5             6      FAIL  \n",
       "6             4  COMPLETE  \n",
       "7             1      FAIL  \n",
       "8             4      FAIL  \n",
       "9             2  COMPLETE  \n",
       "10            2  COMPLETE  \n",
       "11            3  COMPLETE  \n",
       "12            3  COMPLETE  \n",
       "13            2  COMPLETE  \n",
       "14            4  COMPLETE  \n",
       "15            4  COMPLETE  \n",
       "16            1  COMPLETE  \n",
       "17            1  COMPLETE  \n",
       "18            1  COMPLETE  \n",
       "19            1  COMPLETE  \n",
       "20            1  COMPLETE  \n",
       "21            1  COMPLETE  \n",
       "22            1  COMPLETE  \n",
       "23            6  COMPLETE  \n",
       "24            1  COMPLETE  \n",
       "25            1  COMPLETE  \n",
       "26            1  COMPLETE  \n",
       "27            1  COMPLETE  \n",
       "28            1  COMPLETE  \n",
       "29            1  COMPLETE  \n",
       "30            1  COMPLETE  \n",
       "31            6  COMPLETE  \n",
       "32            1  COMPLETE  \n",
       "33            1  COMPLETE  \n",
       "34            1  COMPLETE  \n",
       "35            1  COMPLETE  \n",
       "36            1  COMPLETE  \n",
       "37            6  COMPLETE  \n",
       "38            1  COMPLETE  "
      ]
     },
     "execution_count": 26,
     "metadata": {},
     "output_type": "execute_result"
    }
   ],
   "source": [
    "lstm_study.trials_dataframe()"
   ]
  },
  {
   "cell_type": "code",
   "execution_count": null,
   "id": "0fc5834e",
   "metadata": {},
   "outputs": [],
   "source": [
    "class GRU_MDN(nn.Module):\n",
    "    def __init__(self, input_dim, hidden_dim, num_layers, num_mixtures, output_dim, dropout=0.3):\n",
    "        super(GRU_MDN, self).__init__()\n",
    "        self.num_mixtures = num_mixtures\n",
    "        self.hidden_dim = hidden_dim\n",
    "\n",
    "        self.gru = nn.GRU(\n",
    "            input_dim,\n",
    "            hidden_dim,\n",
    "            num_layers,\n",
    "            batch_first=True,\n",
    "            dropout=dropout if num_layers > 1 else 0.0\n",
    "        )\n",
    "\n",
    "        self.fc = nn.Linear(hidden_dim, hidden_dim)\n",
    "        self.batch_norm = nn.BatchNorm1d(hidden_dim)\n",
    "        self.dropout = nn.Dropout(dropout)\n",
    "\n",
    "        self.mdn = MDNLayer(hidden_dim, output_dim, num_mixtures)\n",
    "\n",
    "    def forward(self, x):\n",
    "        gru_out, _ = self.gru(x)\n",
    "        last_output = gru_out[:, -1, :]  # Use last timestep\n",
    "\n",
    "        h = self.fc(last_output)\n",
    "        h = self.batch_norm(h)\n",
    "        h = F.relu(h)\n",
    "        h = self.dropout(h)\n",
    "\n",
    "        mu, sigma, alpha = self.mdn(h)\n",
    "        return mu, sigma, alpha"
   ]
  },
  {
   "cell_type": "code",
   "execution_count": null,
   "id": "30f84d1e",
   "metadata": {},
   "outputs": [
    {
     "name": "stderr",
     "output_type": "stream",
     "text": [
      "[I 2025-06-03 14:53:17,745] Using an existing study with name 'gru_mdn_hyperparam_search' instead of creating a new one.\n"
     ]
    }
   ],
   "source": [
    "def gru_mdn_objective(trial):\n",
    "    hidden_dim = trial.suggest_categorical(\"hidden_dim\", [64, 128, 256])\n",
    "    num_layers = trial.suggest_int(\"num_layers\", 1, 3)\n",
    "    num_mixtures = trial.suggest_int(\"num_mixtures\", 3, 8)\n",
    "    learning_rate = trial.suggest_float(\"lr\", 1e-4, 1e-2, log=True)\n",
    "    lookback_days = trial.suggest_categorical(\"lookback_days\", [1, 2, 4])\n",
    "    step = trial.suggest_categorical(\"step\", [1, 2, 3, 4, 6])  # hours between timesteps\n",
    "    dropout = trial.suggest_float(\"dropout\", 0.0, 0.5)\n",
    "\n",
    "    lookback_hours = lookback_days * 24\n",
    "\n",
    "    training_dataset, validation_dataset = generate_datasets(\n",
    "        dataset_df,\n",
    "        lookback=lookback_hours,\n",
    "        delay=24,  # 1-day ahead prediction\n",
    "        step=step\n",
    "    )\n",
    "\n",
    "    model = GRU_MDN(\n",
    "        input_dim=21,\n",
    "        hidden_dim=hidden_dim,\n",
    "        num_layers=num_layers,\n",
    "        num_mixtures=num_mixtures,\n",
    "        output_dim=7,\n",
    "        dropout=dropout\n",
    "    )\n",
    "\n",
    "    optimizer = torch.optim.Adam(model.parameters(), lr=learning_rate)\n",
    "\n",
    "    model_pth = f\"gru_mdn_{trial.number}_checkpoint.pth\"\n",
    "    trainer = Trainer(\n",
    "        model=model,\n",
    "        criterion=mdn_loss,\n",
    "        optimizer=optimizer,\n",
    "        train_dataset=training_dataset,\n",
    "        val_dataset=validation_dataset,\n",
    "        model_pth=model_pth,\n",
    "        batch_size=256\n",
    "    )\n",
    "\n",
    "    trainer.train(num_epochs=30)\n",
    "\n",
    "    return trainer.history['val_loss'][-1]\n",
    "\n",
    "gru_study = optuna.create_study(\n",
    "    direction=\"minimize\",\n",
    "    study_name=\"gru_mdn_hyperparam_search\",\n",
    "    storage=f\"sqlite:///{WEIGHTS_DIR}/optuna_study.db\",\n",
    "    load_if_exists=True\n",
    ")\n"
   ]
  },
  {
   "cell_type": "code",
   "execution_count": null,
   "id": "05b863c0",
   "metadata": {},
   "outputs": [],
   "source": [
    "gru_study.optimize(gru_mdn_objective, n_trials=30)"
   ]
  },
  {
   "cell_type": "code",
   "execution_count": null,
   "id": "357949be",
   "metadata": {},
   "outputs": [],
   "source": [
    "class RNN_MDN(nn.Module):\n",
    "    def __init__(self, input_dim, hidden_dim, num_layers, num_mixtures, output_dim, dropout=0.3):\n",
    "        super(RNN_MDN, self).__init__()\n",
    "        self.num_mixtures = num_mixtures\n",
    "        self.hidden_dim = hidden_dim\n",
    "\n",
    "        self.rnn = nn.RNN(\n",
    "            input_dim,\n",
    "            hidden_dim,\n",
    "            num_layers,\n",
    "            batch_first=True,\n",
    "            nonlinearity='tanh',\n",
    "            dropout=dropout if num_layers > 1 else 0.0\n",
    "        )\n",
    "\n",
    "        self.fc = nn.Linear(hidden_dim, hidden_dim)\n",
    "        self.batch_norm = nn.BatchNorm1d(hidden_dim)\n",
    "        self.dropout = nn.Dropout(dropout)\n",
    "\n",
    "        self.mdn = MDNLayer(hidden_dim, output_dim, num_mixtures)\n",
    "\n",
    "    def forward(self, x):\n",
    "        rnn_out, _ = self.rnn(x)\n",
    "        last_output = rnn_out[:, -1, :]  # Last time step\n",
    "\n",
    "        h = self.fc(last_output)\n",
    "        h = self.batch_norm(h)\n",
    "        h = F.relu(h)\n",
    "        h = self.dropout(h)\n",
    "\n",
    "        mu, sigma, alpha = self.mdn(h)\n",
    "        return mu, sigma, alpha"
   ]
  },
  {
   "cell_type": "code",
   "execution_count": 21,
   "id": "cfc2dc2d",
   "metadata": {},
   "outputs": [
    {
     "name": "stderr",
     "output_type": "stream",
     "text": [
      "[I 2025-06-03 15:17:57,945] A new study created in RDB with name: rnn_mdn_hyperparam_search\n"
     ]
    }
   ],
   "source": [
    "def rnn_mdn_objective(trial):\n",
    "    hidden_dim = trial.suggest_categorical(\"hidden_dim\", [64, 128, 256])\n",
    "    num_layers = trial.suggest_int(\"num_layers\", 1, 3)\n",
    "    num_mixtures = trial.suggest_int(\"num_mixtures\", 3, 8)\n",
    "    learning_rate = trial.suggest_float(\"lr\", 1e-4, 1e-2, log=True)\n",
    "    lookback_days = trial.suggest_categorical(\"lookback_days\", [1, 2, 4])\n",
    "    step = trial.suggest_categorical(\"step\", [1, 2, 3, 4, 6])  # hours between timesteps\n",
    "    dropout = trial.suggest_float(\"dropout\", 0.0, 0.5)\n",
    "\n",
    "    lookback_hours = lookback_days * 24\n",
    "\n",
    "    training_dataset, validation_dataset = generate_datasets(\n",
    "        dataset_df,\n",
    "        lookback=lookback_hours,\n",
    "        delay=24,  # 1-day ahead forecast\n",
    "        step=step\n",
    "    )\n",
    "\n",
    "    model = RNN_MDN(\n",
    "        input_dim=21,\n",
    "        hidden_dim=hidden_dim,\n",
    "        num_layers=num_layers,\n",
    "        num_mixtures=num_mixtures,\n",
    "        output_dim=7,\n",
    "        dropout=dropout\n",
    "    )\n",
    "\n",
    "    optimizer = torch.optim.Adam(model.parameters(), lr=learning_rate)\n",
    "\n",
    "    model_pth = f\"rnn_mdn_{trial.number}_checkpoint.pth\"\n",
    "    trainer = Trainer(\n",
    "        model=model,\n",
    "        criterion=mdn_loss,\n",
    "        optimizer=optimizer,\n",
    "        train_dataset=training_dataset,\n",
    "        val_dataset=validation_dataset,\n",
    "        model_pth=model_pth,\n",
    "        batch_size=256\n",
    "    )\n",
    "\n",
    "    trainer.train(num_epochs=30)\n",
    "\n",
    "    return trainer.history['val_loss'][-1]\n",
    "\n",
    "rnn_study = optuna.create_study(\n",
    "    direction=\"minimize\",\n",
    "    study_name=\"rnn_mdn_hyperparam_search\",\n",
    "    storage=f\"sqlite:///{WEIGHTS_DIR}/optuna_study.db\",\n",
    "    load_if_exists=True\n",
    ")"
   ]
  },
  {
   "cell_type": "code",
   "execution_count": 22,
   "id": "503dc531",
   "metadata": {},
   "outputs": [
    {
     "name": "stderr",
     "output_type": "stream",
     "text": [
      "100%|██████████| 7485/7485 [00:05<00:00, 1303.52it/s]\n",
      "100%|██████████| 4297/4297 [00:03<00:00, 1264.52it/s]\n",
      "100%|██████████| 7485/7485 [00:05<00:00, 1279.90it/s]\n",
      "100%|██████████| 4297/4297 [00:03<00:00, 1256.26it/s]\n",
      "100%|██████████| 7485/7485 [00:05<00:00, 1306.00it/s]\n",
      "100%|██████████| 4297/4297 [00:03<00:00, 1296.15it/s]\n",
      "100%|██████████| 7485/7485 [00:05<00:00, 1330.75it/s]\n",
      "100%|██████████| 4297/4297 [00:03<00:00, 1227.51it/s]\n",
      "100%|██████████| 7485/7485 [00:06<00:00, 1206.59it/s]\n",
      "100%|██████████| 4297/4297 [00:03<00:00, 1269.42it/s]\n",
      "100%|██████████| 7485/7485 [00:05<00:00, 1339.31it/s]\n",
      "100%|██████████| 4297/4297 [00:03<00:00, 1382.54it/s]\n",
      "100%|██████████| 7485/7485 [00:05<00:00, 1399.12it/s]\n",
      "100%|██████████| 4297/4297 [00:03<00:00, 1283.28it/s]\n",
      "100%|██████████| 7485/7485 [00:06<00:00, 1219.81it/s]\n",
      "100%|██████████| 4297/4297 [00:03<00:00, 1281.96it/s]\n",
      "100%|██████████| 7485/7485 [00:05<00:00, 1394.91it/s]\n",
      "100%|██████████| 4297/4297 [00:03<00:00, 1345.12it/s]\n",
      "100%|██████████| 7485/7485 [00:05<00:00, 1270.06it/s]\n",
      "100%|██████████| 4297/4297 [00:03<00:00, 1346.83it/s]\n",
      "100%|██████████| 7485/7485 [00:05<00:00, 1359.33it/s]\n",
      "100%|██████████| 4297/4297 [00:03<00:00, 1288.72it/s]\n",
      "100%|██████████| 7485/7485 [00:06<00:00, 1170.72it/s]\n",
      "100%|██████████| 4297/4297 [00:03<00:00, 1307.84it/s]\n",
      "100%|██████████| 7485/7485 [00:05<00:00, 1317.53it/s]\n",
      "100%|██████████| 4297/4297 [00:02<00:00, 1545.34it/s]\n",
      "Epoch 1: 100%|██████████| 381/381 [00:05<00:00, 65.31batch/s] \n",
      "Validation: 100%|██████████| 219/219 [00:01<00:00, 216.23batch/s]\n"
     ]
    },
    {
     "name": "stdout",
     "output_type": "stream",
     "text": [
      "Epoch 1/30 - Train Loss: 2.316952 - Val Loss: -2.147511\n"
     ]
    },
    {
     "name": "stderr",
     "output_type": "stream",
     "text": [
      "Epoch 2: 100%|██████████| 381/381 [00:02<00:00, 149.65batch/s]\n",
      "Validation: 100%|██████████| 219/219 [00:00<00:00, 223.00batch/s]\n"
     ]
    },
    {
     "name": "stdout",
     "output_type": "stream",
     "text": [
      "Epoch 2/30 - Train Loss: -1.879709 - Val Loss: -1.715726\n"
     ]
    },
    {
     "name": "stderr",
     "output_type": "stream",
     "text": [
      "Epoch 3: 100%|██████████| 381/381 [00:06<00:00, 63.48batch/s] \n",
      "Validation: 100%|██████████| 219/219 [00:00<00:00, 237.30batch/s]\n"
     ]
    },
    {
     "name": "stdout",
     "output_type": "stream",
     "text": [
      "Epoch 3/30 - Train Loss: -2.326363 - Val Loss: -2.932033\n"
     ]
    },
    {
     "name": "stderr",
     "output_type": "stream",
     "text": [
      "Epoch 4:  57%|█████▋    | 216/381 [00:03<00:02, 55.50batch/s]\n",
      "[W 2025-06-03 15:20:24,254] Trial 0 failed with parameters: {'hidden_dim': 256, 'num_layers': 2, 'num_mixtures': 8, 'lr': 0.0008696742701330395, 'lookback_days': 1, 'step': 4, 'dropout': 0.44931621028042995} because of the following error: KeyboardInterrupt().\n",
      "Traceback (most recent call last):\n",
      "  File \"/tmp/ipykernel_585/1483776821.py\", line 45, in train\n",
      "    for inputs, targets  in tqdm(self.train_loader, desc=f\"Epoch {epoch+1}\", unit=\"batch\"):\n",
      "                            ^^^^^^^^^^^^^^^^^^^^^^^^^^^^^^^^^^^^^^^^^^^^^^^^^^^^^^^^^^^^^^\n",
      "  File \"/opt/conda/lib/python3.12/site-packages/tqdm/std.py\", line 1181, in __iter__\n",
      "    for obj in iterable:\n",
      "               ^^^^^^^^\n",
      "  File \"/home/msds2025/fcayco/.local/lib/python3.12/site-packages/torch/utils/data/dataloader.py\", line 708, in __next__\n",
      "    data = self._next_data()\n",
      "           ^^^^^^^^^^^^^^^^^\n",
      "  File \"/home/msds2025/fcayco/.local/lib/python3.12/site-packages/torch/utils/data/dataloader.py\", line 764, in _next_data\n",
      "    data = self._dataset_fetcher.fetch(index)  # may raise StopIteration\n",
      "           ^^^^^^^^^^^^^^^^^^^^^^^^^^^^^^^^^^\n",
      "  File \"/home/msds2025/fcayco/.local/lib/python3.12/site-packages/torch/utils/data/_utils/fetch.py\", line 52, in fetch\n",
      "    data = [self.dataset[idx] for idx in possibly_batched_index]\n",
      "            ~~~~~~~~~~~~^^^^^\n",
      "KeyboardInterrupt\n",
      "\n",
      "The above exception was the direct cause of the following exception:\n",
      "\n",
      "Traceback (most recent call last):\n",
      "  File \"/home/msds2025/fcayco/.local/lib/python3.12/site-packages/optuna/study/_optimize.py\", line 197, in _run_trial\n",
      "    value_or_values = func(trial)\n",
      "                      ^^^^^^^^^^^\n",
      "  File \"/tmp/ipykernel_585/3375135083.py\", line 41, in rnn_mdn_objective\n",
      "    trainer.train(num_epochs=30)\n",
      "  File \"/tmp/ipykernel_585/1483776821.py\", line 87, in train\n",
      "    raise KeyboardInterrupt from e\n",
      "KeyboardInterrupt\n",
      "[W 2025-06-03 15:20:24,300] Trial 0 failed with value None.\n"
     ]
    },
    {
     "name": "stdout",
     "output_type": "stream",
     "text": [
      "\n",
      "🛑 Training interrupted by user. Saving checkpoint...\n",
      "✅ Saved model to /mnt/processed/private/msds2025/cpt3/ml3/finalproject/weights/rnn_mdn_0_checkpoint.pth at epoch 4\n"
     ]
    },
    {
     "ename": "KeyboardInterrupt",
     "evalue": "",
     "output_type": "error",
     "traceback": [
      "\u001b[0;31m---------------------------------------------------------------------------\u001b[0m",
      "\u001b[0;31mKeyboardInterrupt\u001b[0m                         Traceback (most recent call last)",
      "Cell \u001b[0;32mIn[14], line 45\u001b[0m, in \u001b[0;36mTrainer.train\u001b[0;34m(self, num_epochs)\u001b[0m\n\u001b[1;32m     43\u001b[0m train_loss \u001b[38;5;241m=\u001b[39m \u001b[38;5;241m0.0\u001b[39m\n\u001b[0;32m---> 45\u001b[0m \u001b[43m\u001b[49m\u001b[38;5;28;43;01mfor\u001b[39;49;00m\u001b[43m \u001b[49m\u001b[43minputs\u001b[49m\u001b[43m,\u001b[49m\u001b[43m \u001b[49m\u001b[43mtargets\u001b[49m\u001b[43m  \u001b[49m\u001b[38;5;129;43;01min\u001b[39;49;00m\u001b[43m \u001b[49m\u001b[43mtqdm\u001b[49m\u001b[43m(\u001b[49m\u001b[38;5;28;43mself\u001b[39;49m\u001b[38;5;241;43m.\u001b[39;49m\u001b[43mtrain_loader\u001b[49m\u001b[43m,\u001b[49m\u001b[43m \u001b[49m\u001b[43mdesc\u001b[49m\u001b[38;5;241;43m=\u001b[39;49m\u001b[38;5;124;43mf\u001b[39;49m\u001b[38;5;124;43m\"\u001b[39;49m\u001b[38;5;124;43mEpoch \u001b[39;49m\u001b[38;5;132;43;01m{\u001b[39;49;00m\u001b[43mepoch\u001b[49m\u001b[38;5;241;43m+\u001b[39;49m\u001b[38;5;241;43m1\u001b[39;49m\u001b[38;5;132;43;01m}\u001b[39;49;00m\u001b[38;5;124;43m\"\u001b[39;49m\u001b[43m,\u001b[49m\u001b[43m \u001b[49m\u001b[43munit\u001b[49m\u001b[38;5;241;43m=\u001b[39;49m\u001b[38;5;124;43m\"\u001b[39;49m\u001b[38;5;124;43mbatch\u001b[39;49m\u001b[38;5;124;43m\"\u001b[39;49m\u001b[43m)\u001b[49m\u001b[43m:\u001b[49m\n\u001b[1;32m     46\u001b[0m \u001b[43m    \u001b[49m\u001b[43minputs\u001b[49m\u001b[43m \u001b[49m\u001b[38;5;241;43m=\u001b[39;49m\u001b[43m \u001b[49m\u001b[43minputs\u001b[49m\u001b[38;5;241;43m.\u001b[39;49m\u001b[43mto\u001b[49m\u001b[43m(\u001b[49m\u001b[38;5;28;43mself\u001b[39;49m\u001b[38;5;241;43m.\u001b[39;49m\u001b[43mdevice\u001b[49m\u001b[43m)\u001b[49m\n",
      "File \u001b[0;32m/opt/conda/lib/python3.12/site-packages/tqdm/std.py:1181\u001b[0m, in \u001b[0;36mtqdm.__iter__\u001b[0;34m(self)\u001b[0m\n\u001b[1;32m   1180\u001b[0m \u001b[38;5;28;01mtry\u001b[39;00m:\n\u001b[0;32m-> 1181\u001b[0m \u001b[43m    \u001b[49m\u001b[38;5;28;43;01mfor\u001b[39;49;00m\u001b[43m \u001b[49m\u001b[43mobj\u001b[49m\u001b[43m \u001b[49m\u001b[38;5;129;43;01min\u001b[39;49;00m\u001b[43m \u001b[49m\u001b[43miterable\u001b[49m\u001b[43m:\u001b[49m\n\u001b[1;32m   1182\u001b[0m \u001b[43m        \u001b[49m\u001b[38;5;28;43;01myield\u001b[39;49;00m\u001b[43m \u001b[49m\u001b[43mobj\u001b[49m\n",
      "File \u001b[0;32m~/.local/lib/python3.12/site-packages/torch/utils/data/dataloader.py:708\u001b[0m, in \u001b[0;36m_BaseDataLoaderIter.__next__\u001b[0;34m(self)\u001b[0m\n\u001b[1;32m    707\u001b[0m     \u001b[38;5;28mself\u001b[39m\u001b[38;5;241m.\u001b[39m_reset()  \u001b[38;5;66;03m# type: ignore[call-arg]\u001b[39;00m\n\u001b[0;32m--> 708\u001b[0m data \u001b[38;5;241m=\u001b[39m \u001b[38;5;28;43mself\u001b[39;49m\u001b[38;5;241;43m.\u001b[39;49m\u001b[43m_next_data\u001b[49m\u001b[43m(\u001b[49m\u001b[43m)\u001b[49m\n\u001b[1;32m    709\u001b[0m \u001b[38;5;28mself\u001b[39m\u001b[38;5;241m.\u001b[39m_num_yielded \u001b[38;5;241m+\u001b[39m\u001b[38;5;241m=\u001b[39m \u001b[38;5;241m1\u001b[39m\n",
      "File \u001b[0;32m~/.local/lib/python3.12/site-packages/torch/utils/data/dataloader.py:764\u001b[0m, in \u001b[0;36m_SingleProcessDataLoaderIter._next_data\u001b[0;34m(self)\u001b[0m\n\u001b[1;32m    763\u001b[0m index \u001b[38;5;241m=\u001b[39m \u001b[38;5;28mself\u001b[39m\u001b[38;5;241m.\u001b[39m_next_index()  \u001b[38;5;66;03m# may raise StopIteration\u001b[39;00m\n\u001b[0;32m--> 764\u001b[0m data \u001b[38;5;241m=\u001b[39m \u001b[38;5;28;43mself\u001b[39;49m\u001b[38;5;241;43m.\u001b[39;49m\u001b[43m_dataset_fetcher\u001b[49m\u001b[38;5;241;43m.\u001b[39;49m\u001b[43mfetch\u001b[49m\u001b[43m(\u001b[49m\u001b[43mindex\u001b[49m\u001b[43m)\u001b[49m  \u001b[38;5;66;03m# may raise StopIteration\u001b[39;00m\n\u001b[1;32m    765\u001b[0m \u001b[38;5;28;01mif\u001b[39;00m \u001b[38;5;28mself\u001b[39m\u001b[38;5;241m.\u001b[39m_pin_memory:\n",
      "File \u001b[0;32m~/.local/lib/python3.12/site-packages/torch/utils/data/_utils/fetch.py:52\u001b[0m, in \u001b[0;36m_MapDatasetFetcher.fetch\u001b[0;34m(self, possibly_batched_index)\u001b[0m\n\u001b[1;32m     51\u001b[0m     \u001b[38;5;28;01melse\u001b[39;00m:\n\u001b[0;32m---> 52\u001b[0m         data \u001b[38;5;241m=\u001b[39m [\u001b[38;5;28mself\u001b[39m\u001b[38;5;241m.\u001b[39mdataset[idx] \u001b[38;5;28;01mfor\u001b[39;00m idx \u001b[38;5;129;01min\u001b[39;00m possibly_batched_index]\n\u001b[1;32m     53\u001b[0m \u001b[38;5;28;01melse\u001b[39;00m:\n",
      "\u001b[0;31mKeyboardInterrupt\u001b[0m: ",
      "\nThe above exception was the direct cause of the following exception:\n",
      "\u001b[0;31mKeyboardInterrupt\u001b[0m                         Traceback (most recent call last)",
      "Cell \u001b[0;32mIn[22], line 1\u001b[0m\n\u001b[0;32m----> 1\u001b[0m \u001b[43mrnn_study\u001b[49m\u001b[38;5;241;43m.\u001b[39;49m\u001b[43moptimize\u001b[49m\u001b[43m(\u001b[49m\u001b[43mrnn_mdn_objective\u001b[49m\u001b[43m,\u001b[49m\u001b[43m \u001b[49m\u001b[43mn_trials\u001b[49m\u001b[38;5;241;43m=\u001b[39;49m\u001b[38;5;241;43m30\u001b[39;49m\u001b[43m)\u001b[49m\n",
      "File \u001b[0;32m~/.local/lib/python3.12/site-packages/optuna/study/study.py:475\u001b[0m, in \u001b[0;36mStudy.optimize\u001b[0;34m(self, func, n_trials, timeout, n_jobs, catch, callbacks, gc_after_trial, show_progress_bar)\u001b[0m\n\u001b[1;32m    373\u001b[0m \u001b[38;5;28;01mdef\u001b[39;00m \u001b[38;5;21moptimize\u001b[39m(\n\u001b[1;32m    374\u001b[0m     \u001b[38;5;28mself\u001b[39m,\n\u001b[1;32m    375\u001b[0m     func: ObjectiveFuncType,\n\u001b[0;32m   (...)\u001b[0m\n\u001b[1;32m    382\u001b[0m     show_progress_bar: \u001b[38;5;28mbool\u001b[39m \u001b[38;5;241m=\u001b[39m \u001b[38;5;28;01mFalse\u001b[39;00m,\n\u001b[1;32m    383\u001b[0m ) \u001b[38;5;241m-\u001b[39m\u001b[38;5;241m>\u001b[39m \u001b[38;5;28;01mNone\u001b[39;00m:\n\u001b[1;32m    384\u001b[0m \u001b[38;5;250m    \u001b[39m\u001b[38;5;124;03m\"\"\"Optimize an objective function.\u001b[39;00m\n\u001b[1;32m    385\u001b[0m \n\u001b[1;32m    386\u001b[0m \u001b[38;5;124;03m    Optimization is done by choosing a suitable set of hyperparameter values from a given\u001b[39;00m\n\u001b[0;32m   (...)\u001b[0m\n\u001b[1;32m    473\u001b[0m \u001b[38;5;124;03m            If nested invocation of this method occurs.\u001b[39;00m\n\u001b[1;32m    474\u001b[0m \u001b[38;5;124;03m    \"\"\"\u001b[39;00m\n\u001b[0;32m--> 475\u001b[0m     \u001b[43m_optimize\u001b[49m\u001b[43m(\u001b[49m\n\u001b[1;32m    476\u001b[0m \u001b[43m        \u001b[49m\u001b[43mstudy\u001b[49m\u001b[38;5;241;43m=\u001b[39;49m\u001b[38;5;28;43mself\u001b[39;49m\u001b[43m,\u001b[49m\n\u001b[1;32m    477\u001b[0m \u001b[43m        \u001b[49m\u001b[43mfunc\u001b[49m\u001b[38;5;241;43m=\u001b[39;49m\u001b[43mfunc\u001b[49m\u001b[43m,\u001b[49m\n\u001b[1;32m    478\u001b[0m \u001b[43m        \u001b[49m\u001b[43mn_trials\u001b[49m\u001b[38;5;241;43m=\u001b[39;49m\u001b[43mn_trials\u001b[49m\u001b[43m,\u001b[49m\n\u001b[1;32m    479\u001b[0m \u001b[43m        \u001b[49m\u001b[43mtimeout\u001b[49m\u001b[38;5;241;43m=\u001b[39;49m\u001b[43mtimeout\u001b[49m\u001b[43m,\u001b[49m\n\u001b[1;32m    480\u001b[0m \u001b[43m        \u001b[49m\u001b[43mn_jobs\u001b[49m\u001b[38;5;241;43m=\u001b[39;49m\u001b[43mn_jobs\u001b[49m\u001b[43m,\u001b[49m\n\u001b[1;32m    481\u001b[0m \u001b[43m        \u001b[49m\u001b[43mcatch\u001b[49m\u001b[38;5;241;43m=\u001b[39;49m\u001b[38;5;28;43mtuple\u001b[39;49m\u001b[43m(\u001b[49m\u001b[43mcatch\u001b[49m\u001b[43m)\u001b[49m\u001b[43m \u001b[49m\u001b[38;5;28;43;01mif\u001b[39;49;00m\u001b[43m \u001b[49m\u001b[38;5;28;43misinstance\u001b[39;49m\u001b[43m(\u001b[49m\u001b[43mcatch\u001b[49m\u001b[43m,\u001b[49m\u001b[43m \u001b[49m\u001b[43mIterable\u001b[49m\u001b[43m)\u001b[49m\u001b[43m \u001b[49m\u001b[38;5;28;43;01melse\u001b[39;49;00m\u001b[43m \u001b[49m\u001b[43m(\u001b[49m\u001b[43mcatch\u001b[49m\u001b[43m,\u001b[49m\u001b[43m)\u001b[49m\u001b[43m,\u001b[49m\n\u001b[1;32m    482\u001b[0m \u001b[43m        \u001b[49m\u001b[43mcallbacks\u001b[49m\u001b[38;5;241;43m=\u001b[39;49m\u001b[43mcallbacks\u001b[49m\u001b[43m,\u001b[49m\n\u001b[1;32m    483\u001b[0m \u001b[43m        \u001b[49m\u001b[43mgc_after_trial\u001b[49m\u001b[38;5;241;43m=\u001b[39;49m\u001b[43mgc_after_trial\u001b[49m\u001b[43m,\u001b[49m\n\u001b[1;32m    484\u001b[0m \u001b[43m        \u001b[49m\u001b[43mshow_progress_bar\u001b[49m\u001b[38;5;241;43m=\u001b[39;49m\u001b[43mshow_progress_bar\u001b[49m\u001b[43m,\u001b[49m\n\u001b[1;32m    485\u001b[0m \u001b[43m    \u001b[49m\u001b[43m)\u001b[49m\n",
      "File \u001b[0;32m~/.local/lib/python3.12/site-packages/optuna/study/_optimize.py:63\u001b[0m, in \u001b[0;36m_optimize\u001b[0;34m(study, func, n_trials, timeout, n_jobs, catch, callbacks, gc_after_trial, show_progress_bar)\u001b[0m\n\u001b[1;32m     61\u001b[0m \u001b[38;5;28;01mtry\u001b[39;00m:\n\u001b[1;32m     62\u001b[0m     \u001b[38;5;28;01mif\u001b[39;00m n_jobs \u001b[38;5;241m==\u001b[39m \u001b[38;5;241m1\u001b[39m:\n\u001b[0;32m---> 63\u001b[0m         \u001b[43m_optimize_sequential\u001b[49m\u001b[43m(\u001b[49m\n\u001b[1;32m     64\u001b[0m \u001b[43m            \u001b[49m\u001b[43mstudy\u001b[49m\u001b[43m,\u001b[49m\n\u001b[1;32m     65\u001b[0m \u001b[43m            \u001b[49m\u001b[43mfunc\u001b[49m\u001b[43m,\u001b[49m\n\u001b[1;32m     66\u001b[0m \u001b[43m            \u001b[49m\u001b[43mn_trials\u001b[49m\u001b[43m,\u001b[49m\n\u001b[1;32m     67\u001b[0m \u001b[43m            \u001b[49m\u001b[43mtimeout\u001b[49m\u001b[43m,\u001b[49m\n\u001b[1;32m     68\u001b[0m \u001b[43m            \u001b[49m\u001b[43mcatch\u001b[49m\u001b[43m,\u001b[49m\n\u001b[1;32m     69\u001b[0m \u001b[43m            \u001b[49m\u001b[43mcallbacks\u001b[49m\u001b[43m,\u001b[49m\n\u001b[1;32m     70\u001b[0m \u001b[43m            \u001b[49m\u001b[43mgc_after_trial\u001b[49m\u001b[43m,\u001b[49m\n\u001b[1;32m     71\u001b[0m \u001b[43m            \u001b[49m\u001b[43mreseed_sampler_rng\u001b[49m\u001b[38;5;241;43m=\u001b[39;49m\u001b[38;5;28;43;01mFalse\u001b[39;49;00m\u001b[43m,\u001b[49m\n\u001b[1;32m     72\u001b[0m \u001b[43m            \u001b[49m\u001b[43mtime_start\u001b[49m\u001b[38;5;241;43m=\u001b[39;49m\u001b[38;5;28;43;01mNone\u001b[39;49;00m\u001b[43m,\u001b[49m\n\u001b[1;32m     73\u001b[0m \u001b[43m            \u001b[49m\u001b[43mprogress_bar\u001b[49m\u001b[38;5;241;43m=\u001b[39;49m\u001b[43mprogress_bar\u001b[49m\u001b[43m,\u001b[49m\n\u001b[1;32m     74\u001b[0m \u001b[43m        \u001b[49m\u001b[43m)\u001b[49m\n\u001b[1;32m     75\u001b[0m     \u001b[38;5;28;01melse\u001b[39;00m:\n\u001b[1;32m     76\u001b[0m         \u001b[38;5;28;01mif\u001b[39;00m n_jobs \u001b[38;5;241m==\u001b[39m \u001b[38;5;241m-\u001b[39m\u001b[38;5;241m1\u001b[39m:\n",
      "File \u001b[0;32m~/.local/lib/python3.12/site-packages/optuna/study/_optimize.py:160\u001b[0m, in \u001b[0;36m_optimize_sequential\u001b[0;34m(study, func, n_trials, timeout, catch, callbacks, gc_after_trial, reseed_sampler_rng, time_start, progress_bar)\u001b[0m\n\u001b[1;32m    157\u001b[0m         \u001b[38;5;28;01mbreak\u001b[39;00m\n\u001b[1;32m    159\u001b[0m \u001b[38;5;28;01mtry\u001b[39;00m:\n\u001b[0;32m--> 160\u001b[0m     frozen_trial \u001b[38;5;241m=\u001b[39m \u001b[43m_run_trial\u001b[49m\u001b[43m(\u001b[49m\u001b[43mstudy\u001b[49m\u001b[43m,\u001b[49m\u001b[43m \u001b[49m\u001b[43mfunc\u001b[49m\u001b[43m,\u001b[49m\u001b[43m \u001b[49m\u001b[43mcatch\u001b[49m\u001b[43m)\u001b[49m\n\u001b[1;32m    161\u001b[0m \u001b[38;5;28;01mfinally\u001b[39;00m:\n\u001b[1;32m    162\u001b[0m     \u001b[38;5;66;03m# The following line mitigates memory problems that can be occurred in some\u001b[39;00m\n\u001b[1;32m    163\u001b[0m     \u001b[38;5;66;03m# environments (e.g., services that use computing containers such as GitHub Actions).\u001b[39;00m\n\u001b[1;32m    164\u001b[0m     \u001b[38;5;66;03m# Please refer to the following PR for further details:\u001b[39;00m\n\u001b[1;32m    165\u001b[0m     \u001b[38;5;66;03m# https://github.com/optuna/optuna/pull/325.\u001b[39;00m\n\u001b[1;32m    166\u001b[0m     \u001b[38;5;28;01mif\u001b[39;00m gc_after_trial:\n",
      "File \u001b[0;32m~/.local/lib/python3.12/site-packages/optuna/study/_optimize.py:248\u001b[0m, in \u001b[0;36m_run_trial\u001b[0;34m(study, func, catch)\u001b[0m\n\u001b[1;32m    241\u001b[0m         \u001b[38;5;28;01massert\u001b[39;00m \u001b[38;5;28;01mFalse\u001b[39;00m, \u001b[38;5;124m\"\u001b[39m\u001b[38;5;124mShould not reach.\u001b[39m\u001b[38;5;124m\"\u001b[39m\n\u001b[1;32m    243\u001b[0m \u001b[38;5;28;01mif\u001b[39;00m (\n\u001b[1;32m    244\u001b[0m     frozen_trial\u001b[38;5;241m.\u001b[39mstate \u001b[38;5;241m==\u001b[39m TrialState\u001b[38;5;241m.\u001b[39mFAIL\n\u001b[1;32m    245\u001b[0m     \u001b[38;5;129;01mand\u001b[39;00m func_err \u001b[38;5;129;01mis\u001b[39;00m \u001b[38;5;129;01mnot\u001b[39;00m \u001b[38;5;28;01mNone\u001b[39;00m\n\u001b[1;32m    246\u001b[0m     \u001b[38;5;129;01mand\u001b[39;00m \u001b[38;5;129;01mnot\u001b[39;00m \u001b[38;5;28misinstance\u001b[39m(func_err, catch)\n\u001b[1;32m    247\u001b[0m ):\n\u001b[0;32m--> 248\u001b[0m     \u001b[38;5;28;01mraise\u001b[39;00m func_err\n\u001b[1;32m    249\u001b[0m \u001b[38;5;28;01mreturn\u001b[39;00m frozen_trial\n",
      "File \u001b[0;32m~/.local/lib/python3.12/site-packages/optuna/study/_optimize.py:197\u001b[0m, in \u001b[0;36m_run_trial\u001b[0;34m(study, func, catch)\u001b[0m\n\u001b[1;32m    195\u001b[0m \u001b[38;5;28;01mwith\u001b[39;00m get_heartbeat_thread(trial\u001b[38;5;241m.\u001b[39m_trial_id, study\u001b[38;5;241m.\u001b[39m_storage):\n\u001b[1;32m    196\u001b[0m     \u001b[38;5;28;01mtry\u001b[39;00m:\n\u001b[0;32m--> 197\u001b[0m         value_or_values \u001b[38;5;241m=\u001b[39m \u001b[43mfunc\u001b[49m\u001b[43m(\u001b[49m\u001b[43mtrial\u001b[49m\u001b[43m)\u001b[49m\n\u001b[1;32m    198\u001b[0m     \u001b[38;5;28;01mexcept\u001b[39;00m exceptions\u001b[38;5;241m.\u001b[39mTrialPruned \u001b[38;5;28;01mas\u001b[39;00m e:\n\u001b[1;32m    199\u001b[0m         \u001b[38;5;66;03m# TODO(mamu): Handle multi-objective cases.\u001b[39;00m\n\u001b[1;32m    200\u001b[0m         state \u001b[38;5;241m=\u001b[39m TrialState\u001b[38;5;241m.\u001b[39mPRUNED\n",
      "Cell \u001b[0;32mIn[21], line 41\u001b[0m, in \u001b[0;36mrnn_mdn_objective\u001b[0;34m(trial)\u001b[0m\n\u001b[1;32m     30\u001b[0m model_pth \u001b[38;5;241m=\u001b[39m \u001b[38;5;124mf\u001b[39m\u001b[38;5;124m\"\u001b[39m\u001b[38;5;124mrnn_mdn_\u001b[39m\u001b[38;5;132;01m{\u001b[39;00mtrial\u001b[38;5;241m.\u001b[39mnumber\u001b[38;5;132;01m}\u001b[39;00m\u001b[38;5;124m_checkpoint.pth\u001b[39m\u001b[38;5;124m\"\u001b[39m\n\u001b[1;32m     31\u001b[0m trainer \u001b[38;5;241m=\u001b[39m Trainer(\n\u001b[1;32m     32\u001b[0m     model\u001b[38;5;241m=\u001b[39mmodel,\n\u001b[1;32m     33\u001b[0m     criterion\u001b[38;5;241m=\u001b[39mmdn_loss,\n\u001b[0;32m   (...)\u001b[0m\n\u001b[1;32m     38\u001b[0m     batch_size\u001b[38;5;241m=\u001b[39m\u001b[38;5;241m256\u001b[39m\n\u001b[1;32m     39\u001b[0m )\n\u001b[0;32m---> 41\u001b[0m \u001b[43mtrainer\u001b[49m\u001b[38;5;241;43m.\u001b[39;49m\u001b[43mtrain\u001b[49m\u001b[43m(\u001b[49m\u001b[43mnum_epochs\u001b[49m\u001b[38;5;241;43m=\u001b[39;49m\u001b[38;5;241;43m30\u001b[39;49m\u001b[43m)\u001b[49m\n\u001b[1;32m     43\u001b[0m \u001b[38;5;28;01mreturn\u001b[39;00m trainer\u001b[38;5;241m.\u001b[39mhistory[\u001b[38;5;124m'\u001b[39m\u001b[38;5;124mval_loss\u001b[39m\u001b[38;5;124m'\u001b[39m][\u001b[38;5;241m-\u001b[39m\u001b[38;5;241m1\u001b[39m]\n",
      "Cell \u001b[0;32mIn[14], line 87\u001b[0m, in \u001b[0;36mTrainer.train\u001b[0;34m(self, num_epochs)\u001b[0m\n\u001b[1;32m     85\u001b[0m \u001b[38;5;28mprint\u001b[39m(\u001b[38;5;124m\"\u001b[39m\u001b[38;5;130;01m\\n\u001b[39;00m\u001b[38;5;124m🛑 Training interrupted by user. Saving checkpoint...\u001b[39m\u001b[38;5;124m\"\u001b[39m)\n\u001b[1;32m     86\u001b[0m \u001b[38;5;28mself\u001b[39m\u001b[38;5;241m.\u001b[39msave(epoch \u001b[38;5;241m+\u001b[39m \u001b[38;5;241m1\u001b[39m)\n\u001b[0;32m---> 87\u001b[0m \u001b[38;5;28;01mraise\u001b[39;00m \u001b[38;5;167;01mKeyboardInterrupt\u001b[39;00m \u001b[38;5;28;01mfrom\u001b[39;00m \u001b[38;5;21;01me\u001b[39;00m\n",
      "\u001b[0;31mKeyboardInterrupt\u001b[0m: "
     ]
    }
   ],
   "source": [
    "rnn_study.optimize(rnn_mdn_objective, n_trials=30)"
   ]
  },
  {
   "cell_type": "code",
   "execution_count": 26,
   "id": "67f1e525",
   "metadata": {},
   "outputs": [],
   "source": [
    "class TCNBlock(nn.Module):\n",
    "    def __init__(self, in_channels, out_channels, kernel_size, dilation):\n",
    "        super().__init__()\n",
    "        self.conv = nn.Conv1d(\n",
    "            in_channels, out_channels,\n",
    "            kernel_size, padding=(kernel_size - 1) * dilation,\n",
    "            dilation=dilation\n",
    "        )\n",
    "        self.relu = nn.ReLU()\n",
    "        self.bn = nn.BatchNorm1d(out_channels)\n",
    "\n",
    "    def forward(self, x):\n",
    "        x = self.conv(x)\n",
    "        x = self.bn(x)\n",
    "        return self.relu(x)\n",
    "\n",
    "class TCN_MDN(nn.Module):\n",
    "    def __init__(self, input_dim, hidden_dim, num_mixtures, output_dim, num_layers=4):\n",
    "        super().__init__()\n",
    "        layers = []\n",
    "        for i in range(num_layers):\n",
    "            layers.append(\n",
    "                TCNBlock(\n",
    "                    in_channels=input_dim if i == 0 else hidden_dim,\n",
    "                    out_channels=hidden_dim,\n",
    "                    kernel_size=3,\n",
    "                    dilation=2**i\n",
    "                )\n",
    "            )\n",
    "\n",
    "        self.num_mixtures = num_mixtures\n",
    "        self.tcn = nn.Sequential(*layers)\n",
    "        self.global_pool = nn.AdaptiveAvgPool1d(1)\n",
    "        self.mdn = MDNLayer(hidden_dim, output_dim, num_mixtures)\n",
    "\n",
    "    def forward(self, x):  # x: (B, T, F)\n",
    "        x = x.permute(0, 2, 1)  # (B, F, T)\n",
    "        x = self.tcn(x)\n",
    "        x = self.global_pool(x).squeeze(-1)  # (B, hidden_dim)\n",
    "        return self.mdn(x)"
   ]
  },
  {
   "cell_type": "code",
   "execution_count": 27,
   "id": "a67b2f33",
   "metadata": {},
   "outputs": [],
   "source": [
    "def tcn_mdn_objective(trial):\n",
    "    hidden_dim = trial.suggest_categorical(\"hidden_dim\", [64, 128, 256])\n",
    "    num_layers = trial.suggest_int(\"num_layers\", 2, 5)\n",
    "    num_mixtures = trial.suggest_int(\"num_mixtures\", 3, 8)\n",
    "    learning_rate = trial.suggest_float(\"lr\", 1e-4, 1e-2, log=True)\n",
    "    lookback_days = trial.suggest_categorical(\"lookback_days\", [1, 2, 4])\n",
    "    step = trial.suggest_categorical(\"step\", [1, 2, 3, 4, 6])\n",
    "    dropout = trial.suggest_float(\"dropout\", 0.0, 0.5)\n",
    "\n",
    "    lookback_hours = lookback_days * 24\n",
    "\n",
    "    training_dataset, validation_dataset = generate_datasets(\n",
    "        dataset_df,\n",
    "        lookback=lookback_hours,\n",
    "        delay=24,  # 1-day ahead prediction\n",
    "        step=step\n",
    "    )\n",
    "\n",
    "    model = TCN_MDN(\n",
    "        input_dim=21,\n",
    "        hidden_dim=hidden_dim,\n",
    "        num_layers=num_layers,\n",
    "        num_mixtures=num_mixtures,\n",
    "        output_dim=7,\n",
    "    )\n",
    "\n",
    "    optimizer = torch.optim.Adam(model.parameters(), lr=learning_rate)\n",
    "\n",
    "    model_pth = f\"tcn_mdn_{trial.number}_checkpoint.pth\"\n",
    "    trainer = Trainer(\n",
    "        model=model,\n",
    "        criterion=mdn_loss,\n",
    "        optimizer=optimizer,\n",
    "        train_dataset=training_dataset,\n",
    "        val_dataset=validation_dataset,\n",
    "        model_pth=model_pth,\n",
    "        batch_size=256\n",
    "    )\n",
    "\n",
    "    trainer.train(num_epochs=30)\n",
    "\n",
    "    return trainer.history['val_loss'][-1]"
   ]
  },
  {
   "cell_type": "code",
   "execution_count": 28,
   "id": "c8afad11",
   "metadata": {},
   "outputs": [
    {
     "name": "stderr",
     "output_type": "stream",
     "text": [
      "[I 2025-06-03 15:21:30,604] Using an existing study with name 'tcn_mdn_hyperparam_search' instead of creating a new one.\n",
      "100%|██████████| 7461/7461 [00:04<00:00, 1561.86it/s]\n",
      "100%|██████████| 4273/4273 [00:02<00:00, 1625.27it/s]\n",
      "100%|██████████| 7461/7461 [00:04<00:00, 1622.04it/s]\n",
      "100%|██████████| 4273/4273 [00:02<00:00, 1586.83it/s]\n",
      "100%|██████████| 7461/7461 [00:04<00:00, 1583.49it/s]\n",
      "100%|██████████| 4273/4273 [00:02<00:00, 1460.89it/s]\n",
      "100%|██████████| 7461/7461 [00:04<00:00, 1532.83it/s]\n",
      "100%|██████████| 4273/4273 [00:02<00:00, 1624.14it/s]\n",
      "100%|██████████| 7461/7461 [00:04<00:00, 1598.67it/s]\n",
      "100%|██████████| 4273/4273 [00:02<00:00, 1564.84it/s]\n",
      "100%|██████████| 7461/7461 [00:04<00:00, 1583.35it/s]\n",
      "100%|██████████| 4273/4273 [00:02<00:00, 1627.98it/s]\n",
      "100%|██████████| 7461/7461 [00:04<00:00, 1594.30it/s]\n",
      "100%|██████████| 4273/4273 [00:02<00:00, 1641.96it/s]\n",
      "100%|██████████| 7461/7461 [00:04<00:00, 1571.17it/s]\n",
      "100%|██████████| 4273/4273 [00:02<00:00, 1618.88it/s]\n",
      "100%|██████████| 7461/7461 [00:04<00:00, 1583.42it/s]\n",
      "100%|██████████| 4273/4273 [00:02<00:00, 1634.11it/s]\n",
      "100%|██████████| 7461/7461 [00:04<00:00, 1589.07it/s]\n",
      "100%|██████████| 4273/4273 [00:02<00:00, 1565.03it/s]\n",
      "100%|██████████| 7461/7461 [00:04<00:00, 1598.94it/s]\n",
      "100%|██████████| 4273/4273 [00:02<00:00, 1588.22it/s]\n",
      "100%|██████████| 7461/7461 [00:04<00:00, 1609.31it/s]\n",
      "100%|██████████| 4273/4273 [00:02<00:00, 1619.83it/s]\n",
      "100%|██████████| 7461/7461 [00:04<00:00, 1593.39it/s]\n",
      "100%|██████████| 4273/4273 [00:02<00:00, 1614.54it/s]\n",
      "Epoch 1: 100%|██████████| 379/379 [00:06<00:00, 57.42batch/s]\n",
      "Validation: 100%|██████████| 217/217 [00:01<00:00, 121.85batch/s]\n"
     ]
    },
    {
     "name": "stdout",
     "output_type": "stream",
     "text": [
      "Epoch 1/30 - Train Loss: -1.344916 - Val Loss: -2.433040\n"
     ]
    },
    {
     "name": "stderr",
     "output_type": "stream",
     "text": [
      "Epoch 2: 100%|██████████| 379/379 [00:05<00:00, 65.17batch/s]\n",
      "Validation: 100%|██████████| 217/217 [00:00<00:00, 217.13batch/s]\n"
     ]
    },
    {
     "name": "stdout",
     "output_type": "stream",
     "text": [
      "Epoch 2/30 - Train Loss: -3.729200 - Val Loss: -2.586131\n"
     ]
    },
    {
     "name": "stderr",
     "output_type": "stream",
     "text": [
      "Epoch 3:  68%|██████▊   | 256/379 [00:04<00:01, 63.70batch/s]\n",
      "[W 2025-06-03 15:23:32,176] Trial 1 failed with parameters: {'hidden_dim': 256, 'num_layers': 3, 'num_mixtures': 6, 'lr': 0.00034418440190853633, 'lookback_days': 2, 'step': 2, 'dropout': 0.16181533837362666} because of the following error: KeyboardInterrupt().\n",
      "Traceback (most recent call last):\n",
      "  File \"/tmp/ipykernel_585/1483776821.py\", line 54, in train\n",
      "    loss = self.criterion(targets, mu, sigma, alpha, self.model.num_mixtures)\n",
      "           ^^^^^^^^^^^^^^^^^^^^^^^^^^^^^^^^^^^^^^^^^^^^^^^^^^^^^^^^^^^^^^^^^^\n",
      "  File \"/tmp/ipykernel_585/3679901629.py\", line 17, in mdn_loss\n",
      "    log_probs = normal.log_prob(y)  # [batch, num_mixtures, output_dim]\n",
      "                ^^^^^^^^^^^^^^^^^^\n",
      "  File \"/home/msds2025/fcayco/.local/lib/python3.12/site-packages/torch/distributions/normal.py\", line 82, in log_prob\n",
      "    self._validate_sample(value)\n",
      "  File \"/home/msds2025/fcayco/.local/lib/python3.12/site-packages/torch/distributions/distribution.py\", line 315, in _validate_sample\n",
      "    if not valid.all():\n",
      "           ^^^^^^^^^^^\n",
      "KeyboardInterrupt\n",
      "\n",
      "The above exception was the direct cause of the following exception:\n",
      "\n",
      "Traceback (most recent call last):\n",
      "  File \"/home/msds2025/fcayco/.local/lib/python3.12/site-packages/optuna/study/_optimize.py\", line 197, in _run_trial\n",
      "    value_or_values = func(trial)\n",
      "                      ^^^^^^^^^^^\n",
      "  File \"/tmp/ipykernel_585/1689908672.py\", line 40, in tcn_mdn_objective\n",
      "    trainer.train(num_epochs=30)\n",
      "  File \"/tmp/ipykernel_585/1483776821.py\", line 87, in train\n",
      "    raise KeyboardInterrupt from e\n",
      "KeyboardInterrupt\n",
      "[W 2025-06-03 15:23:32,181] Trial 1 failed with value None.\n"
     ]
    },
    {
     "name": "stdout",
     "output_type": "stream",
     "text": [
      "\n",
      "🛑 Training interrupted by user. Saving checkpoint...\n",
      "✅ Saved model to /mnt/processed/private/msds2025/cpt3/ml3/finalproject/weights/tcn_mdn_1_checkpoint.pth at epoch 3\n"
     ]
    },
    {
     "ename": "KeyboardInterrupt",
     "evalue": "",
     "output_type": "error",
     "traceback": [
      "\u001b[0;31m---------------------------------------------------------------------------\u001b[0m",
      "\u001b[0;31mKeyboardInterrupt\u001b[0m                         Traceback (most recent call last)",
      "Cell \u001b[0;32mIn[14], line 54\u001b[0m, in \u001b[0;36mTrainer.train\u001b[0;34m(self, num_epochs)\u001b[0m\n\u001b[1;32m     52\u001b[0m \u001b[38;5;66;03m# print(\"Mu shape:\", mu.shape)\u001b[39;00m\n\u001b[1;32m     53\u001b[0m \u001b[38;5;66;03m# print(mu[:, 1])\u001b[39;00m\n\u001b[0;32m---> 54\u001b[0m loss \u001b[38;5;241m=\u001b[39m \u001b[38;5;28;43mself\u001b[39;49m\u001b[38;5;241;43m.\u001b[39;49m\u001b[43mcriterion\u001b[49m\u001b[43m(\u001b[49m\u001b[43mtargets\u001b[49m\u001b[43m,\u001b[49m\u001b[43m \u001b[49m\u001b[43mmu\u001b[49m\u001b[43m,\u001b[49m\u001b[43m \u001b[49m\u001b[43msigma\u001b[49m\u001b[43m,\u001b[49m\u001b[43m \u001b[49m\u001b[43malpha\u001b[49m\u001b[43m,\u001b[49m\u001b[43m \u001b[49m\u001b[38;5;28;43mself\u001b[39;49m\u001b[38;5;241;43m.\u001b[39;49m\u001b[43mmodel\u001b[49m\u001b[38;5;241;43m.\u001b[39;49m\u001b[43mnum_mixtures\u001b[49m\u001b[43m)\u001b[49m\n\u001b[1;32m     55\u001b[0m loss\u001b[38;5;241m.\u001b[39mbackward()\n",
      "Cell \u001b[0;32mIn[13], line 17\u001b[0m, in \u001b[0;36mmdn_loss\u001b[0;34m(y, mu, sigma, alpha, num_mixtures)\u001b[0m\n\u001b[1;32m     16\u001b[0m normal \u001b[38;5;241m=\u001b[39m torch\u001b[38;5;241m.\u001b[39mdistributions\u001b[38;5;241m.\u001b[39mNormal(loc\u001b[38;5;241m=\u001b[39mmu, scale\u001b[38;5;241m=\u001b[39msigma)\n\u001b[0;32m---> 17\u001b[0m log_probs \u001b[38;5;241m=\u001b[39m \u001b[43mnormal\u001b[49m\u001b[38;5;241;43m.\u001b[39;49m\u001b[43mlog_prob\u001b[49m\u001b[43m(\u001b[49m\u001b[43my\u001b[49m\u001b[43m)\u001b[49m  \u001b[38;5;66;03m# [batch, num_mixtures, output_dim]\u001b[39;00m\n\u001b[1;32m     18\u001b[0m log_probs \u001b[38;5;241m=\u001b[39m torch\u001b[38;5;241m.\u001b[39msum(log_probs, dim\u001b[38;5;241m=\u001b[39m\u001b[38;5;241m2\u001b[39m)  \u001b[38;5;66;03m# sum over output_dim\u001b[39;00m\n",
      "File \u001b[0;32m~/.local/lib/python3.12/site-packages/torch/distributions/normal.py:82\u001b[0m, in \u001b[0;36mNormal.log_prob\u001b[0;34m(self, value)\u001b[0m\n\u001b[1;32m     81\u001b[0m \u001b[38;5;28;01mif\u001b[39;00m \u001b[38;5;28mself\u001b[39m\u001b[38;5;241m.\u001b[39m_validate_args:\n\u001b[0;32m---> 82\u001b[0m     \u001b[38;5;28;43mself\u001b[39;49m\u001b[38;5;241;43m.\u001b[39;49m\u001b[43m_validate_sample\u001b[49m\u001b[43m(\u001b[49m\u001b[43mvalue\u001b[49m\u001b[43m)\u001b[49m\n\u001b[1;32m     83\u001b[0m \u001b[38;5;66;03m# compute the variance\u001b[39;00m\n",
      "File \u001b[0;32m~/.local/lib/python3.12/site-packages/torch/distributions/distribution.py:315\u001b[0m, in \u001b[0;36mDistribution._validate_sample\u001b[0;34m(self, value)\u001b[0m\n\u001b[1;32m    314\u001b[0m valid \u001b[38;5;241m=\u001b[39m support\u001b[38;5;241m.\u001b[39mcheck(value)\n\u001b[0;32m--> 315\u001b[0m \u001b[38;5;28;01mif\u001b[39;00m \u001b[38;5;129;01mnot\u001b[39;00m \u001b[43mvalid\u001b[49m\u001b[38;5;241;43m.\u001b[39;49m\u001b[43mall\u001b[49m\u001b[43m(\u001b[49m\u001b[43m)\u001b[49m:\n\u001b[1;32m    316\u001b[0m     \u001b[38;5;28;01mraise\u001b[39;00m \u001b[38;5;167;01mValueError\u001b[39;00m(\n\u001b[1;32m    317\u001b[0m         \u001b[38;5;124m\"\u001b[39m\u001b[38;5;124mExpected value argument \u001b[39m\u001b[38;5;124m\"\u001b[39m\n\u001b[1;32m    318\u001b[0m         \u001b[38;5;124mf\u001b[39m\u001b[38;5;124m\"\u001b[39m\u001b[38;5;124m(\u001b[39m\u001b[38;5;132;01m{\u001b[39;00m\u001b[38;5;28mtype\u001b[39m(value)\u001b[38;5;241m.\u001b[39m\u001b[38;5;18m__name__\u001b[39m\u001b[38;5;132;01m}\u001b[39;00m\u001b[38;5;124m of shape \u001b[39m\u001b[38;5;132;01m{\u001b[39;00m\u001b[38;5;28mtuple\u001b[39m(value\u001b[38;5;241m.\u001b[39mshape)\u001b[38;5;132;01m}\u001b[39;00m\u001b[38;5;124m) \u001b[39m\u001b[38;5;124m\"\u001b[39m\n\u001b[0;32m   (...)\u001b[0m\n\u001b[1;32m    321\u001b[0m         \u001b[38;5;124mf\u001b[39m\u001b[38;5;124m\"\u001b[39m\u001b[38;5;124mbut found invalid values:\u001b[39m\u001b[38;5;130;01m\\n\u001b[39;00m\u001b[38;5;132;01m{\u001b[39;00mvalue\u001b[38;5;132;01m}\u001b[39;00m\u001b[38;5;124m\"\u001b[39m\n\u001b[1;32m    322\u001b[0m     )\n",
      "\u001b[0;31mKeyboardInterrupt\u001b[0m: ",
      "\nThe above exception was the direct cause of the following exception:\n",
      "\u001b[0;31mKeyboardInterrupt\u001b[0m                         Traceback (most recent call last)",
      "Cell \u001b[0;32mIn[28], line 7\u001b[0m\n\u001b[1;32m      1\u001b[0m tcn_study \u001b[38;5;241m=\u001b[39m optuna\u001b[38;5;241m.\u001b[39mcreate_study(\n\u001b[1;32m      2\u001b[0m     direction\u001b[38;5;241m=\u001b[39m\u001b[38;5;124m\"\u001b[39m\u001b[38;5;124mminimize\u001b[39m\u001b[38;5;124m\"\u001b[39m,\n\u001b[1;32m      3\u001b[0m     study_name\u001b[38;5;241m=\u001b[39m\u001b[38;5;124m\"\u001b[39m\u001b[38;5;124mtcn_mdn_hyperparam_search\u001b[39m\u001b[38;5;124m\"\u001b[39m,\n\u001b[1;32m      4\u001b[0m     storage\u001b[38;5;241m=\u001b[39m\u001b[38;5;124mf\u001b[39m\u001b[38;5;124m\"\u001b[39m\u001b[38;5;124msqlite:///\u001b[39m\u001b[38;5;132;01m{\u001b[39;00mWEIGHTS_DIR\u001b[38;5;132;01m}\u001b[39;00m\u001b[38;5;124m/optuna_study.db\u001b[39m\u001b[38;5;124m\"\u001b[39m,\n\u001b[1;32m      5\u001b[0m     load_if_exists\u001b[38;5;241m=\u001b[39m\u001b[38;5;28;01mTrue\u001b[39;00m\n\u001b[1;32m      6\u001b[0m )\n\u001b[0;32m----> 7\u001b[0m \u001b[43mtcn_study\u001b[49m\u001b[38;5;241;43m.\u001b[39;49m\u001b[43moptimize\u001b[49m\u001b[43m(\u001b[49m\u001b[43mtcn_mdn_objective\u001b[49m\u001b[43m,\u001b[49m\u001b[43m \u001b[49m\u001b[43mn_trials\u001b[49m\u001b[38;5;241;43m=\u001b[39;49m\u001b[38;5;241;43m30\u001b[39;49m\u001b[43m)\u001b[49m\n",
      "File \u001b[0;32m~/.local/lib/python3.12/site-packages/optuna/study/study.py:475\u001b[0m, in \u001b[0;36mStudy.optimize\u001b[0;34m(self, func, n_trials, timeout, n_jobs, catch, callbacks, gc_after_trial, show_progress_bar)\u001b[0m\n\u001b[1;32m    373\u001b[0m \u001b[38;5;28;01mdef\u001b[39;00m \u001b[38;5;21moptimize\u001b[39m(\n\u001b[1;32m    374\u001b[0m     \u001b[38;5;28mself\u001b[39m,\n\u001b[1;32m    375\u001b[0m     func: ObjectiveFuncType,\n\u001b[0;32m   (...)\u001b[0m\n\u001b[1;32m    382\u001b[0m     show_progress_bar: \u001b[38;5;28mbool\u001b[39m \u001b[38;5;241m=\u001b[39m \u001b[38;5;28;01mFalse\u001b[39;00m,\n\u001b[1;32m    383\u001b[0m ) \u001b[38;5;241m-\u001b[39m\u001b[38;5;241m>\u001b[39m \u001b[38;5;28;01mNone\u001b[39;00m:\n\u001b[1;32m    384\u001b[0m \u001b[38;5;250m    \u001b[39m\u001b[38;5;124;03m\"\"\"Optimize an objective function.\u001b[39;00m\n\u001b[1;32m    385\u001b[0m \n\u001b[1;32m    386\u001b[0m \u001b[38;5;124;03m    Optimization is done by choosing a suitable set of hyperparameter values from a given\u001b[39;00m\n\u001b[0;32m   (...)\u001b[0m\n\u001b[1;32m    473\u001b[0m \u001b[38;5;124;03m            If nested invocation of this method occurs.\u001b[39;00m\n\u001b[1;32m    474\u001b[0m \u001b[38;5;124;03m    \"\"\"\u001b[39;00m\n\u001b[0;32m--> 475\u001b[0m     \u001b[43m_optimize\u001b[49m\u001b[43m(\u001b[49m\n\u001b[1;32m    476\u001b[0m \u001b[43m        \u001b[49m\u001b[43mstudy\u001b[49m\u001b[38;5;241;43m=\u001b[39;49m\u001b[38;5;28;43mself\u001b[39;49m\u001b[43m,\u001b[49m\n\u001b[1;32m    477\u001b[0m \u001b[43m        \u001b[49m\u001b[43mfunc\u001b[49m\u001b[38;5;241;43m=\u001b[39;49m\u001b[43mfunc\u001b[49m\u001b[43m,\u001b[49m\n\u001b[1;32m    478\u001b[0m \u001b[43m        \u001b[49m\u001b[43mn_trials\u001b[49m\u001b[38;5;241;43m=\u001b[39;49m\u001b[43mn_trials\u001b[49m\u001b[43m,\u001b[49m\n\u001b[1;32m    479\u001b[0m \u001b[43m        \u001b[49m\u001b[43mtimeout\u001b[49m\u001b[38;5;241;43m=\u001b[39;49m\u001b[43mtimeout\u001b[49m\u001b[43m,\u001b[49m\n\u001b[1;32m    480\u001b[0m \u001b[43m        \u001b[49m\u001b[43mn_jobs\u001b[49m\u001b[38;5;241;43m=\u001b[39;49m\u001b[43mn_jobs\u001b[49m\u001b[43m,\u001b[49m\n\u001b[1;32m    481\u001b[0m \u001b[43m        \u001b[49m\u001b[43mcatch\u001b[49m\u001b[38;5;241;43m=\u001b[39;49m\u001b[38;5;28;43mtuple\u001b[39;49m\u001b[43m(\u001b[49m\u001b[43mcatch\u001b[49m\u001b[43m)\u001b[49m\u001b[43m \u001b[49m\u001b[38;5;28;43;01mif\u001b[39;49;00m\u001b[43m \u001b[49m\u001b[38;5;28;43misinstance\u001b[39;49m\u001b[43m(\u001b[49m\u001b[43mcatch\u001b[49m\u001b[43m,\u001b[49m\u001b[43m \u001b[49m\u001b[43mIterable\u001b[49m\u001b[43m)\u001b[49m\u001b[43m \u001b[49m\u001b[38;5;28;43;01melse\u001b[39;49;00m\u001b[43m \u001b[49m\u001b[43m(\u001b[49m\u001b[43mcatch\u001b[49m\u001b[43m,\u001b[49m\u001b[43m)\u001b[49m\u001b[43m,\u001b[49m\n\u001b[1;32m    482\u001b[0m \u001b[43m        \u001b[49m\u001b[43mcallbacks\u001b[49m\u001b[38;5;241;43m=\u001b[39;49m\u001b[43mcallbacks\u001b[49m\u001b[43m,\u001b[49m\n\u001b[1;32m    483\u001b[0m \u001b[43m        \u001b[49m\u001b[43mgc_after_trial\u001b[49m\u001b[38;5;241;43m=\u001b[39;49m\u001b[43mgc_after_trial\u001b[49m\u001b[43m,\u001b[49m\n\u001b[1;32m    484\u001b[0m \u001b[43m        \u001b[49m\u001b[43mshow_progress_bar\u001b[49m\u001b[38;5;241;43m=\u001b[39;49m\u001b[43mshow_progress_bar\u001b[49m\u001b[43m,\u001b[49m\n\u001b[1;32m    485\u001b[0m \u001b[43m    \u001b[49m\u001b[43m)\u001b[49m\n",
      "File \u001b[0;32m~/.local/lib/python3.12/site-packages/optuna/study/_optimize.py:63\u001b[0m, in \u001b[0;36m_optimize\u001b[0;34m(study, func, n_trials, timeout, n_jobs, catch, callbacks, gc_after_trial, show_progress_bar)\u001b[0m\n\u001b[1;32m     61\u001b[0m \u001b[38;5;28;01mtry\u001b[39;00m:\n\u001b[1;32m     62\u001b[0m     \u001b[38;5;28;01mif\u001b[39;00m n_jobs \u001b[38;5;241m==\u001b[39m \u001b[38;5;241m1\u001b[39m:\n\u001b[0;32m---> 63\u001b[0m         \u001b[43m_optimize_sequential\u001b[49m\u001b[43m(\u001b[49m\n\u001b[1;32m     64\u001b[0m \u001b[43m            \u001b[49m\u001b[43mstudy\u001b[49m\u001b[43m,\u001b[49m\n\u001b[1;32m     65\u001b[0m \u001b[43m            \u001b[49m\u001b[43mfunc\u001b[49m\u001b[43m,\u001b[49m\n\u001b[1;32m     66\u001b[0m \u001b[43m            \u001b[49m\u001b[43mn_trials\u001b[49m\u001b[43m,\u001b[49m\n\u001b[1;32m     67\u001b[0m \u001b[43m            \u001b[49m\u001b[43mtimeout\u001b[49m\u001b[43m,\u001b[49m\n\u001b[1;32m     68\u001b[0m \u001b[43m            \u001b[49m\u001b[43mcatch\u001b[49m\u001b[43m,\u001b[49m\n\u001b[1;32m     69\u001b[0m \u001b[43m            \u001b[49m\u001b[43mcallbacks\u001b[49m\u001b[43m,\u001b[49m\n\u001b[1;32m     70\u001b[0m \u001b[43m            \u001b[49m\u001b[43mgc_after_trial\u001b[49m\u001b[43m,\u001b[49m\n\u001b[1;32m     71\u001b[0m \u001b[43m            \u001b[49m\u001b[43mreseed_sampler_rng\u001b[49m\u001b[38;5;241;43m=\u001b[39;49m\u001b[38;5;28;43;01mFalse\u001b[39;49;00m\u001b[43m,\u001b[49m\n\u001b[1;32m     72\u001b[0m \u001b[43m            \u001b[49m\u001b[43mtime_start\u001b[49m\u001b[38;5;241;43m=\u001b[39;49m\u001b[38;5;28;43;01mNone\u001b[39;49;00m\u001b[43m,\u001b[49m\n\u001b[1;32m     73\u001b[0m \u001b[43m            \u001b[49m\u001b[43mprogress_bar\u001b[49m\u001b[38;5;241;43m=\u001b[39;49m\u001b[43mprogress_bar\u001b[49m\u001b[43m,\u001b[49m\n\u001b[1;32m     74\u001b[0m \u001b[43m        \u001b[49m\u001b[43m)\u001b[49m\n\u001b[1;32m     75\u001b[0m     \u001b[38;5;28;01melse\u001b[39;00m:\n\u001b[1;32m     76\u001b[0m         \u001b[38;5;28;01mif\u001b[39;00m n_jobs \u001b[38;5;241m==\u001b[39m \u001b[38;5;241m-\u001b[39m\u001b[38;5;241m1\u001b[39m:\n",
      "File \u001b[0;32m~/.local/lib/python3.12/site-packages/optuna/study/_optimize.py:160\u001b[0m, in \u001b[0;36m_optimize_sequential\u001b[0;34m(study, func, n_trials, timeout, catch, callbacks, gc_after_trial, reseed_sampler_rng, time_start, progress_bar)\u001b[0m\n\u001b[1;32m    157\u001b[0m         \u001b[38;5;28;01mbreak\u001b[39;00m\n\u001b[1;32m    159\u001b[0m \u001b[38;5;28;01mtry\u001b[39;00m:\n\u001b[0;32m--> 160\u001b[0m     frozen_trial \u001b[38;5;241m=\u001b[39m \u001b[43m_run_trial\u001b[49m\u001b[43m(\u001b[49m\u001b[43mstudy\u001b[49m\u001b[43m,\u001b[49m\u001b[43m \u001b[49m\u001b[43mfunc\u001b[49m\u001b[43m,\u001b[49m\u001b[43m \u001b[49m\u001b[43mcatch\u001b[49m\u001b[43m)\u001b[49m\n\u001b[1;32m    161\u001b[0m \u001b[38;5;28;01mfinally\u001b[39;00m:\n\u001b[1;32m    162\u001b[0m     \u001b[38;5;66;03m# The following line mitigates memory problems that can be occurred in some\u001b[39;00m\n\u001b[1;32m    163\u001b[0m     \u001b[38;5;66;03m# environments (e.g., services that use computing containers such as GitHub Actions).\u001b[39;00m\n\u001b[1;32m    164\u001b[0m     \u001b[38;5;66;03m# Please refer to the following PR for further details:\u001b[39;00m\n\u001b[1;32m    165\u001b[0m     \u001b[38;5;66;03m# https://github.com/optuna/optuna/pull/325.\u001b[39;00m\n\u001b[1;32m    166\u001b[0m     \u001b[38;5;28;01mif\u001b[39;00m gc_after_trial:\n",
      "File \u001b[0;32m~/.local/lib/python3.12/site-packages/optuna/study/_optimize.py:248\u001b[0m, in \u001b[0;36m_run_trial\u001b[0;34m(study, func, catch)\u001b[0m\n\u001b[1;32m    241\u001b[0m         \u001b[38;5;28;01massert\u001b[39;00m \u001b[38;5;28;01mFalse\u001b[39;00m, \u001b[38;5;124m\"\u001b[39m\u001b[38;5;124mShould not reach.\u001b[39m\u001b[38;5;124m\"\u001b[39m\n\u001b[1;32m    243\u001b[0m \u001b[38;5;28;01mif\u001b[39;00m (\n\u001b[1;32m    244\u001b[0m     frozen_trial\u001b[38;5;241m.\u001b[39mstate \u001b[38;5;241m==\u001b[39m TrialState\u001b[38;5;241m.\u001b[39mFAIL\n\u001b[1;32m    245\u001b[0m     \u001b[38;5;129;01mand\u001b[39;00m func_err \u001b[38;5;129;01mis\u001b[39;00m \u001b[38;5;129;01mnot\u001b[39;00m \u001b[38;5;28;01mNone\u001b[39;00m\n\u001b[1;32m    246\u001b[0m     \u001b[38;5;129;01mand\u001b[39;00m \u001b[38;5;129;01mnot\u001b[39;00m \u001b[38;5;28misinstance\u001b[39m(func_err, catch)\n\u001b[1;32m    247\u001b[0m ):\n\u001b[0;32m--> 248\u001b[0m     \u001b[38;5;28;01mraise\u001b[39;00m func_err\n\u001b[1;32m    249\u001b[0m \u001b[38;5;28;01mreturn\u001b[39;00m frozen_trial\n",
      "File \u001b[0;32m~/.local/lib/python3.12/site-packages/optuna/study/_optimize.py:197\u001b[0m, in \u001b[0;36m_run_trial\u001b[0;34m(study, func, catch)\u001b[0m\n\u001b[1;32m    195\u001b[0m \u001b[38;5;28;01mwith\u001b[39;00m get_heartbeat_thread(trial\u001b[38;5;241m.\u001b[39m_trial_id, study\u001b[38;5;241m.\u001b[39m_storage):\n\u001b[1;32m    196\u001b[0m     \u001b[38;5;28;01mtry\u001b[39;00m:\n\u001b[0;32m--> 197\u001b[0m         value_or_values \u001b[38;5;241m=\u001b[39m \u001b[43mfunc\u001b[49m\u001b[43m(\u001b[49m\u001b[43mtrial\u001b[49m\u001b[43m)\u001b[49m\n\u001b[1;32m    198\u001b[0m     \u001b[38;5;28;01mexcept\u001b[39;00m exceptions\u001b[38;5;241m.\u001b[39mTrialPruned \u001b[38;5;28;01mas\u001b[39;00m e:\n\u001b[1;32m    199\u001b[0m         \u001b[38;5;66;03m# TODO(mamu): Handle multi-objective cases.\u001b[39;00m\n\u001b[1;32m    200\u001b[0m         state \u001b[38;5;241m=\u001b[39m TrialState\u001b[38;5;241m.\u001b[39mPRUNED\n",
      "Cell \u001b[0;32mIn[27], line 40\u001b[0m, in \u001b[0;36mtcn_mdn_objective\u001b[0;34m(trial)\u001b[0m\n\u001b[1;32m     29\u001b[0m model_pth \u001b[38;5;241m=\u001b[39m \u001b[38;5;124mf\u001b[39m\u001b[38;5;124m\"\u001b[39m\u001b[38;5;124mtcn_mdn_\u001b[39m\u001b[38;5;132;01m{\u001b[39;00mtrial\u001b[38;5;241m.\u001b[39mnumber\u001b[38;5;132;01m}\u001b[39;00m\u001b[38;5;124m_checkpoint.pth\u001b[39m\u001b[38;5;124m\"\u001b[39m\n\u001b[1;32m     30\u001b[0m trainer \u001b[38;5;241m=\u001b[39m Trainer(\n\u001b[1;32m     31\u001b[0m     model\u001b[38;5;241m=\u001b[39mmodel,\n\u001b[1;32m     32\u001b[0m     criterion\u001b[38;5;241m=\u001b[39mmdn_loss,\n\u001b[0;32m   (...)\u001b[0m\n\u001b[1;32m     37\u001b[0m     batch_size\u001b[38;5;241m=\u001b[39m\u001b[38;5;241m256\u001b[39m\n\u001b[1;32m     38\u001b[0m )\n\u001b[0;32m---> 40\u001b[0m \u001b[43mtrainer\u001b[49m\u001b[38;5;241;43m.\u001b[39;49m\u001b[43mtrain\u001b[49m\u001b[43m(\u001b[49m\u001b[43mnum_epochs\u001b[49m\u001b[38;5;241;43m=\u001b[39;49m\u001b[38;5;241;43m30\u001b[39;49m\u001b[43m)\u001b[49m\n\u001b[1;32m     42\u001b[0m \u001b[38;5;28;01mreturn\u001b[39;00m trainer\u001b[38;5;241m.\u001b[39mhistory[\u001b[38;5;124m'\u001b[39m\u001b[38;5;124mval_loss\u001b[39m\u001b[38;5;124m'\u001b[39m][\u001b[38;5;241m-\u001b[39m\u001b[38;5;241m1\u001b[39m]\n",
      "Cell \u001b[0;32mIn[14], line 87\u001b[0m, in \u001b[0;36mTrainer.train\u001b[0;34m(self, num_epochs)\u001b[0m\n\u001b[1;32m     85\u001b[0m \u001b[38;5;28mprint\u001b[39m(\u001b[38;5;124m\"\u001b[39m\u001b[38;5;130;01m\\n\u001b[39;00m\u001b[38;5;124m🛑 Training interrupted by user. Saving checkpoint...\u001b[39m\u001b[38;5;124m\"\u001b[39m)\n\u001b[1;32m     86\u001b[0m \u001b[38;5;28mself\u001b[39m\u001b[38;5;241m.\u001b[39msave(epoch \u001b[38;5;241m+\u001b[39m \u001b[38;5;241m1\u001b[39m)\n\u001b[0;32m---> 87\u001b[0m \u001b[38;5;28;01mraise\u001b[39;00m \u001b[38;5;167;01mKeyboardInterrupt\u001b[39;00m \u001b[38;5;28;01mfrom\u001b[39;00m \u001b[38;5;21;01me\u001b[39;00m\n",
      "\u001b[0;31mKeyboardInterrupt\u001b[0m: "
     ]
    }
   ],
   "source": [
    "tcn_study = optuna.create_study(\n",
    "    direction=\"minimize\",\n",
    "    study_name=\"tcn_mdn_hyperparam_search\",\n",
    "    storage=f\"sqlite:///{WEIGHTS_DIR}/optuna_study.db\",\n",
    "    load_if_exists=True\n",
    ")\n",
    "tcn_study.optimize(tcn_mdn_objective, n_trials=30)"
   ]
  },
  {
   "cell_type": "code",
   "execution_count": 33,
   "id": "5813aab3",
   "metadata": {},
   "outputs": [],
   "source": [
    "class Transformer_MDN(nn.Module):\n",
    "    def __init__(self, input_dim, hidden_dim, num_heads, num_layers, num_mixtures, output_dim, dropout=0.1):\n",
    "        super().__init__()\n",
    "        self.input_proj = nn.Linear(input_dim, hidden_dim)\n",
    "        encoder_layer = nn.TransformerEncoderLayer(\n",
    "            d_model=hidden_dim,\n",
    "            nhead=num_heads,\n",
    "            dim_feedforward=hidden_dim * 4,\n",
    "            dropout=dropout,\n",
    "            batch_first=True\n",
    "        )\n",
    "\n",
    "        self.num_mixtures = num_mixtures\n",
    "        self.transformer = nn.TransformerEncoder(encoder_layer, num_layers=num_layers)\n",
    "        self.pool = nn.AdaptiveAvgPool1d(1)\n",
    "        self.mdn = MDNLayer(hidden_dim, output_dim, num_mixtures)\n",
    "\n",
    "    def forward(self, x):  # (B, T, F)\n",
    "        x = self.input_proj(x)\n",
    "        x = self.transformer(x)\n",
    "        x = x.mean(dim=1)  # average pooling over time\n",
    "        return self.mdn(x)"
   ]
  },
  {
   "cell_type": "code",
   "execution_count": 34,
   "id": "3498b752",
   "metadata": {},
   "outputs": [],
   "source": [
    "def transformer_mdn_objective(trial):\n",
    "    hidden_dim = trial.suggest_categorical(\"hidden_dim\", [64, 128, 256])\n",
    "    num_layers = trial.suggest_int(\"num_layers\", 1, 4)\n",
    "    num_heads = trial.suggest_categorical(\"num_heads\", [2, 4, 8])\n",
    "    num_mixtures = trial.suggest_int(\"num_mixtures\", 3, 8)\n",
    "    learning_rate = trial.suggest_float(\"lr\", 1e-4, 1e-2, log=True)\n",
    "    dropout = trial.suggest_float(\"dropout\", 0.0, 0.5)\n",
    "    lookback_days = trial.suggest_categorical(\"lookback_days\", [1, 2, 4])\n",
    "    step = trial.suggest_categorical(\"step\", [1, 2, 3, 4, 6])\n",
    "\n",
    "    lookback_hours = lookback_days * 24\n",
    "\n",
    "    training_dataset, validation_dataset = generate_datasets(\n",
    "        dataset_df,\n",
    "        lookback=lookback_hours,\n",
    "        delay=24,  # predict 1 day ahead\n",
    "        step=step\n",
    "    )\n",
    "\n",
    "    model = Transformer_MDN(\n",
    "        input_dim=21,\n",
    "        hidden_dim=hidden_dim,\n",
    "        num_heads=num_heads,\n",
    "        num_layers=num_layers,\n",
    "        num_mixtures=num_mixtures,\n",
    "        output_dim=7,\n",
    "        dropout=dropout\n",
    "    )\n",
    "\n",
    "    optimizer = torch.optim.Adam(model.parameters(), lr=learning_rate)\n",
    "\n",
    "    model_pth = f\"transformer_mdn_{trial.number}_checkpoint.pth\"\n",
    "    trainer = Trainer(\n",
    "        model=model,\n",
    "        criterion=mdn_loss,\n",
    "        optimizer=optimizer,\n",
    "        train_dataset=training_dataset,\n",
    "        val_dataset=validation_dataset,\n",
    "        model_pth=model_pth,\n",
    "        batch_size=256\n",
    "    )\n",
    "\n",
    "    trainer.train(num_epochs=30)\n",
    "\n",
    "    return trainer.history['val_loss'][-1]"
   ]
  },
  {
   "cell_type": "code",
   "execution_count": null,
   "id": "60b8c625",
   "metadata": {},
   "outputs": [
    {
     "name": "stderr",
     "output_type": "stream",
     "text": [
      "[I 2025-06-03 15:25:55,872] Using an existing study with name 'transformer_mdn_hyperparam_search' instead of creating a new one.\n",
      "100%|██████████| 7413/7413 [00:05<00:00, 1400.57it/s]\n",
      "100%|██████████| 4225/4225 [00:03<00:00, 1266.32it/s]\n",
      "100%|██████████| 7413/7413 [00:05<00:00, 1374.36it/s]\n",
      "100%|██████████| 4225/4225 [00:03<00:00, 1395.02it/s]\n",
      "100%|██████████| 7413/7413 [00:05<00:00, 1319.69it/s]\n",
      "100%|██████████| 4225/4225 [00:03<00:00, 1359.26it/s]\n",
      "100%|██████████| 7413/7413 [00:05<00:00, 1352.20it/s]\n",
      "100%|██████████| 4225/4225 [00:03<00:00, 1288.04it/s]\n",
      "100%|██████████| 7413/7413 [00:05<00:00, 1369.12it/s]\n",
      "100%|██████████| 4225/4225 [00:03<00:00, 1278.40it/s]\n",
      "100%|██████████| 7413/7413 [00:05<00:00, 1284.48it/s]\n",
      "100%|██████████| 4225/4225 [00:03<00:00, 1369.05it/s]\n",
      "100%|██████████| 7413/7413 [00:05<00:00, 1364.10it/s]\n",
      "100%|██████████| 4225/4225 [00:03<00:00, 1284.34it/s]\n",
      "100%|██████████| 7413/7413 [00:05<00:00, 1282.67it/s]\n",
      "100%|██████████| 4225/4225 [00:03<00:00, 1339.02it/s]\n",
      "100%|██████████| 7413/7413 [00:05<00:00, 1238.15it/s]\n",
      "100%|██████████| 4225/4225 [00:03<00:00, 1378.08it/s]\n",
      "100%|██████████| 7413/7413 [00:05<00:00, 1364.17it/s]\n",
      "100%|██████████| 4225/4225 [00:03<00:00, 1386.70it/s]\n",
      "100%|██████████| 7413/7413 [00:05<00:00, 1390.31it/s]\n",
      "100%|██████████| 4225/4225 [00:03<00:00, 1328.63it/s]\n",
      "100%|██████████| 7413/7413 [00:05<00:00, 1313.80it/s]\n",
      "100%|██████████| 4225/4225 [00:03<00:00, 1282.39it/s]\n",
      "100%|██████████| 7413/7413 [00:05<00:00, 1396.25it/s]\n",
      "100%|██████████| 4225/4225 [00:03<00:00, 1262.80it/s]\n",
      "Epoch 1: 100%|██████████| 377/377 [00:12<00:00, 29.24batch/s]\n",
      "Validation: 100%|██████████| 215/215 [00:01<00:00, 125.20batch/s]\n"
     ]
    },
    {
     "name": "stdout",
     "output_type": "stream",
     "text": [
      "Epoch 1/30 - Train Loss: 1.387886 - Val Loss: -0.894028\n"
     ]
    },
    {
     "name": "stderr",
     "output_type": "stream",
     "text": [
      "Epoch 2: 100%|██████████| 377/377 [00:12<00:00, 29.70batch/s]\n",
      "Validation: 100%|██████████| 215/215 [00:00<00:00, 226.32batch/s]\n"
     ]
    },
    {
     "name": "stdout",
     "output_type": "stream",
     "text": [
      "Epoch 2/30 - Train Loss: -0.890827 - Val Loss: -1.492693\n"
     ]
    },
    {
     "name": "stderr",
     "output_type": "stream",
     "text": [
      "Epoch 3: 100%|██████████| 377/377 [00:12<00:00, 30.01batch/s]\n",
      "Validation: 100%|██████████| 215/215 [00:01<00:00, 205.63batch/s]\n"
     ]
    },
    {
     "name": "stdout",
     "output_type": "stream",
     "text": [
      "Epoch 3/30 - Train Loss: -1.316013 - Val Loss: -1.548856\n"
     ]
    },
    {
     "name": "stderr",
     "output_type": "stream",
     "text": [
      "Epoch 4: 100%|██████████| 377/377 [00:12<00:00, 30.24batch/s]\n",
      "Validation: 100%|██████████| 215/215 [00:01<00:00, 195.33batch/s]\n"
     ]
    },
    {
     "name": "stdout",
     "output_type": "stream",
     "text": [
      "Epoch 4/30 - Train Loss: -1.536002 - Val Loss: -1.576188\n"
     ]
    },
    {
     "name": "stderr",
     "output_type": "stream",
     "text": [
      "Epoch 5: 100%|██████████| 377/377 [00:12<00:00, 29.90batch/s]\n",
      "Validation: 100%|██████████| 215/215 [00:01<00:00, 189.49batch/s]\n"
     ]
    },
    {
     "name": "stdout",
     "output_type": "stream",
     "text": [
      "Epoch 5/30 - Train Loss: -1.682162 - Val Loss: -1.668629\n"
     ]
    },
    {
     "name": "stderr",
     "output_type": "stream",
     "text": [
      "Epoch 6: 100%|██████████| 377/377 [00:13<00:00, 28.87batch/s]\n",
      "Validation: 100%|██████████| 215/215 [00:01<00:00, 193.61batch/s]\n"
     ]
    },
    {
     "name": "stdout",
     "output_type": "stream",
     "text": [
      "Epoch 6/30 - Train Loss: -1.806644 - Val Loss: -1.636861\n"
     ]
    },
    {
     "name": "stderr",
     "output_type": "stream",
     "text": [
      "Epoch 7: 100%|██████████| 377/377 [00:12<00:00, 29.96batch/s]\n",
      "Validation: 100%|██████████| 215/215 [00:00<00:00, 221.97batch/s]\n"
     ]
    },
    {
     "name": "stdout",
     "output_type": "stream",
     "text": [
      "Epoch 7/30 - Train Loss: -1.893159 - Val Loss: -1.732961\n"
     ]
    },
    {
     "name": "stderr",
     "output_type": "stream",
     "text": [
      "Epoch 8: 100%|██████████| 377/377 [00:12<00:00, 30.07batch/s]\n",
      "Validation: 100%|██████████| 215/215 [00:00<00:00, 220.00batch/s]\n"
     ]
    },
    {
     "name": "stdout",
     "output_type": "stream",
     "text": [
      "Epoch 8/30 - Train Loss: -1.974587 - Val Loss: -1.653945\n"
     ]
    },
    {
     "name": "stderr",
     "output_type": "stream",
     "text": [
      "Epoch 9: 100%|██████████| 377/377 [00:12<00:00, 30.85batch/s]\n",
      "Validation: 100%|██████████| 215/215 [00:01<00:00, 201.03batch/s]\n"
     ]
    },
    {
     "name": "stdout",
     "output_type": "stream",
     "text": [
      "Epoch 9/30 - Train Loss: -2.048742 - Val Loss: -1.600762\n"
     ]
    },
    {
     "name": "stderr",
     "output_type": "stream",
     "text": [
      "Epoch 10: 100%|██████████| 377/377 [00:12<00:00, 29.87batch/s]\n",
      "Validation: 100%|██████████| 215/215 [00:00<00:00, 222.16batch/s]\n"
     ]
    },
    {
     "name": "stdout",
     "output_type": "stream",
     "text": [
      "Epoch 10/30 - Train Loss: -2.112903 - Val Loss: -1.479978\n"
     ]
    },
    {
     "name": "stderr",
     "output_type": "stream",
     "text": [
      "Epoch 11: 100%|██████████| 377/377 [00:13<00:00, 28.51batch/s]\n",
      "Validation: 100%|██████████| 215/215 [00:00<00:00, 216.20batch/s]\n"
     ]
    },
    {
     "name": "stdout",
     "output_type": "stream",
     "text": [
      "Epoch 11/30 - Train Loss: -2.180969 - Val Loss: -1.577589\n"
     ]
    },
    {
     "name": "stderr",
     "output_type": "stream",
     "text": [
      "Epoch 12: 100%|██████████| 377/377 [00:12<00:00, 29.04batch/s]\n",
      "Validation: 100%|██████████| 215/215 [00:01<00:00, 213.84batch/s]\n"
     ]
    },
    {
     "name": "stdout",
     "output_type": "stream",
     "text": [
      "Epoch 12/30 - Train Loss: -2.241639 - Val Loss: -1.560841\n"
     ]
    },
    {
     "name": "stderr",
     "output_type": "stream",
     "text": [
      "Epoch 13: 100%|██████████| 377/377 [00:12<00:00, 29.25batch/s]\n",
      "Validation: 100%|██████████| 215/215 [00:00<00:00, 217.65batch/s]\n"
     ]
    },
    {
     "name": "stdout",
     "output_type": "stream",
     "text": [
      "Epoch 13/30 - Train Loss: -2.294576 - Val Loss: -1.526537\n"
     ]
    },
    {
     "name": "stderr",
     "output_type": "stream",
     "text": [
      "Epoch 14: 100%|██████████| 377/377 [00:12<00:00, 29.65batch/s]\n",
      "Validation: 100%|██████████| 215/215 [00:00<00:00, 241.63batch/s]\n"
     ]
    },
    {
     "name": "stdout",
     "output_type": "stream",
     "text": [
      "Epoch 14/30 - Train Loss: -2.338577 - Val Loss: -1.443903\n"
     ]
    },
    {
     "name": "stderr",
     "output_type": "stream",
     "text": [
      "Epoch 15: 100%|██████████| 377/377 [00:13<00:00, 28.95batch/s]\n",
      "Validation: 100%|██████████| 215/215 [00:00<00:00, 218.89batch/s]\n"
     ]
    },
    {
     "name": "stdout",
     "output_type": "stream",
     "text": [
      "Epoch 15/30 - Train Loss: -2.381196 - Val Loss: -1.178399\n"
     ]
    },
    {
     "name": "stderr",
     "output_type": "stream",
     "text": [
      "Epoch 16: 100%|██████████| 377/377 [00:13<00:00, 27.27batch/s]\n",
      "Validation: 100%|██████████| 215/215 [00:00<00:00, 235.57batch/s]\n"
     ]
    },
    {
     "name": "stdout",
     "output_type": "stream",
     "text": [
      "Epoch 16/30 - Train Loss: -2.422865 - Val Loss: -1.401250\n"
     ]
    },
    {
     "name": "stderr",
     "output_type": "stream",
     "text": [
      "Epoch 17: 100%|██████████| 377/377 [00:14<00:00, 25.99batch/s]\n",
      "Validation: 100%|██████████| 215/215 [00:00<00:00, 218.18batch/s]\n"
     ]
    },
    {
     "name": "stdout",
     "output_type": "stream",
     "text": [
      "Epoch 17/30 - Train Loss: -2.465440 - Val Loss: -1.471559\n"
     ]
    },
    {
     "name": "stderr",
     "output_type": "stream",
     "text": [
      "Epoch 18: 100%|██████████| 377/377 [00:13<00:00, 27.67batch/s]\n",
      "Validation: 100%|██████████| 215/215 [00:01<00:00, 203.61batch/s]\n"
     ]
    },
    {
     "name": "stdout",
     "output_type": "stream",
     "text": [
      "Epoch 18/30 - Train Loss: -2.491755 - Val Loss: -1.402634\n"
     ]
    },
    {
     "name": "stderr",
     "output_type": "stream",
     "text": [
      "Epoch 19: 100%|██████████| 377/377 [00:13<00:00, 28.65batch/s]\n",
      "Validation: 100%|██████████| 215/215 [00:00<00:00, 244.86batch/s]\n"
     ]
    },
    {
     "name": "stdout",
     "output_type": "stream",
     "text": [
      "Epoch 19/30 - Train Loss: -2.544486 - Val Loss: -1.281331\n"
     ]
    },
    {
     "name": "stderr",
     "output_type": "stream",
     "text": [
      "Epoch 20: 100%|██████████| 377/377 [00:13<00:00, 27.88batch/s]\n",
      "Validation: 100%|██████████| 215/215 [00:00<00:00, 222.48batch/s]\n"
     ]
    },
    {
     "name": "stdout",
     "output_type": "stream",
     "text": [
      "Epoch 20/30 - Train Loss: -2.577776 - Val Loss: -1.210566\n"
     ]
    },
    {
     "name": "stderr",
     "output_type": "stream",
     "text": [
      "Epoch 21: 100%|██████████| 377/377 [00:13<00:00, 27.45batch/s]\n",
      "Validation: 100%|██████████| 215/215 [00:01<00:00, 196.48batch/s]\n"
     ]
    },
    {
     "name": "stdout",
     "output_type": "stream",
     "text": [
      "Epoch 21/30 - Train Loss: -2.611676 - Val Loss: -1.172626\n"
     ]
    },
    {
     "name": "stderr",
     "output_type": "stream",
     "text": [
      "Epoch 22: 100%|██████████| 377/377 [00:13<00:00, 27.32batch/s]\n",
      "Validation: 100%|██████████| 215/215 [00:01<00:00, 214.57batch/s]\n"
     ]
    },
    {
     "name": "stdout",
     "output_type": "stream",
     "text": [
      "Epoch 22/30 - Train Loss: -2.661499 - Val Loss: -1.177321\n"
     ]
    },
    {
     "name": "stderr",
     "output_type": "stream",
     "text": [
      "Epoch 23: 100%|██████████| 377/377 [00:12<00:00, 29.23batch/s]\n",
      "Validation: 100%|██████████| 215/215 [00:00<00:00, 219.20batch/s]\n"
     ]
    },
    {
     "name": "stdout",
     "output_type": "stream",
     "text": [
      "Epoch 23/30 - Train Loss: -2.703015 - Val Loss: -1.150310\n"
     ]
    },
    {
     "name": "stderr",
     "output_type": "stream",
     "text": [
      "Epoch 24: 100%|██████████| 377/377 [00:12<00:00, 29.17batch/s]\n",
      "Validation: 100%|██████████| 215/215 [00:01<00:00, 213.68batch/s]\n"
     ]
    },
    {
     "name": "stdout",
     "output_type": "stream",
     "text": [
      "Epoch 24/30 - Train Loss: -2.732659 - Val Loss: -1.066287\n"
     ]
    },
    {
     "name": "stderr",
     "output_type": "stream",
     "text": [
      "Epoch 25: 100%|██████████| 377/377 [00:12<00:00, 29.48batch/s]\n",
      "Validation: 100%|██████████| 215/215 [00:00<00:00, 217.47batch/s]\n"
     ]
    },
    {
     "name": "stdout",
     "output_type": "stream",
     "text": [
      "Epoch 25/30 - Train Loss: -2.762535 - Val Loss: -0.729731\n"
     ]
    },
    {
     "name": "stderr",
     "output_type": "stream",
     "text": [
      "Epoch 26: 100%|██████████| 377/377 [00:13<00:00, 28.74batch/s]\n",
      "Validation: 100%|██████████| 215/215 [00:00<00:00, 216.81batch/s]\n"
     ]
    },
    {
     "name": "stdout",
     "output_type": "stream",
     "text": [
      "Epoch 26/30 - Train Loss: -2.796813 - Val Loss: -1.178509\n"
     ]
    },
    {
     "name": "stderr",
     "output_type": "stream",
     "text": [
      "Epoch 27: 100%|██████████| 377/377 [00:14<00:00, 25.79batch/s]\n",
      "Validation: 100%|██████████| 215/215 [00:00<00:00, 220.72batch/s]\n"
     ]
    },
    {
     "name": "stdout",
     "output_type": "stream",
     "text": [
      "Epoch 27/30 - Train Loss: -2.821506 - Val Loss: -0.891501\n"
     ]
    },
    {
     "name": "stderr",
     "output_type": "stream",
     "text": [
      "Epoch 28: 100%|██████████| 377/377 [00:14<00:00, 25.94batch/s]\n",
      "Validation: 100%|██████████| 215/215 [00:00<00:00, 236.60batch/s]\n"
     ]
    },
    {
     "name": "stdout",
     "output_type": "stream",
     "text": [
      "Epoch 28/30 - Train Loss: -2.880085 - Val Loss: -1.017435\n"
     ]
    },
    {
     "name": "stderr",
     "output_type": "stream",
     "text": [
      "Epoch 29: 100%|██████████| 377/377 [00:14<00:00, 25.66batch/s]\n",
      "Validation: 100%|██████████| 215/215 [00:00<00:00, 220.90batch/s]\n"
     ]
    },
    {
     "name": "stdout",
     "output_type": "stream",
     "text": [
      "Epoch 29/30 - Train Loss: -2.905529 - Val Loss: -0.993802\n"
     ]
    },
    {
     "name": "stderr",
     "output_type": "stream",
     "text": [
      "Epoch 30: 100%|██████████| 377/377 [00:14<00:00, 25.76batch/s]\n",
      "Validation: 100%|██████████| 215/215 [00:00<00:00, 215.28batch/s]\n",
      "[I 2025-06-03 15:35:06,742] Trial 1 finished with value: -0.9071690570476443 and parameters: {'hidden_dim': 64, 'num_layers': 3, 'num_heads': 4, 'num_mixtures': 4, 'lr': 0.00015328135127349324, 'dropout': 0.03831265861261829, 'lookback_days': 4, 'step': 4}. Best is trial 1 with value: -0.9071690570476443.\n"
     ]
    },
    {
     "name": "stdout",
     "output_type": "stream",
     "text": [
      "Epoch 30/30 - Train Loss: -2.944923 - Val Loss: -0.907169\n"
     ]
    },
    {
     "name": "stderr",
     "output_type": "stream",
     "text": [
      "100%|██████████| 7461/7461 [00:05<00:00, 1452.83it/s]\n",
      "100%|██████████| 4273/4273 [00:02<00:00, 1501.91it/s]\n",
      "100%|██████████| 7461/7461 [00:04<00:00, 1544.43it/s]\n",
      "100%|██████████| 4273/4273 [00:02<00:00, 1504.55it/s]\n",
      "100%|██████████| 7461/7461 [00:04<00:00, 1586.27it/s]\n",
      "100%|██████████| 4273/4273 [00:02<00:00, 1637.12it/s]\n",
      "100%|██████████| 7461/7461 [00:04<00:00, 1533.68it/s]\n",
      "100%|██████████| 4273/4273 [00:02<00:00, 1572.70it/s]\n",
      "100%|██████████| 7461/7461 [00:04<00:00, 1572.63it/s]\n",
      "100%|██████████| 4273/4273 [00:02<00:00, 1585.81it/s]\n",
      " 75%|███████▌  | 5600/7461 [00:03<00:01, 1629.18it/s]"
     ]
    }
   ],
   "source": [
    "transformer_study = optuna.create_study(\n",
    "    direction=\"minimize\",\n",
    "    study_name=\"transformer_mdn_hyperparam_search\",\n",
    "    storage=f\"sqlite:///{WEIGHTS_DIR}/optuna_study.db\",\n",
    "    load_if_exists=True\n",
    ")\n",
    "transformer_study.optimize(transformer_mdn_objective, n_trials=30)"
   ]
  }
 ],
 "metadata": {
  "kernelspec": {
   "display_name": "Python [conda env:base] *",
   "language": "python",
   "name": "conda-base-py"
  },
  "language_info": {
   "codemirror_mode": {
    "name": "ipython",
    "version": 3
   },
   "file_extension": ".py",
   "mimetype": "text/x-python",
   "name": "python",
   "nbconvert_exporter": "python",
   "pygments_lexer": "ipython3",
   "version": "3.12.8"
  }
 },
 "nbformat": 4,
 "nbformat_minor": 5
}
